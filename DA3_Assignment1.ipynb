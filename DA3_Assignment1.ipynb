{
 "cells": [
  {
   "cell_type": "markdown",
   "id": "fc8cb647",
   "metadata": {},
   "source": [
    "## Data Analysis 3: Prediction and Introduction to Machine Learning - Assignment 1"
   ]
  },
  {
   "cell_type": "code",
   "execution_count": 45,
   "id": "180c7e8a",
   "metadata": {},
   "outputs": [],
   "source": [
    "# Import necessary libraries/packages\n",
    "\n",
    "import warnings\n",
    "warnings.filterwarnings('ignore')\n",
    "\n",
    "import pandas as pd\n",
    "import seaborn as sns\n",
    "import matplotlib.pyplot as plt\n",
    "from mizani.formatters import percent_format\n",
    "import os\n",
    "from plotnine import *\n",
    "import numpy as np\n",
    "import sys\n",
    "import numpy as np\n",
    "import statsmodels.api as sm\n",
    "import statsmodels.formula.api as smf\n",
    "from stargazer import stargazer\n",
    "from statsmodels.tools.eval_measures import mse,rmse\n",
    "\n",
    "# Import the prewritten helper functions\n",
    "from py_helper_functions import *"
   ]
  },
  {
   "cell_type": "markdown",
   "id": "d6340ecb",
   "metadata": {},
   "source": [
    "### Get Data"
   ]
  },
  {
   "cell_type": "code",
   "execution_count": 46,
   "id": "579c649a",
   "metadata": {},
   "outputs": [],
   "source": [
    "# Access the data directly from the book's website\n",
    "data_earnings = pd.read_csv(\"https://osf.io/4ay9x/download\")"
   ]
  },
  {
   "cell_type": "code",
   "execution_count": 47,
   "id": "ce3e0a86",
   "metadata": {},
   "outputs": [
    {
     "data": {
      "text/plain": [
       "(149316, 23)"
      ]
     },
     "execution_count": 47,
     "metadata": {},
     "output_type": "execute_result"
    }
   ],
   "source": [
    "data_earnings.shape"
   ]
  },
  {
   "cell_type": "code",
   "execution_count": 48,
   "id": "a18d35f7",
   "metadata": {},
   "outputs": [
    {
     "data": {
      "text/plain": [
       "Index(['Unnamed: 0', 'hhid', 'intmonth', 'stfips', 'weight', 'earnwke',\n",
       "       'uhours', 'grade92', 'race', 'ethnic', 'age', 'sex', 'marital',\n",
       "       'ownchild', 'chldpres', 'prcitshp', 'state', 'ind02', 'occ2012',\n",
       "       'class', 'unionmme', 'unioncov', 'lfsr94'],\n",
       "      dtype='object')"
      ]
     },
     "execution_count": 48,
     "metadata": {},
     "output_type": "execute_result"
    }
   ],
   "source": [
    "#Check columns\n",
    "data_earnings.columns"
   ]
  },
  {
   "cell_type": "code",
   "execution_count": 49,
   "id": "def2bad0",
   "metadata": {},
   "outputs": [],
   "source": [
    "#filter the data for selected job codes\n",
    "selected_job_codes = [500,510,520,530,540,565,600,630,640,650,700,710,725,726,735,740,\n",
    "                      800, 810, 820, 830, 840, 850, 860, 900, 910, 930, 940, 950]\n",
    "\n",
    "# Business and Financial Operations Occupations\n",
    "buss_fin_occ_data = data_earnings[data_earnings['occ2012'].isin(selected_job_codes)]"
   ]
  },
  {
   "cell_type": "code",
   "execution_count": 50,
   "id": "377f9e36",
   "metadata": {},
   "outputs": [
    {
     "data": {
      "text/plain": [
       "(7326, 23)"
      ]
     },
     "execution_count": 50,
     "metadata": {},
     "output_type": "execute_result"
    }
   ],
   "source": [
    "# There are 7326 observations under \"Business and Financial Operations Occupations\" title\n",
    "buss_fin_occ_data.shape"
   ]
  },
  {
   "cell_type": "code",
   "execution_count": 51,
   "id": "324614fd",
   "metadata": {},
   "outputs": [
    {
     "data": {
      "text/html": [
       "<div>\n",
       "<style scoped>\n",
       "    .dataframe tbody tr th:only-of-type {\n",
       "        vertical-align: middle;\n",
       "    }\n",
       "\n",
       "    .dataframe tbody tr th {\n",
       "        vertical-align: top;\n",
       "    }\n",
       "\n",
       "    .dataframe thead th {\n",
       "        text-align: right;\n",
       "    }\n",
       "</style>\n",
       "<table border=\"1\" class=\"dataframe\">\n",
       "  <thead>\n",
       "    <tr style=\"text-align: right;\">\n",
       "      <th></th>\n",
       "      <th>Unnamed: 0</th>\n",
       "      <th>hhid</th>\n",
       "      <th>intmonth</th>\n",
       "      <th>stfips</th>\n",
       "      <th>weight</th>\n",
       "      <th>earnwke</th>\n",
       "      <th>uhours</th>\n",
       "      <th>grade92</th>\n",
       "      <th>race</th>\n",
       "      <th>ethnic</th>\n",
       "      <th>...</th>\n",
       "      <th>ownchild</th>\n",
       "      <th>chldpres</th>\n",
       "      <th>prcitshp</th>\n",
       "      <th>state</th>\n",
       "      <th>ind02</th>\n",
       "      <th>occ2012</th>\n",
       "      <th>class</th>\n",
       "      <th>unionmme</th>\n",
       "      <th>unioncov</th>\n",
       "      <th>lfsr94</th>\n",
       "    </tr>\n",
       "  </thead>\n",
       "  <tbody>\n",
       "    <tr>\n",
       "      <th>0</th>\n",
       "      <td>3</td>\n",
       "      <td>2600310997690</td>\n",
       "      <td>January</td>\n",
       "      <td>AL</td>\n",
       "      <td>3151.6801</td>\n",
       "      <td>1692.0</td>\n",
       "      <td>40</td>\n",
       "      <td>43</td>\n",
       "      <td>1</td>\n",
       "      <td>NaN</td>\n",
       "      <td>...</td>\n",
       "      <td>0</td>\n",
       "      <td>0</td>\n",
       "      <td>Native, Born In US</td>\n",
       "      <td>63</td>\n",
       "      <td>Employment services (5613)</td>\n",
       "      <td>630</td>\n",
       "      <td>Private, For Profit</td>\n",
       "      <td>No</td>\n",
       "      <td>No</td>\n",
       "      <td>Employed-At Work</td>\n",
       "    </tr>\n",
       "    <tr>\n",
       "      <th>22</th>\n",
       "      <td>44</td>\n",
       "      <td>954001919079770</td>\n",
       "      <td>January</td>\n",
       "      <td>AL</td>\n",
       "      <td>3677.7816</td>\n",
       "      <td>680.0</td>\n",
       "      <td>40</td>\n",
       "      <td>43</td>\n",
       "      <td>1</td>\n",
       "      <td>NaN</td>\n",
       "      <td>...</td>\n",
       "      <td>0</td>\n",
       "      <td>0</td>\n",
       "      <td>Native, Born In US</td>\n",
       "      <td>63</td>\n",
       "      <td>Non-depository credit and related activities (...</td>\n",
       "      <td>800</td>\n",
       "      <td>Private, For Profit</td>\n",
       "      <td>No</td>\n",
       "      <td>No</td>\n",
       "      <td>Employed-At Work</td>\n",
       "    </tr>\n",
       "    <tr>\n",
       "      <th>53</th>\n",
       "      <td>125</td>\n",
       "      <td>507001320102921</td>\n",
       "      <td>January</td>\n",
       "      <td>AL</td>\n",
       "      <td>3296.7986</td>\n",
       "      <td>2000.0</td>\n",
       "      <td>50</td>\n",
       "      <td>44</td>\n",
       "      <td>1</td>\n",
       "      <td>NaN</td>\n",
       "      <td>...</td>\n",
       "      <td>1</td>\n",
       "      <td>1</td>\n",
       "      <td>Native, Born In US</td>\n",
       "      <td>63</td>\n",
       "      <td>Real estate (531)</td>\n",
       "      <td>800</td>\n",
       "      <td>Private, For Profit</td>\n",
       "      <td>No</td>\n",
       "      <td>No</td>\n",
       "      <td>Employed-At Work</td>\n",
       "    </tr>\n",
       "    <tr>\n",
       "      <th>56</th>\n",
       "      <td>131</td>\n",
       "      <td>510915094903939</td>\n",
       "      <td>January</td>\n",
       "      <td>AL</td>\n",
       "      <td>3419.5125</td>\n",
       "      <td>1923.0</td>\n",
       "      <td>40</td>\n",
       "      <td>43</td>\n",
       "      <td>1</td>\n",
       "      <td>NaN</td>\n",
       "      <td>...</td>\n",
       "      <td>2</td>\n",
       "      <td>10</td>\n",
       "      <td>Native, Born In US</td>\n",
       "      <td>63</td>\n",
       "      <td>Banking and related activities (521, 52211,52219)</td>\n",
       "      <td>910</td>\n",
       "      <td>Private, For Profit</td>\n",
       "      <td>No</td>\n",
       "      <td>No</td>\n",
       "      <td>Employed-At Work</td>\n",
       "    </tr>\n",
       "    <tr>\n",
       "      <th>80</th>\n",
       "      <td>187</td>\n",
       "      <td>210033043908195</td>\n",
       "      <td>January</td>\n",
       "      <td>AL</td>\n",
       "      <td>4563.6243</td>\n",
       "      <td>280.0</td>\n",
       "      <td>32</td>\n",
       "      <td>42</td>\n",
       "      <td>1</td>\n",
       "      <td>NaN</td>\n",
       "      <td>...</td>\n",
       "      <td>0</td>\n",
       "      <td>0</td>\n",
       "      <td>Native, Born In US</td>\n",
       "      <td>63</td>\n",
       "      <td>Recreational vehicle parks and camps, and room...</td>\n",
       "      <td>800</td>\n",
       "      <td>Private, For Profit</td>\n",
       "      <td>No</td>\n",
       "      <td>No</td>\n",
       "      <td>Employed-At Work</td>\n",
       "    </tr>\n",
       "  </tbody>\n",
       "</table>\n",
       "<p>5 rows × 23 columns</p>\n",
       "</div>"
      ],
      "text/plain": [
       "    Unnamed: 0             hhid intmonth stfips     weight  earnwke  uhours  \\\n",
       "0            3    2600310997690  January     AL  3151.6801   1692.0      40   \n",
       "22          44  954001919079770  January     AL  3677.7816    680.0      40   \n",
       "53         125  507001320102921  January     AL  3296.7986   2000.0      50   \n",
       "56         131  510915094903939  January     AL  3419.5125   1923.0      40   \n",
       "80         187  210033043908195  January     AL  4563.6243    280.0      32   \n",
       "\n",
       "    grade92  race  ethnic  ...  ownchild  chldpres            prcitshp  state  \\\n",
       "0        43     1     NaN  ...         0         0  Native, Born In US     63   \n",
       "22       43     1     NaN  ...         0         0  Native, Born In US     63   \n",
       "53       44     1     NaN  ...         1         1  Native, Born In US     63   \n",
       "56       43     1     NaN  ...         2        10  Native, Born In US     63   \n",
       "80       42     1     NaN  ...         0         0  Native, Born In US     63   \n",
       "\n",
       "                                                ind02 occ2012  \\\n",
       "0                          Employment services (5613)     630   \n",
       "22  Non-depository credit and related activities (...     800   \n",
       "53                                  Real estate (531)     800   \n",
       "56  Banking and related activities (521, 52211,52219)     910   \n",
       "80  Recreational vehicle parks and camps, and room...     800   \n",
       "\n",
       "                  class unionmme  unioncov            lfsr94  \n",
       "0   Private, For Profit       No        No  Employed-At Work  \n",
       "22  Private, For Profit       No        No  Employed-At Work  \n",
       "53  Private, For Profit       No        No  Employed-At Work  \n",
       "56  Private, For Profit       No        No  Employed-At Work  \n",
       "80  Private, For Profit       No        No  Employed-At Work  \n",
       "\n",
       "[5 rows x 23 columns]"
      ]
     },
     "execution_count": 51,
     "metadata": {},
     "output_type": "execute_result"
    }
   ],
   "source": [
    "buss_fin_occ_data.head()\n",
    "# With a quick look, we see there are NaN values in the data. We need to handle these in next steps"
   ]
  },
  {
   "cell_type": "code",
   "execution_count": 52,
   "id": "a1d76f52",
   "metadata": {},
   "outputs": [
    {
     "name": "stdout",
     "output_type": "stream",
     "text": [
      "<class 'pandas.core.frame.DataFrame'>\n",
      "Index: 7326 entries, 0 to 149296\n",
      "Data columns (total 23 columns):\n",
      " #   Column      Non-Null Count  Dtype  \n",
      "---  ------      --------------  -----  \n",
      " 0   Unnamed: 0  7326 non-null   int64  \n",
      " 1   hhid        7326 non-null   int64  \n",
      " 2   intmonth    7326 non-null   object \n",
      " 3   stfips      7326 non-null   object \n",
      " 4   weight      7326 non-null   float64\n",
      " 5   earnwke     7326 non-null   float64\n",
      " 6   uhours      7326 non-null   int64  \n",
      " 7   grade92     7326 non-null   int64  \n",
      " 8   race        7326 non-null   int64  \n",
      " 9   ethnic      509 non-null    float64\n",
      " 10  age         7326 non-null   int64  \n",
      " 11  sex         7326 non-null   int64  \n",
      " 12  marital     7326 non-null   int64  \n",
      " 13  ownchild    7326 non-null   int64  \n",
      " 14  chldpres    7326 non-null   int64  \n",
      " 15  prcitshp    7326 non-null   object \n",
      " 16  state       7326 non-null   object \n",
      " 17  ind02       7326 non-null   object \n",
      " 18  occ2012     7326 non-null   int64  \n",
      " 19  class       7326 non-null   object \n",
      " 20  unionmme    7326 non-null   object \n",
      " 21  unioncov    6940 non-null   object \n",
      " 22  lfsr94      7326 non-null   object \n",
      "dtypes: float64(3), int64(11), object(9)\n",
      "memory usage: 1.3+ MB\n"
     ]
    }
   ],
   "source": [
    "buss_fin_occ_data.info()\n",
    "\n",
    "# There are float64(3), int64(11) and object(9) type columns in the data"
   ]
  },
  {
   "cell_type": "markdown",
   "id": "42a213c1",
   "metadata": {},
   "source": [
    "### Exploratory Data Analysis (EDA)"
   ]
  },
  {
   "cell_type": "markdown",
   "id": "a9d8152c",
   "metadata": {},
   "source": [
    "First of all, we would like to know what does each column represent. In other words, we will shortly introduce the data in each column (i.e. variable labels).\n",
    "\n",
    "* `Unnamed`: An already existing index column in raw data. We will drop it in the next step.\n",
    "* `hhid`: Household ID\n",
    "* `intmonth`: Interview calendar month\n",
    "* `stfips`: State FIPS codes\n",
    "* `weight`: This is the Final Weight. The sum of the Final Weights in each monthly survey is the US non-institutional population.\n",
    "* `earnwke`: Weakly earnings\n",
    "* `uhours`: Usual work hours per week\n",
    "* `grade92`: Highest grade attended\n",
    "* `race`: Race\n",
    "* `ethnic`: Ethnicity\n",
    "* `age`: Age\n",
    "* `sex`: Gender\n",
    "* `marital`: Marital status\n",
    "* `ownchild`: Number of own children less than 18 in primary family\n",
    "* `chldpres`: Presence of own children less than 18 in primary family\n",
    "* `prcitshp`: Citizenship status\n",
    "* `state`: State\n",
    "* `ind02`: 3-digit NAICS-based industry code \n",
    "* `occ2012`: Occupational code (census 2010 classification)\n",
    "* `class`: Class of worker\n",
    "* `unionmme`: Union member\n",
    "* `unioncov`: Covered by a union contract\n",
    "* `lfsr94`: Employment status recode\n"
   ]
  },
  {
   "cell_type": "code",
   "execution_count": 53,
   "id": "8aa7c4c6",
   "metadata": {},
   "outputs": [
    {
     "data": {
      "text/plain": [
       "Index(['ethnic', 'unioncov'], dtype='object')"
      ]
     },
     "execution_count": 53,
     "metadata": {},
     "output_type": "execute_result"
    }
   ],
   "source": [
    "# Check missing variables\n",
    "to_filter = buss_fin_occ_data.isna().sum()\n",
    "to_filter[to_filter>0].index\n",
    "# We have missing values in two columns"
   ]
  },
  {
   "cell_type": "code",
   "execution_count": 54,
   "id": "e6c676f6",
   "metadata": {},
   "outputs": [
    {
     "data": {
      "text/plain": [
       "Unnamed: 0       0\n",
       "hhid             0\n",
       "intmonth         0\n",
       "stfips           0\n",
       "weight           0\n",
       "earnwke          0\n",
       "uhours           0\n",
       "grade92          0\n",
       "race             0\n",
       "ethnic        6817\n",
       "age              0\n",
       "sex              0\n",
       "marital          0\n",
       "ownchild         0\n",
       "chldpres         0\n",
       "prcitshp         0\n",
       "state            0\n",
       "ind02            0\n",
       "occ2012          0\n",
       "class            0\n",
       "unionmme         0\n",
       "unioncov       386\n",
       "lfsr94           0\n",
       "dtype: int64"
      ]
     },
     "execution_count": 54,
     "metadata": {},
     "output_type": "execute_result"
    }
   ],
   "source": [
    "to_filter"
   ]
  },
  {
   "cell_type": "markdown",
   "id": "33c6eb34",
   "metadata": {},
   "source": [
    "Since we have 7,326 entries in selected job title and 6,817 missing values in `ethnic` column (approximately 93% missing values), it would be wise to drop this column."
   ]
  },
  {
   "cell_type": "markdown",
   "id": "47ca5f4b",
   "metadata": {},
   "source": [
    "##### Columns: Unnamed,  hhid, intmonth, ethnic"
   ]
  },
  {
   "cell_type": "code",
   "execution_count": 55,
   "id": "144a6e8d",
   "metadata": {},
   "outputs": [],
   "source": [
    "# Drop 'ethnic' column due to high rate of missing values\n",
    "buss_fin_occ_data = buss_fin_occ_data.drop([\"ethnic\"],axis=1)\n",
    "\n",
    "# Drop 'unnamed' column (it was an index column in original data)\n",
    "buss_fin_occ_data = buss_fin_occ_data.drop([\"Unnamed: 0\"],axis=1)\n",
    "\n",
    "# Drop 'hhid' column (id column will not help us in the analysis)\n",
    "buss_fin_occ_data = buss_fin_occ_data.drop([\"hhid\"],axis=1)\n",
    "\n",
    "# Drop 'intmonth' column (interview month does not make sense to use since data is not time series but cross-sectional)\n",
    "buss_fin_occ_data = buss_fin_occ_data.drop([\"intmonth\"],axis=1)"
   ]
  },
  {
   "cell_type": "markdown",
   "id": "e49cb1d2",
   "metadata": {},
   "source": [
    "##### Columns: stfips, state"
   ]
  },
  {
   "cell_type": "code",
   "execution_count": 56,
   "id": "0345512c",
   "metadata": {},
   "outputs": [
    {
     "data": {
      "text/plain": [
       "array(['63', '94', '86', '71', '93', '84', 'CT', '51', '53', '59', '58',\n",
       "       '95', '82', 'IL', 'IN', 'IA', '47', '61', '72', 'ME', '52', 'MA',\n",
       "       'MI', 'MN', '64', 'MO', '81', '46', '88', 'NH', 'NJ', '85', 'NY',\n",
       "       '56', 'ND', 'OH', '73', '92', 'PA', 'RI', '57', 'SD', '62', '74',\n",
       "       '87', 'VT', '54', '91', 'WI', '83', '55', '6', '9', '8', '7', '1',\n",
       "       '5', '3', '4', '2', 4, 6, 7, 1, 5, 3, 8, 2, 9], dtype=object)"
      ]
     },
     "execution_count": 56,
     "metadata": {},
     "output_type": "execute_result"
    }
   ],
   "source": [
    "# Values in 'state' column are irregularly labeled. Insted of this column we may use 'stfips', which has state codes.\n",
    "buss_fin_occ_data.state.unique()"
   ]
  },
  {
   "cell_type": "code",
   "execution_count": 57,
   "id": "8a7920f5",
   "metadata": {},
   "outputs": [],
   "source": [
    "# Drop 'state' column due to irregularity mentioned above\n",
    "buss_fin_occ_data = buss_fin_occ_data.drop([\"state\"],axis=1)"
   ]
  },
  {
   "cell_type": "markdown",
   "id": "c1c51be7",
   "metadata": {},
   "source": [
    "##### Columns: weight"
   ]
  },
  {
   "cell_type": "code",
   "execution_count": 58,
   "id": "1d222d00",
   "metadata": {},
   "outputs": [],
   "source": [
    "# Drop 'weight' column (it is thuoughy to be unrelated for estimating hourly wages)\n",
    "buss_fin_occ_data = buss_fin_occ_data.drop([\"weight\"],axis=1)"
   ]
  },
  {
   "cell_type": "markdown",
   "id": "0fba0685",
   "metadata": {},
   "source": [
    "##### Columns: earnwke, uhours"
   ]
  },
  {
   "cell_type": "code",
   "execution_count": 59,
   "id": "dfd65a8c",
   "metadata": {},
   "outputs": [],
   "source": [
    "# Now create 'earnings per hour' variable\n",
    "buss_fin_occ_data[\"earnings_per_hour\"] = buss_fin_occ_data[\"earnwke\"] / buss_fin_occ_data[\"uhours\"]"
   ]
  },
  {
   "cell_type": "code",
   "execution_count": 60,
   "id": "5cd2b808",
   "metadata": {},
   "outputs": [
    {
     "data": {
      "text/plain": [
       "count    7326.000000\n",
       "mean       29.535976\n",
       "std        17.345381\n",
       "min         0.000500\n",
       "25%        18.269000\n",
       "50%        25.640889\n",
       "75%        37.019000\n",
       "max       500.000000\n",
       "Name: earnings_per_hour, dtype: float64"
      ]
     },
     "execution_count": 60,
     "metadata": {},
     "output_type": "execute_result"
    }
   ],
   "source": [
    "# Now check summary statistics of the 'earnings per hour' variable\n",
    "buss_fin_occ_data[\"earnings_per_hour\"].describe()"
   ]
  },
  {
   "cell_type": "markdown",
   "id": "6179d17a",
   "metadata": {},
   "source": [
    "Although mean and median values are around 25-30 USD, there seem to be extreme values on both sides (the min and max values are extreme). We will keep them since we don't know whether they are wrong measurement/observations."
   ]
  },
  {
   "cell_type": "code",
   "execution_count": 61,
   "id": "21fa1029",
   "metadata": {},
   "outputs": [
    {
     "data": {
      "text/html": [
       "<div>\n",
       "<style scoped>\n",
       "    .dataframe tbody tr th:only-of-type {\n",
       "        vertical-align: middle;\n",
       "    }\n",
       "\n",
       "    .dataframe tbody tr th {\n",
       "        vertical-align: top;\n",
       "    }\n",
       "\n",
       "    .dataframe thead th {\n",
       "        text-align: right;\n",
       "    }\n",
       "</style>\n",
       "<table border=\"1\" class=\"dataframe\">\n",
       "  <thead>\n",
       "    <tr style=\"text-align: right;\">\n",
       "      <th></th>\n",
       "      <th>stfips</th>\n",
       "      <th>earnwke</th>\n",
       "      <th>uhours</th>\n",
       "      <th>grade92</th>\n",
       "      <th>race</th>\n",
       "      <th>age</th>\n",
       "      <th>sex</th>\n",
       "      <th>marital</th>\n",
       "      <th>ownchild</th>\n",
       "      <th>chldpres</th>\n",
       "      <th>prcitshp</th>\n",
       "      <th>ind02</th>\n",
       "      <th>occ2012</th>\n",
       "      <th>class</th>\n",
       "      <th>unionmme</th>\n",
       "      <th>unioncov</th>\n",
       "      <th>lfsr94</th>\n",
       "      <th>earnings_per_hour</th>\n",
       "    </tr>\n",
       "  </thead>\n",
       "  <tbody>\n",
       "    <tr>\n",
       "      <th>0</th>\n",
       "      <td>AL</td>\n",
       "      <td>1692.0</td>\n",
       "      <td>40</td>\n",
       "      <td>43</td>\n",
       "      <td>1</td>\n",
       "      <td>29</td>\n",
       "      <td>2</td>\n",
       "      <td>7</td>\n",
       "      <td>0</td>\n",
       "      <td>0</td>\n",
       "      <td>Native, Born In US</td>\n",
       "      <td>Employment services (5613)</td>\n",
       "      <td>630</td>\n",
       "      <td>Private, For Profit</td>\n",
       "      <td>No</td>\n",
       "      <td>No</td>\n",
       "      <td>Employed-At Work</td>\n",
       "      <td>42.300</td>\n",
       "    </tr>\n",
       "    <tr>\n",
       "      <th>22</th>\n",
       "      <td>AL</td>\n",
       "      <td>680.0</td>\n",
       "      <td>40</td>\n",
       "      <td>43</td>\n",
       "      <td>1</td>\n",
       "      <td>27</td>\n",
       "      <td>1</td>\n",
       "      <td>7</td>\n",
       "      <td>0</td>\n",
       "      <td>0</td>\n",
       "      <td>Native, Born In US</td>\n",
       "      <td>Non-depository credit and related activities (...</td>\n",
       "      <td>800</td>\n",
       "      <td>Private, For Profit</td>\n",
       "      <td>No</td>\n",
       "      <td>No</td>\n",
       "      <td>Employed-At Work</td>\n",
       "      <td>17.000</td>\n",
       "    </tr>\n",
       "    <tr>\n",
       "      <th>53</th>\n",
       "      <td>AL</td>\n",
       "      <td>2000.0</td>\n",
       "      <td>50</td>\n",
       "      <td>44</td>\n",
       "      <td>1</td>\n",
       "      <td>48</td>\n",
       "      <td>1</td>\n",
       "      <td>1</td>\n",
       "      <td>1</td>\n",
       "      <td>1</td>\n",
       "      <td>Native, Born In US</td>\n",
       "      <td>Real estate (531)</td>\n",
       "      <td>800</td>\n",
       "      <td>Private, For Profit</td>\n",
       "      <td>No</td>\n",
       "      <td>No</td>\n",
       "      <td>Employed-At Work</td>\n",
       "      <td>40.000</td>\n",
       "    </tr>\n",
       "    <tr>\n",
       "      <th>56</th>\n",
       "      <td>AL</td>\n",
       "      <td>1923.0</td>\n",
       "      <td>40</td>\n",
       "      <td>43</td>\n",
       "      <td>1</td>\n",
       "      <td>47</td>\n",
       "      <td>1</td>\n",
       "      <td>5</td>\n",
       "      <td>2</td>\n",
       "      <td>10</td>\n",
       "      <td>Native, Born In US</td>\n",
       "      <td>Banking and related activities (521, 52211,52219)</td>\n",
       "      <td>910</td>\n",
       "      <td>Private, For Profit</td>\n",
       "      <td>No</td>\n",
       "      <td>No</td>\n",
       "      <td>Employed-At Work</td>\n",
       "      <td>48.075</td>\n",
       "    </tr>\n",
       "    <tr>\n",
       "      <th>80</th>\n",
       "      <td>AL</td>\n",
       "      <td>280.0</td>\n",
       "      <td>32</td>\n",
       "      <td>42</td>\n",
       "      <td>1</td>\n",
       "      <td>24</td>\n",
       "      <td>1</td>\n",
       "      <td>7</td>\n",
       "      <td>0</td>\n",
       "      <td>0</td>\n",
       "      <td>Native, Born In US</td>\n",
       "      <td>Recreational vehicle parks and camps, and room...</td>\n",
       "      <td>800</td>\n",
       "      <td>Private, For Profit</td>\n",
       "      <td>No</td>\n",
       "      <td>No</td>\n",
       "      <td>Employed-At Work</td>\n",
       "      <td>8.750</td>\n",
       "    </tr>\n",
       "  </tbody>\n",
       "</table>\n",
       "</div>"
      ],
      "text/plain": [
       "   stfips  earnwke  uhours  grade92  race  age  sex  marital  ownchild  \\\n",
       "0      AL   1692.0      40       43     1   29    2        7         0   \n",
       "22     AL    680.0      40       43     1   27    1        7         0   \n",
       "53     AL   2000.0      50       44     1   48    1        1         1   \n",
       "56     AL   1923.0      40       43     1   47    1        5         2   \n",
       "80     AL    280.0      32       42     1   24    1        7         0   \n",
       "\n",
       "    chldpres            prcitshp  \\\n",
       "0          0  Native, Born In US   \n",
       "22         0  Native, Born In US   \n",
       "53         1  Native, Born In US   \n",
       "56        10  Native, Born In US   \n",
       "80         0  Native, Born In US   \n",
       "\n",
       "                                                ind02  occ2012  \\\n",
       "0                          Employment services (5613)      630   \n",
       "22  Non-depository credit and related activities (...      800   \n",
       "53                                  Real estate (531)      800   \n",
       "56  Banking and related activities (521, 52211,52219)      910   \n",
       "80  Recreational vehicle parks and camps, and room...      800   \n",
       "\n",
       "                  class unionmme unioncov            lfsr94  earnings_per_hour  \n",
       "0   Private, For Profit       No       No  Employed-At Work             42.300  \n",
       "22  Private, For Profit       No       No  Employed-At Work             17.000  \n",
       "53  Private, For Profit       No       No  Employed-At Work             40.000  \n",
       "56  Private, For Profit       No       No  Employed-At Work             48.075  \n",
       "80  Private, For Profit       No       No  Employed-At Work              8.750  "
      ]
     },
     "execution_count": 61,
     "metadata": {},
     "output_type": "execute_result"
    }
   ],
   "source": [
    "buss_fin_occ_data.head()"
   ]
  },
  {
   "cell_type": "code",
   "execution_count": 62,
   "id": "ba21543d",
   "metadata": {},
   "outputs": [
    {
     "data": {
      "image/png": "[encoded data removed]",
      "text/plain": [
       "<Figure size 640x480 with 1 Axes>"
      ]
     },
     "metadata": {
      "image/png": {
       "height": 480,
       "width": 640
      }
     },
     "output_type": "display_data"
    },
    {
     "data": {
      "text/plain": [
       "<Figure Size: (640 x 480)>"
      ]
     },
     "execution_count": 62,
     "metadata": {},
     "output_type": "execute_result"
    }
   ],
   "source": [
    "(\n",
    "    ggplot(buss_fin_occ_data, aes(x=\"earnings_per_hour\", y=\"stat(count)/sum(stat(count))\"))\n",
    "    + geom_histogram(\n",
    "        binwidth=3,\n",
    "        boundary=0,\n",
    "        color=\"white\",\n",
    "        fill= \"#00abff\",\n",
    "        size=0.25,\n",
    "        alpha=0.8,\n",
    "        show_legend=False,\n",
    "        na_rm=True,\n",
    "    )\n",
    "    + labs(x=\"Hourly earnings\", y=\"Percent\")\n",
    "    + expand_limits(x=0.01, y=0.01)\n",
    "    + scale_x_continuous(expand=(0.01, 0.01), limits=(0, 100), breaks=seq(0, 100, 5))\n",
    "    + scale_y_continuous(\n",
    "        labels=percent_format(), #mizani\n",
    "        breaks=seq(0, 0.12, 0.02),\n",
    "        limits=(0, 0.12),\n",
    "        expand=(0.0, 0.0),\n",
    "    )\n",
    "    + theme_bw()\n",
    ")"
   ]
  },
  {
   "cell_type": "markdown",
   "id": "82868fd3",
   "metadata": {},
   "source": [
    "##### Columns: grade92"
   ]
  },
  {
   "cell_type": "code",
   "execution_count": 19,
   "id": "ca5a5a17",
   "metadata": {},
   "outputs": [
    {
     "data": {
      "text/html": [
       "<div>\n",
       "<style scoped>\n",
       "    .dataframe tbody tr th:only-of-type {\n",
       "        vertical-align: middle;\n",
       "    }\n",
       "\n",
       "    .dataframe tbody tr th {\n",
       "        vertical-align: top;\n",
       "    }\n",
       "\n",
       "    .dataframe thead th {\n",
       "        text-align: right;\n",
       "    }\n",
       "</style>\n",
       "<table border=\"1\" class=\"dataframe\">\n",
       "  <thead>\n",
       "    <tr style=\"text-align: right;\">\n",
       "      <th></th>\n",
       "      <th>frequency</th>\n",
       "      <th>percent</th>\n",
       "      <th>cumulative_percent</th>\n",
       "    </tr>\n",
       "    <tr>\n",
       "      <th>grade92</th>\n",
       "      <th></th>\n",
       "      <th></th>\n",
       "      <th></th>\n",
       "    </tr>\n",
       "  </thead>\n",
       "  <tbody>\n",
       "    <tr>\n",
       "      <th>31</th>\n",
       "      <td>1</td>\n",
       "      <td>0.014</td>\n",
       "      <td>0.014</td>\n",
       "    </tr>\n",
       "    <tr>\n",
       "      <th>32</th>\n",
       "      <td>4</td>\n",
       "      <td>0.055</td>\n",
       "      <td>0.069</td>\n",
       "    </tr>\n",
       "    <tr>\n",
       "      <th>33</th>\n",
       "      <td>1</td>\n",
       "      <td>0.014</td>\n",
       "      <td>0.083</td>\n",
       "    </tr>\n",
       "    <tr>\n",
       "      <th>34</th>\n",
       "      <td>3</td>\n",
       "      <td>0.041</td>\n",
       "      <td>0.124</td>\n",
       "    </tr>\n",
       "    <tr>\n",
       "      <th>35</th>\n",
       "      <td>3</td>\n",
       "      <td>0.041</td>\n",
       "      <td>0.165</td>\n",
       "    </tr>\n",
       "    <tr>\n",
       "      <th>36</th>\n",
       "      <td>9</td>\n",
       "      <td>0.123</td>\n",
       "      <td>0.288</td>\n",
       "    </tr>\n",
       "    <tr>\n",
       "      <th>37</th>\n",
       "      <td>15</td>\n",
       "      <td>0.205</td>\n",
       "      <td>0.493</td>\n",
       "    </tr>\n",
       "    <tr>\n",
       "      <th>38</th>\n",
       "      <td>19</td>\n",
       "      <td>0.259</td>\n",
       "      <td>0.752</td>\n",
       "    </tr>\n",
       "    <tr>\n",
       "      <th>39</th>\n",
       "      <td>751</td>\n",
       "      <td>10.251</td>\n",
       "      <td>11.003</td>\n",
       "    </tr>\n",
       "    <tr>\n",
       "      <th>40</th>\n",
       "      <td>955</td>\n",
       "      <td>13.036</td>\n",
       "      <td>24.039</td>\n",
       "    </tr>\n",
       "    <tr>\n",
       "      <th>41</th>\n",
       "      <td>232</td>\n",
       "      <td>3.167</td>\n",
       "      <td>27.206</td>\n",
       "    </tr>\n",
       "    <tr>\n",
       "      <th>42</th>\n",
       "      <td>482</td>\n",
       "      <td>6.579</td>\n",
       "      <td>33.785</td>\n",
       "    </tr>\n",
       "    <tr>\n",
       "      <th>43</th>\n",
       "      <td>3522</td>\n",
       "      <td>48.075</td>\n",
       "      <td>81.860</td>\n",
       "    </tr>\n",
       "    <tr>\n",
       "      <th>44</th>\n",
       "      <td>1186</td>\n",
       "      <td>16.189</td>\n",
       "      <td>98.049</td>\n",
       "    </tr>\n",
       "    <tr>\n",
       "      <th>45</th>\n",
       "      <td>75</td>\n",
       "      <td>1.024</td>\n",
       "      <td>99.073</td>\n",
       "    </tr>\n",
       "    <tr>\n",
       "      <th>46</th>\n",
       "      <td>68</td>\n",
       "      <td>0.928</td>\n",
       "      <td>100.001</td>\n",
       "    </tr>\n",
       "  </tbody>\n",
       "</table>\n",
       "</div>"
      ],
      "text/plain": [
       "         frequency  percent  cumulative_percent\n",
       "grade92                                        \n",
       "31               1    0.014               0.014\n",
       "32               4    0.055               0.069\n",
       "33               1    0.014               0.083\n",
       "34               3    0.041               0.124\n",
       "35               3    0.041               0.165\n",
       "36               9    0.123               0.288\n",
       "37              15    0.205               0.493\n",
       "38              19    0.259               0.752\n",
       "39             751   10.251              11.003\n",
       "40             955   13.036              24.039\n",
       "41             232    3.167              27.206\n",
       "42             482    6.579              33.785\n",
       "43            3522   48.075              81.860\n",
       "44            1186   16.189              98.049\n",
       "45              75    1.024              99.073\n",
       "46              68    0.928             100.001"
      ]
     },
     "execution_count": 19,
     "metadata": {},
     "output_type": "execute_result"
    }
   ],
   "source": [
    "# check frequencies by 'grade92'\n",
    "freq = buss_fin_occ_data.groupby(\"grade92\").agg(frequency=(\"grade92\", \"size\"))\n",
    "freq[\"percent\"] = round(freq[\"frequency\"] / sum(freq[\"frequency\"]) * 100, 3)\n",
    "freq[\"cumulative_percent\"] = np.cumsum(freq[\"percent\"])\n",
    "freq"
   ]
  },
  {
   "cell_type": "markdown",
   "id": "ec434a6d",
   "metadata": {},
   "source": [
    "Since the majority of the data has education labels between \"39-High school graduate\" and \"44-Master's degree\", we will exclude the remaining rows and keep rows that has values in range 39-44."
   ]
  },
  {
   "cell_type": "code",
   "execution_count": 20,
   "id": "90ccca3f",
   "metadata": {},
   "outputs": [],
   "source": [
    "# Filter the data based on 'grade92' column\n",
    "buss_fin_occ_data = buss_fin_occ_data.query(\"grade92>=39 & grade92<=44\")"
   ]
  },
  {
   "cell_type": "markdown",
   "id": "ce374190",
   "metadata": {},
   "source": [
    "##### Columns: race"
   ]
  },
  {
   "cell_type": "code",
   "execution_count": 21,
   "id": "19817d65",
   "metadata": {},
   "outputs": [
    {
     "data": {
      "text/html": [
       "<div>\n",
       "<style scoped>\n",
       "    .dataframe tbody tr th:only-of-type {\n",
       "        vertical-align: middle;\n",
       "    }\n",
       "\n",
       "    .dataframe tbody tr th {\n",
       "        vertical-align: top;\n",
       "    }\n",
       "\n",
       "    .dataframe thead th {\n",
       "        text-align: right;\n",
       "    }\n",
       "</style>\n",
       "<table border=\"1\" class=\"dataframe\">\n",
       "  <thead>\n",
       "    <tr style=\"text-align: right;\">\n",
       "      <th></th>\n",
       "      <th>frequency</th>\n",
       "      <th>percent</th>\n",
       "      <th>cumulative_percent</th>\n",
       "    </tr>\n",
       "    <tr>\n",
       "      <th>race</th>\n",
       "      <th></th>\n",
       "      <th></th>\n",
       "      <th></th>\n",
       "    </tr>\n",
       "  </thead>\n",
       "  <tbody>\n",
       "    <tr>\n",
       "      <th>1</th>\n",
       "      <td>5902</td>\n",
       "      <td>82.800</td>\n",
       "      <td>82.800</td>\n",
       "    </tr>\n",
       "    <tr>\n",
       "      <th>2</th>\n",
       "      <td>578</td>\n",
       "      <td>8.109</td>\n",
       "      <td>90.909</td>\n",
       "    </tr>\n",
       "    <tr>\n",
       "      <th>3</th>\n",
       "      <td>40</td>\n",
       "      <td>0.561</td>\n",
       "      <td>91.470</td>\n",
       "    </tr>\n",
       "    <tr>\n",
       "      <th>4</th>\n",
       "      <td>486</td>\n",
       "      <td>6.818</td>\n",
       "      <td>98.288</td>\n",
       "    </tr>\n",
       "    <tr>\n",
       "      <th>5</th>\n",
       "      <td>19</td>\n",
       "      <td>0.267</td>\n",
       "      <td>98.555</td>\n",
       "    </tr>\n",
       "    <tr>\n",
       "      <th>6</th>\n",
       "      <td>26</td>\n",
       "      <td>0.365</td>\n",
       "      <td>98.920</td>\n",
       "    </tr>\n",
       "    <tr>\n",
       "      <th>7</th>\n",
       "      <td>27</td>\n",
       "      <td>0.379</td>\n",
       "      <td>99.299</td>\n",
       "    </tr>\n",
       "    <tr>\n",
       "      <th>8</th>\n",
       "      <td>25</td>\n",
       "      <td>0.351</td>\n",
       "      <td>99.650</td>\n",
       "    </tr>\n",
       "    <tr>\n",
       "      <th>9</th>\n",
       "      <td>4</td>\n",
       "      <td>0.056</td>\n",
       "      <td>99.706</td>\n",
       "    </tr>\n",
       "    <tr>\n",
       "      <th>10</th>\n",
       "      <td>7</td>\n",
       "      <td>0.098</td>\n",
       "      <td>99.804</td>\n",
       "    </tr>\n",
       "    <tr>\n",
       "      <th>11</th>\n",
       "      <td>1</td>\n",
       "      <td>0.014</td>\n",
       "      <td>99.818</td>\n",
       "    </tr>\n",
       "    <tr>\n",
       "      <th>15</th>\n",
       "      <td>4</td>\n",
       "      <td>0.056</td>\n",
       "      <td>99.874</td>\n",
       "    </tr>\n",
       "    <tr>\n",
       "      <th>16</th>\n",
       "      <td>4</td>\n",
       "      <td>0.056</td>\n",
       "      <td>99.930</td>\n",
       "    </tr>\n",
       "    <tr>\n",
       "      <th>19</th>\n",
       "      <td>1</td>\n",
       "      <td>0.014</td>\n",
       "      <td>99.944</td>\n",
       "    </tr>\n",
       "    <tr>\n",
       "      <th>21</th>\n",
       "      <td>3</td>\n",
       "      <td>0.042</td>\n",
       "      <td>99.986</td>\n",
       "    </tr>\n",
       "    <tr>\n",
       "      <th>23</th>\n",
       "      <td>1</td>\n",
       "      <td>0.014</td>\n",
       "      <td>100.000</td>\n",
       "    </tr>\n",
       "  </tbody>\n",
       "</table>\n",
       "</div>"
      ],
      "text/plain": [
       "      frequency  percent  cumulative_percent\n",
       "race                                        \n",
       "1          5902   82.800              82.800\n",
       "2           578    8.109              90.909\n",
       "3            40    0.561              91.470\n",
       "4           486    6.818              98.288\n",
       "5            19    0.267              98.555\n",
       "6            26    0.365              98.920\n",
       "7            27    0.379              99.299\n",
       "8            25    0.351              99.650\n",
       "9             4    0.056              99.706\n",
       "10            7    0.098              99.804\n",
       "11            1    0.014              99.818\n",
       "15            4    0.056              99.874\n",
       "16            4    0.056              99.930\n",
       "19            1    0.014              99.944\n",
       "21            3    0.042              99.986\n",
       "23            1    0.014             100.000"
      ]
     },
     "execution_count": 21,
     "metadata": {},
     "output_type": "execute_result"
    }
   ],
   "source": [
    "# check frequencies by 'race'\n",
    "freq = buss_fin_occ_data.groupby(\"race\").agg(frequency=(\"race\", \"size\"))\n",
    "freq[\"percent\"] = round(freq[\"frequency\"] / sum(freq[\"frequency\"]) * 100, 3)\n",
    "freq[\"cumulative_percent\"] = np.cumsum(freq[\"percent\"])\n",
    "freq"
   ]
  },
  {
   "cell_type": "markdown",
   "id": "de98388f",
   "metadata": {},
   "source": [
    "Since the majority of variable `race` is falls under lable 'White', we will not use this variable in our analysis."
   ]
  },
  {
   "cell_type": "raw",
   "id": "cb4e68e2",
   "metadata": {},
   "source": [
    "# Drop 'race' column \n",
    "buss_fin_occ_data = buss_fin_occ_data.drop([\"race\"],axis=1)"
   ]
  },
  {
   "cell_type": "markdown",
   "id": "0d95afe3",
   "metadata": {},
   "source": [
    "##### Columns: sex"
   ]
  },
  {
   "cell_type": "code",
   "execution_count": 22,
   "id": "b4be859b",
   "metadata": {},
   "outputs": [
    {
     "data": {
      "text/html": [
       "<div>\n",
       "<style scoped>\n",
       "    .dataframe tbody tr th:only-of-type {\n",
       "        vertical-align: middle;\n",
       "    }\n",
       "\n",
       "    .dataframe tbody tr th {\n",
       "        vertical-align: top;\n",
       "    }\n",
       "\n",
       "    .dataframe thead th {\n",
       "        text-align: right;\n",
       "    }\n",
       "</style>\n",
       "<table border=\"1\" class=\"dataframe\">\n",
       "  <thead>\n",
       "    <tr style=\"text-align: right;\">\n",
       "      <th></th>\n",
       "      <th>frequency</th>\n",
       "      <th>percent</th>\n",
       "      <th>cumulative_percent</th>\n",
       "    </tr>\n",
       "    <tr>\n",
       "      <th>sex</th>\n",
       "      <th></th>\n",
       "      <th></th>\n",
       "      <th></th>\n",
       "    </tr>\n",
       "  </thead>\n",
       "  <tbody>\n",
       "    <tr>\n",
       "      <th>1</th>\n",
       "      <td>2894</td>\n",
       "      <td>40.6</td>\n",
       "      <td>40.6</td>\n",
       "    </tr>\n",
       "    <tr>\n",
       "      <th>2</th>\n",
       "      <td>4234</td>\n",
       "      <td>59.4</td>\n",
       "      <td>100.0</td>\n",
       "    </tr>\n",
       "  </tbody>\n",
       "</table>\n",
       "</div>"
      ],
      "text/plain": [
       "     frequency  percent  cumulative_percent\n",
       "sex                                        \n",
       "1         2894     40.6                40.6\n",
       "2         4234     59.4               100.0"
      ]
     },
     "execution_count": 22,
     "metadata": {},
     "output_type": "execute_result"
    }
   ],
   "source": [
    "# check frequencies by 'sex'\n",
    "freq = buss_fin_occ_data.groupby(\"sex\").agg(frequency=(\"sex\", \"size\"))\n",
    "freq[\"percent\"] = round(freq[\"frequency\"] / sum(freq[\"frequency\"]) * 100, 3)\n",
    "freq[\"cumulative_percent\"] = np.cumsum(freq[\"percent\"])\n",
    "freq"
   ]
  },
  {
   "cell_type": "markdown",
   "id": "c71b8266",
   "metadata": {},
   "source": [
    "`1` represents `male` and `2` represents `female`. It is interesting to that see number of female workers is higher than male workers."
   ]
  },
  {
   "cell_type": "markdown",
   "id": "9d750bc3",
   "metadata": {},
   "source": [
    "##### Columns: age"
   ]
  },
  {
   "cell_type": "code",
   "execution_count": 23,
   "id": "29b8f8e8",
   "metadata": {},
   "outputs": [
    {
     "data": {
      "text/plain": [
       "count    7128.000000\n",
       "mean       41.734708\n",
       "std        11.760014\n",
       "min        18.000000\n",
       "25%        32.000000\n",
       "50%        42.000000\n",
       "75%        51.000000\n",
       "max        64.000000\n",
       "Name: age, dtype: float64"
      ]
     },
     "execution_count": 23,
     "metadata": {},
     "output_type": "execute_result"
    }
   ],
   "source": [
    "buss_fin_occ_data.age.describe()"
   ]
  },
  {
   "cell_type": "markdown",
   "id": "8ca8b929",
   "metadata": {},
   "source": [
    "Summary of age column shows that the ages of the employees in the dataset are between 16 and 64. There is no need to take any action for this variable for now."
   ]
  },
  {
   "cell_type": "markdown",
   "id": "dcf88d66",
   "metadata": {},
   "source": [
    "##### Columns: marital"
   ]
  },
  {
   "cell_type": "code",
   "execution_count": 24,
   "id": "cb648d9b",
   "metadata": {},
   "outputs": [
    {
     "data": {
      "text/html": [
       "<div>\n",
       "<style scoped>\n",
       "    .dataframe tbody tr th:only-of-type {\n",
       "        vertical-align: middle;\n",
       "    }\n",
       "\n",
       "    .dataframe tbody tr th {\n",
       "        vertical-align: top;\n",
       "    }\n",
       "\n",
       "    .dataframe thead th {\n",
       "        text-align: right;\n",
       "    }\n",
       "</style>\n",
       "<table border=\"1\" class=\"dataframe\">\n",
       "  <thead>\n",
       "    <tr style=\"text-align: right;\">\n",
       "      <th></th>\n",
       "      <th>frequency</th>\n",
       "      <th>percent</th>\n",
       "      <th>cumulative_percent</th>\n",
       "    </tr>\n",
       "    <tr>\n",
       "      <th>marital</th>\n",
       "      <th></th>\n",
       "      <th></th>\n",
       "      <th></th>\n",
       "    </tr>\n",
       "  </thead>\n",
       "  <tbody>\n",
       "    <tr>\n",
       "      <th>1</th>\n",
       "      <td>4208</td>\n",
       "      <td>59.035</td>\n",
       "      <td>59.035</td>\n",
       "    </tr>\n",
       "    <tr>\n",
       "      <th>2</th>\n",
       "      <td>25</td>\n",
       "      <td>0.351</td>\n",
       "      <td>59.386</td>\n",
       "    </tr>\n",
       "    <tr>\n",
       "      <th>3</th>\n",
       "      <td>60</td>\n",
       "      <td>0.842</td>\n",
       "      <td>60.228</td>\n",
       "    </tr>\n",
       "    <tr>\n",
       "      <th>4</th>\n",
       "      <td>78</td>\n",
       "      <td>1.094</td>\n",
       "      <td>61.322</td>\n",
       "    </tr>\n",
       "    <tr>\n",
       "      <th>5</th>\n",
       "      <td>744</td>\n",
       "      <td>10.438</td>\n",
       "      <td>71.760</td>\n",
       "    </tr>\n",
       "    <tr>\n",
       "      <th>6</th>\n",
       "      <td>103</td>\n",
       "      <td>1.445</td>\n",
       "      <td>73.205</td>\n",
       "    </tr>\n",
       "    <tr>\n",
       "      <th>7</th>\n",
       "      <td>1910</td>\n",
       "      <td>26.796</td>\n",
       "      <td>100.001</td>\n",
       "    </tr>\n",
       "  </tbody>\n",
       "</table>\n",
       "</div>"
      ],
      "text/plain": [
       "         frequency  percent  cumulative_percent\n",
       "marital                                        \n",
       "1             4208   59.035              59.035\n",
       "2               25    0.351              59.386\n",
       "3               60    0.842              60.228\n",
       "4               78    1.094              61.322\n",
       "5              744   10.438              71.760\n",
       "6              103    1.445              73.205\n",
       "7             1910   26.796             100.001"
      ]
     },
     "execution_count": 24,
     "metadata": {},
     "output_type": "execute_result"
    }
   ],
   "source": [
    "# check frequencies by 'marital status'\n",
    "freq = buss_fin_occ_data.groupby(\"marital\").agg(frequency=(\"marital\", \"size\"))\n",
    "freq[\"percent\"] = round(freq[\"frequency\"] / sum(freq[\"frequency\"]) * 100, 3)\n",
    "freq[\"cumulative_percent\"] = np.cumsum(freq[\"percent\"])\n",
    "freq"
   ]
  },
  {
   "cell_type": "markdown",
   "id": "110736d0",
   "metadata": {},
   "source": [
    "* 1: Married civilian spouse present\n",
    "* 2: Married AF spouse present \n",
    "* 3: Married spouse absent or separated \n",
    "* 4: Widowed or divorced(Through 1988)\n",
    "* 4: Widowed (After 88)\n",
    "* 5: Divorced (After 88)\n",
    "* 6: Separated (After 88)\n",
    "* 7: Never Married\n",
    "\n",
    "In all years, < 4 is married, otherwise single. Therefore we can re-label these category to 2 categories, namely 'Maried' and 'Single'."
   ]
  },
  {
   "cell_type": "code",
   "execution_count": 25,
   "id": "05cdc4d5",
   "metadata": {},
   "outputs": [
    {
     "name": "stderr",
     "output_type": "stream",
     "text": [
      "C:\\Users\\USER\\AppData\\Local\\Temp\\ipykernel_7524\\2369872441.py:2: SettingWithCopyWarning: \n",
      "A value is trying to be set on a copy of a slice from a DataFrame.\n",
      "Try using .loc[row_indexer,col_indexer] = value instead\n",
      "\n",
      "See the caveats in the documentation: https://pandas.pydata.org/pandas-docs/stable/user_guide/indexing.html#returning-a-view-versus-a-copy\n"
     ]
    }
   ],
   "source": [
    "# Decrease marital status values to 2 values. 1 for married and 2 for single\n",
    "buss_fin_occ_data['marital'] = buss_fin_occ_data['marital'].apply(lambda x: 1 if x < 4 else 2)"
   ]
  },
  {
   "cell_type": "code",
   "execution_count": 26,
   "id": "cd9ad3ca",
   "metadata": {},
   "outputs": [
    {
     "data": {
      "text/html": [
       "<div>\n",
       "<style scoped>\n",
       "    .dataframe tbody tr th:only-of-type {\n",
       "        vertical-align: middle;\n",
       "    }\n",
       "\n",
       "    .dataframe tbody tr th {\n",
       "        vertical-align: top;\n",
       "    }\n",
       "\n",
       "    .dataframe thead th {\n",
       "        text-align: right;\n",
       "    }\n",
       "</style>\n",
       "<table border=\"1\" class=\"dataframe\">\n",
       "  <thead>\n",
       "    <tr style=\"text-align: right;\">\n",
       "      <th></th>\n",
       "      <th>frequency</th>\n",
       "      <th>percent</th>\n",
       "      <th>cumulative_percent</th>\n",
       "    </tr>\n",
       "    <tr>\n",
       "      <th>marital</th>\n",
       "      <th></th>\n",
       "      <th></th>\n",
       "      <th></th>\n",
       "    </tr>\n",
       "  </thead>\n",
       "  <tbody>\n",
       "    <tr>\n",
       "      <th>1</th>\n",
       "      <td>4293</td>\n",
       "      <td>60.227</td>\n",
       "      <td>60.227</td>\n",
       "    </tr>\n",
       "    <tr>\n",
       "      <th>2</th>\n",
       "      <td>2835</td>\n",
       "      <td>39.773</td>\n",
       "      <td>100.000</td>\n",
       "    </tr>\n",
       "  </tbody>\n",
       "</table>\n",
       "</div>"
      ],
      "text/plain": [
       "         frequency  percent  cumulative_percent\n",
       "marital                                        \n",
       "1             4293   60.227              60.227\n",
       "2             2835   39.773             100.000"
      ]
     },
     "execution_count": 26,
     "metadata": {},
     "output_type": "execute_result"
    }
   ],
   "source": [
    "# check again frequencies by 'marital status'\n",
    "freq = buss_fin_occ_data.groupby(\"marital\").agg(frequency=(\"marital\", \"size\"))\n",
    "freq[\"percent\"] = round(freq[\"frequency\"] / sum(freq[\"frequency\"]) * 100, 3)\n",
    "freq[\"cumulative_percent\"] = np.cumsum(freq[\"percent\"])\n",
    "freq"
   ]
  },
  {
   "cell_type": "markdown",
   "id": "3f06425f",
   "metadata": {},
   "source": [
    "I believe that too many categories in this column are not necessary for our analysis. Therefore, we will use in our analysisi whether being married or single has any effect on hourly wages."
   ]
  },
  {
   "cell_type": "markdown",
   "id": "dfde758e",
   "metadata": {},
   "source": [
    "##### Columns: prcitshp"
   ]
  },
  {
   "cell_type": "code",
   "execution_count": 27,
   "id": "20294273",
   "metadata": {},
   "outputs": [
    {
     "data": {
      "text/html": [
       "<div>\n",
       "<style scoped>\n",
       "    .dataframe tbody tr th:only-of-type {\n",
       "        vertical-align: middle;\n",
       "    }\n",
       "\n",
       "    .dataframe tbody tr th {\n",
       "        vertical-align: top;\n",
       "    }\n",
       "\n",
       "    .dataframe thead th {\n",
       "        text-align: right;\n",
       "    }\n",
       "</style>\n",
       "<table border=\"1\" class=\"dataframe\">\n",
       "  <thead>\n",
       "    <tr style=\"text-align: right;\">\n",
       "      <th></th>\n",
       "      <th>frequency</th>\n",
       "      <th>percent</th>\n",
       "      <th>cumulative_percent</th>\n",
       "    </tr>\n",
       "    <tr>\n",
       "      <th>prcitshp</th>\n",
       "      <th></th>\n",
       "      <th></th>\n",
       "      <th></th>\n",
       "    </tr>\n",
       "  </thead>\n",
       "  <tbody>\n",
       "    <tr>\n",
       "      <th>Foreign Born, Not a US Citizen</th>\n",
       "      <td>227</td>\n",
       "      <td>3.185</td>\n",
       "      <td>3.185</td>\n",
       "    </tr>\n",
       "    <tr>\n",
       "      <th>Foreign Born, US Cit By Naturalization</th>\n",
       "      <td>499</td>\n",
       "      <td>7.001</td>\n",
       "      <td>10.186</td>\n",
       "    </tr>\n",
       "    <tr>\n",
       "      <th>Native, Born Abroad Of US Parent(s)</th>\n",
       "      <td>90</td>\n",
       "      <td>1.263</td>\n",
       "      <td>11.449</td>\n",
       "    </tr>\n",
       "    <tr>\n",
       "      <th>Native, Born In US</th>\n",
       "      <td>6287</td>\n",
       "      <td>88.201</td>\n",
       "      <td>99.650</td>\n",
       "    </tr>\n",
       "    <tr>\n",
       "      <th>Native, Born in PR or US Outlying Area</th>\n",
       "      <td>25</td>\n",
       "      <td>0.351</td>\n",
       "      <td>100.001</td>\n",
       "    </tr>\n",
       "  </tbody>\n",
       "</table>\n",
       "</div>"
      ],
      "text/plain": [
       "                                        frequency  percent  cumulative_percent\n",
       "prcitshp                                                                      \n",
       "Foreign Born, Not a US Citizen                227    3.185               3.185\n",
       "Foreign Born, US Cit By Naturalization        499    7.001              10.186\n",
       "Native, Born Abroad Of US Parent(s)            90    1.263              11.449\n",
       "Native, Born In US                           6287   88.201              99.650\n",
       "Native, Born in PR or US Outlying Area         25    0.351             100.001"
      ]
     },
     "execution_count": 27,
     "metadata": {},
     "output_type": "execute_result"
    }
   ],
   "source": [
    "# check frequencies by 'citizenship status'\n",
    "freq = buss_fin_occ_data.groupby(\"prcitshp\").agg(frequency=(\"prcitshp\", \"size\"))\n",
    "freq[\"percent\"] = round(freq[\"frequency\"] / sum(freq[\"frequency\"]) * 100, 3)\n",
    "freq[\"cumulative_percent\"] = np.cumsum(freq[\"percent\"])\n",
    "freq"
   ]
  },
  {
   "cell_type": "markdown",
   "id": "89ee3404",
   "metadata": {},
   "source": [
    "Since the majority of `prcitshp` variable is labeled as 'natives born in US', we will not use this variable in our analysis."
   ]
  },
  {
   "cell_type": "code",
   "execution_count": 28,
   "id": "85b8abcc",
   "metadata": {},
   "outputs": [],
   "source": [
    "# Drop 'prcitshp' column \n",
    "buss_fin_occ_data = buss_fin_occ_data.drop([\"prcitshp\"],axis=1)"
   ]
  },
  {
   "cell_type": "markdown",
   "id": "44ad81c5",
   "metadata": {},
   "source": [
    "##### Columns: ownchild, chldpres"
   ]
  },
  {
   "cell_type": "code",
   "execution_count": 29,
   "id": "f0efa816",
   "metadata": {},
   "outputs": [
    {
     "data": {
      "text/html": [
       "<div>\n",
       "<style scoped>\n",
       "    .dataframe tbody tr th:only-of-type {\n",
       "        vertical-align: middle;\n",
       "    }\n",
       "\n",
       "    .dataframe tbody tr th {\n",
       "        vertical-align: top;\n",
       "    }\n",
       "\n",
       "    .dataframe thead th {\n",
       "        text-align: right;\n",
       "    }\n",
       "</style>\n",
       "<table border=\"1\" class=\"dataframe\">\n",
       "  <thead>\n",
       "    <tr style=\"text-align: right;\">\n",
       "      <th></th>\n",
       "      <th>frequency</th>\n",
       "      <th>percent</th>\n",
       "      <th>cumulative_percent</th>\n",
       "    </tr>\n",
       "    <tr>\n",
       "      <th>ownchild</th>\n",
       "      <th></th>\n",
       "      <th></th>\n",
       "      <th></th>\n",
       "    </tr>\n",
       "  </thead>\n",
       "  <tbody>\n",
       "    <tr>\n",
       "      <th>0</th>\n",
       "      <td>4460</td>\n",
       "      <td>62.570</td>\n",
       "      <td>62.570</td>\n",
       "    </tr>\n",
       "    <tr>\n",
       "      <th>1</th>\n",
       "      <td>1163</td>\n",
       "      <td>16.316</td>\n",
       "      <td>78.886</td>\n",
       "    </tr>\n",
       "    <tr>\n",
       "      <th>2</th>\n",
       "      <td>1104</td>\n",
       "      <td>15.488</td>\n",
       "      <td>94.374</td>\n",
       "    </tr>\n",
       "    <tr>\n",
       "      <th>3</th>\n",
       "      <td>323</td>\n",
       "      <td>4.531</td>\n",
       "      <td>98.905</td>\n",
       "    </tr>\n",
       "    <tr>\n",
       "      <th>4</th>\n",
       "      <td>62</td>\n",
       "      <td>0.870</td>\n",
       "      <td>99.775</td>\n",
       "    </tr>\n",
       "    <tr>\n",
       "      <th>5</th>\n",
       "      <td>14</td>\n",
       "      <td>0.196</td>\n",
       "      <td>99.971</td>\n",
       "    </tr>\n",
       "    <tr>\n",
       "      <th>6</th>\n",
       "      <td>2</td>\n",
       "      <td>0.028</td>\n",
       "      <td>99.999</td>\n",
       "    </tr>\n",
       "  </tbody>\n",
       "</table>\n",
       "</div>"
      ],
      "text/plain": [
       "          frequency  percent  cumulative_percent\n",
       "ownchild                                        \n",
       "0              4460   62.570              62.570\n",
       "1              1163   16.316              78.886\n",
       "2              1104   15.488              94.374\n",
       "3               323    4.531              98.905\n",
       "4                62    0.870              99.775\n",
       "5                14    0.196              99.971\n",
       "6                 2    0.028              99.999"
      ]
     },
     "execution_count": 29,
     "metadata": {},
     "output_type": "execute_result"
    }
   ],
   "source": [
    "# check frequencies by 'ownchild'\n",
    "freq = buss_fin_occ_data.groupby(\"ownchild\").agg(frequency=(\"ownchild\", \"size\"))\n",
    "freq[\"percent\"] = round(freq[\"frequency\"] / sum(freq[\"frequency\"]) * 100, 3)\n",
    "freq[\"cumulative_percent\"] = np.cumsum(freq[\"percent\"])\n",
    "freq"
   ]
  },
  {
   "cell_type": "code",
   "execution_count": 30,
   "id": "ac99300e",
   "metadata": {},
   "outputs": [
    {
     "data": {
      "text/html": [
       "<div>\n",
       "<style scoped>\n",
       "    .dataframe tbody tr th:only-of-type {\n",
       "        vertical-align: middle;\n",
       "    }\n",
       "\n",
       "    .dataframe tbody tr th {\n",
       "        vertical-align: top;\n",
       "    }\n",
       "\n",
       "    .dataframe thead th {\n",
       "        text-align: right;\n",
       "    }\n",
       "</style>\n",
       "<table border=\"1\" class=\"dataframe\">\n",
       "  <thead>\n",
       "    <tr style=\"text-align: right;\">\n",
       "      <th></th>\n",
       "      <th>frequency</th>\n",
       "      <th>percent</th>\n",
       "      <th>cumulative_percent</th>\n",
       "    </tr>\n",
       "    <tr>\n",
       "      <th>chldpres</th>\n",
       "      <th></th>\n",
       "      <th></th>\n",
       "      <th></th>\n",
       "    </tr>\n",
       "  </thead>\n",
       "  <tbody>\n",
       "    <tr>\n",
       "      <th>0</th>\n",
       "      <td>4460</td>\n",
       "      <td>62.570</td>\n",
       "      <td>62.570</td>\n",
       "    </tr>\n",
       "    <tr>\n",
       "      <th>1</th>\n",
       "      <td>336</td>\n",
       "      <td>4.714</td>\n",
       "      <td>67.284</td>\n",
       "    </tr>\n",
       "    <tr>\n",
       "      <th>2</th>\n",
       "      <td>178</td>\n",
       "      <td>2.497</td>\n",
       "      <td>69.781</td>\n",
       "    </tr>\n",
       "    <tr>\n",
       "      <th>3</th>\n",
       "      <td>730</td>\n",
       "      <td>10.241</td>\n",
       "      <td>80.022</td>\n",
       "    </tr>\n",
       "    <tr>\n",
       "      <th>4</th>\n",
       "      <td>508</td>\n",
       "      <td>7.127</td>\n",
       "      <td>87.149</td>\n",
       "    </tr>\n",
       "    <tr>\n",
       "      <th>5</th>\n",
       "      <td>150</td>\n",
       "      <td>2.104</td>\n",
       "      <td>89.253</td>\n",
       "    </tr>\n",
       "    <tr>\n",
       "      <th>6</th>\n",
       "      <td>92</td>\n",
       "      <td>1.291</td>\n",
       "      <td>90.544</td>\n",
       "    </tr>\n",
       "    <tr>\n",
       "      <th>7</th>\n",
       "      <td>9</td>\n",
       "      <td>0.126</td>\n",
       "      <td>90.670</td>\n",
       "    </tr>\n",
       "    <tr>\n",
       "      <th>8</th>\n",
       "      <td>257</td>\n",
       "      <td>3.605</td>\n",
       "      <td>94.275</td>\n",
       "    </tr>\n",
       "    <tr>\n",
       "      <th>9</th>\n",
       "      <td>11</td>\n",
       "      <td>0.154</td>\n",
       "      <td>94.429</td>\n",
       "    </tr>\n",
       "    <tr>\n",
       "      <th>10</th>\n",
       "      <td>320</td>\n",
       "      <td>4.489</td>\n",
       "      <td>98.918</td>\n",
       "    </tr>\n",
       "    <tr>\n",
       "      <th>11</th>\n",
       "      <td>35</td>\n",
       "      <td>0.491</td>\n",
       "      <td>99.409</td>\n",
       "    </tr>\n",
       "    <tr>\n",
       "      <th>12</th>\n",
       "      <td>2</td>\n",
       "      <td>0.028</td>\n",
       "      <td>99.437</td>\n",
       "    </tr>\n",
       "    <tr>\n",
       "      <th>13</th>\n",
       "      <td>11</td>\n",
       "      <td>0.154</td>\n",
       "      <td>99.591</td>\n",
       "    </tr>\n",
       "    <tr>\n",
       "      <th>14</th>\n",
       "      <td>28</td>\n",
       "      <td>0.393</td>\n",
       "      <td>99.984</td>\n",
       "    </tr>\n",
       "    <tr>\n",
       "      <th>15</th>\n",
       "      <td>1</td>\n",
       "      <td>0.014</td>\n",
       "      <td>99.998</td>\n",
       "    </tr>\n",
       "  </tbody>\n",
       "</table>\n",
       "</div>"
      ],
      "text/plain": [
       "          frequency  percent  cumulative_percent\n",
       "chldpres                                        \n",
       "0              4460   62.570              62.570\n",
       "1               336    4.714              67.284\n",
       "2               178    2.497              69.781\n",
       "3               730   10.241              80.022\n",
       "4               508    7.127              87.149\n",
       "5               150    2.104              89.253\n",
       "6                92    1.291              90.544\n",
       "7                 9    0.126              90.670\n",
       "8               257    3.605              94.275\n",
       "9                11    0.154              94.429\n",
       "10              320    4.489              98.918\n",
       "11               35    0.491              99.409\n",
       "12                2    0.028              99.437\n",
       "13               11    0.154              99.591\n",
       "14               28    0.393              99.984\n",
       "15                1    0.014              99.998"
      ]
     },
     "execution_count": 30,
     "metadata": {},
     "output_type": "execute_result"
    }
   ],
   "source": [
    "# check frequencies by 'chldpres'\n",
    "freq = buss_fin_occ_data.groupby(\"chldpres\").agg(frequency=(\"chldpres\", \"size\"))\n",
    "freq[\"percent\"] = round(freq[\"frequency\"] / sum(freq[\"frequency\"]) * 100, 3)\n",
    "freq[\"cumulative_percent\"] = np.cumsum(freq[\"percent\"])\n",
    "freq"
   ]
  },
  {
   "cell_type": "markdown",
   "id": "d455cbe4",
   "metadata": {},
   "source": [
    "`ownchild` (Number of own children less than 18 in primary family) and `chldpres` (Presence of own children less than 18 in primary family) variables are related to each other and using both can cause collinearity. For these reasons, we may not use the more detailed `chldpres` variable."
   ]
  },
  {
   "cell_type": "code",
   "execution_count": 31,
   "id": "e286cdab",
   "metadata": {},
   "outputs": [],
   "source": [
    "# Drop 'chldpres' column \n",
    "buss_fin_occ_data = buss_fin_occ_data.drop([\"chldpres\"],axis=1)"
   ]
  },
  {
   "cell_type": "markdown",
   "id": "556130ea",
   "metadata": {},
   "source": [
    "##### Columns: ind02"
   ]
  },
  {
   "cell_type": "code",
   "execution_count": 32,
   "id": "41757161",
   "metadata": {},
   "outputs": [
    {
     "data": {
      "text/html": [
       "<div>\n",
       "<style scoped>\n",
       "    .dataframe tbody tr th:only-of-type {\n",
       "        vertical-align: middle;\n",
       "    }\n",
       "\n",
       "    .dataframe tbody tr th {\n",
       "        vertical-align: top;\n",
       "    }\n",
       "\n",
       "    .dataframe thead th {\n",
       "        text-align: right;\n",
       "    }\n",
       "</style>\n",
       "<table border=\"1\" class=\"dataframe\">\n",
       "  <thead>\n",
       "    <tr style=\"text-align: right;\">\n",
       "      <th></th>\n",
       "      <th>frequency</th>\n",
       "      <th>percent</th>\n",
       "      <th>cumulative_percent</th>\n",
       "    </tr>\n",
       "    <tr>\n",
       "      <th>ind02</th>\n",
       "      <th></th>\n",
       "      <th></th>\n",
       "      <th></th>\n",
       "    </tr>\n",
       "  </thead>\n",
       "  <tbody>\n",
       "    <tr>\n",
       "      <th>** Alcoholic beverages, merchant wholesalers (*4248)</th>\n",
       "      <td>4</td>\n",
       "      <td>0.056</td>\n",
       "      <td>0.056</td>\n",
       "    </tr>\n",
       "    <tr>\n",
       "      <th>** Apparel, fabrics, and notions, merchant wholesalers (*4243)</th>\n",
       "      <td>2</td>\n",
       "      <td>0.028</td>\n",
       "      <td>0.084</td>\n",
       "    </tr>\n",
       "    <tr>\n",
       "      <th>** Construction (23)</th>\n",
       "      <td>164</td>\n",
       "      <td>2.301</td>\n",
       "      <td>2.385</td>\n",
       "    </tr>\n",
       "    <tr>\n",
       "      <th>** Drugs, sundries, and chemical and allied products, merchant (wholesalerss*4242, 4246)</th>\n",
       "      <td>15</td>\n",
       "      <td>0.210</td>\n",
       "      <td>2.595</td>\n",
       "    </tr>\n",
       "    <tr>\n",
       "      <th>** Farm product raw materials, merchant wholesalers (*4245)</th>\n",
       "      <td>10</td>\n",
       "      <td>0.140</td>\n",
       "      <td>2.735</td>\n",
       "    </tr>\n",
       "    <tr>\n",
       "      <th>...</th>\n",
       "      <td>...</td>\n",
       "      <td>...</td>\n",
       "      <td>...</td>\n",
       "    </tr>\n",
       "    <tr>\n",
       "      <th>Warehousing and storage (493)</th>\n",
       "      <td>3</td>\n",
       "      <td>0.042</td>\n",
       "      <td>99.402</td>\n",
       "    </tr>\n",
       "    <tr>\n",
       "      <th>Waste management and remediation services (562)</th>\n",
       "      <td>12</td>\n",
       "      <td>0.168</td>\n",
       "      <td>99.570</td>\n",
       "    </tr>\n",
       "    <tr>\n",
       "      <th>Water transportation (483)</th>\n",
       "      <td>1</td>\n",
       "      <td>0.014</td>\n",
       "      <td>99.584</td>\n",
       "    </tr>\n",
       "    <tr>\n",
       "      <th>Water, steam, air-conditioning, and irrigation systems (22131, 22133)</th>\n",
       "      <td>4</td>\n",
       "      <td>0.056</td>\n",
       "      <td>99.640</td>\n",
       "    </tr>\n",
       "    <tr>\n",
       "      <th>Wired telecommunications carriers (*5171)</th>\n",
       "      <td>24</td>\n",
       "      <td>0.337</td>\n",
       "      <td>99.977</td>\n",
       "    </tr>\n",
       "  </tbody>\n",
       "</table>\n",
       "<p>236 rows × 3 columns</p>\n",
       "</div>"
      ],
      "text/plain": [
       "                                                    frequency  percent  \\\n",
       "ind02                                                                    \n",
       "** Alcoholic beverages, merchant wholesalers (*...          4    0.056   \n",
       "** Apparel, fabrics, and notions, merchant whol...          2    0.028   \n",
       "** Construction (23)                                      164    2.301   \n",
       "** Drugs, sundries, and chemical and allied pro...         15    0.210   \n",
       "** Farm product raw materials, merchant wholesa...         10    0.140   \n",
       "...                                                       ...      ...   \n",
       "Warehousing and storage (493)                               3    0.042   \n",
       "Waste management and remediation services (562)            12    0.168   \n",
       "Water transportation (483)                                  1    0.014   \n",
       "Water, steam, air-conditioning, and irrigation ...          4    0.056   \n",
       "Wired telecommunications carriers (*5171)                  24    0.337   \n",
       "\n",
       "                                                    cumulative_percent  \n",
       "ind02                                                                   \n",
       "** Alcoholic beverages, merchant wholesalers (*...               0.056  \n",
       "** Apparel, fabrics, and notions, merchant whol...               0.084  \n",
       "** Construction (23)                                             2.385  \n",
       "** Drugs, sundries, and chemical and allied pro...               2.595  \n",
       "** Farm product raw materials, merchant wholesa...               2.735  \n",
       "...                                                                ...  \n",
       "Warehousing and storage (493)                                   99.402  \n",
       "Waste management and remediation services (562)                 99.570  \n",
       "Water transportation (483)                                      99.584  \n",
       "Water, steam, air-conditioning, and irrigation ...              99.640  \n",
       "Wired telecommunications carriers (*5171)                       99.977  \n",
       "\n",
       "[236 rows x 3 columns]"
      ]
     },
     "execution_count": 32,
     "metadata": {},
     "output_type": "execute_result"
    }
   ],
   "source": [
    "# check frequencies by 'ind02'\n",
    "freq = buss_fin_occ_data.groupby(\"ind02\").agg(frequency=(\"ind02\", \"size\"))\n",
    "freq[\"percent\"] = round(freq[\"frequency\"] / sum(freq[\"frequency\"]) * 100, 3)\n",
    "freq[\"cumulative_percent\"] = np.cumsum(freq[\"percent\"])\n",
    "freq"
   ]
  },
  {
   "cell_type": "markdown",
   "id": "7fcf5e2b",
   "metadata": {},
   "source": [
    "There are two many labels in this industry column and will be hard to interpret the results. Therefore, we drop this column."
   ]
  },
  {
   "cell_type": "code",
   "execution_count": 33,
   "id": "1d6545ad",
   "metadata": {},
   "outputs": [],
   "source": [
    "# Drop 'ind02' column \n",
    "buss_fin_occ_data = buss_fin_occ_data.drop([\"ind02\"],axis=1)"
   ]
  },
  {
   "cell_type": "markdown",
   "id": "cbcf0c76",
   "metadata": {},
   "source": [
    "##### Columns: occ2012"
   ]
  },
  {
   "cell_type": "markdown",
   "id": "810d8025",
   "metadata": {},
   "source": [
    "Since we have filtered the occupations using `occ2012` and created \"Business and Financial Operations Occupations\" title and considered this as single broader occupation, putting this variable into regression will not make sense. Therefore, we drop this column, too."
   ]
  },
  {
   "cell_type": "code",
   "execution_count": 34,
   "id": "275c5d54",
   "metadata": {},
   "outputs": [],
   "source": [
    "# Drop 'occ2012' column \n",
    "buss_fin_occ_data = buss_fin_occ_data.drop([\"occ2012\"],axis=1)"
   ]
  },
  {
   "cell_type": "code",
   "execution_count": 35,
   "id": "82a3d7ea",
   "metadata": {},
   "outputs": [
    {
     "data": {
      "text/html": [
       "<div>\n",
       "<style scoped>\n",
       "    .dataframe tbody tr th:only-of-type {\n",
       "        vertical-align: middle;\n",
       "    }\n",
       "\n",
       "    .dataframe tbody tr th {\n",
       "        vertical-align: top;\n",
       "    }\n",
       "\n",
       "    .dataframe thead th {\n",
       "        text-align: right;\n",
       "    }\n",
       "</style>\n",
       "<table border=\"1\" class=\"dataframe\">\n",
       "  <thead>\n",
       "    <tr style=\"text-align: right;\">\n",
       "      <th></th>\n",
       "      <th>frequency</th>\n",
       "      <th>percent</th>\n",
       "      <th>cumulative_percent</th>\n",
       "    </tr>\n",
       "    <tr>\n",
       "      <th>class</th>\n",
       "      <th></th>\n",
       "      <th></th>\n",
       "      <th></th>\n",
       "    </tr>\n",
       "  </thead>\n",
       "  <tbody>\n",
       "    <tr>\n",
       "      <th>Government - Federal</th>\n",
       "      <td>428</td>\n",
       "      <td>6.004</td>\n",
       "      <td>6.004</td>\n",
       "    </tr>\n",
       "    <tr>\n",
       "      <th>Government - Local</th>\n",
       "      <td>238</td>\n",
       "      <td>3.339</td>\n",
       "      <td>9.343</td>\n",
       "    </tr>\n",
       "    <tr>\n",
       "      <th>Government - State</th>\n",
       "      <td>401</td>\n",
       "      <td>5.626</td>\n",
       "      <td>14.969</td>\n",
       "    </tr>\n",
       "    <tr>\n",
       "      <th>Private, For Profit</th>\n",
       "      <td>5484</td>\n",
       "      <td>76.936</td>\n",
       "      <td>91.905</td>\n",
       "    </tr>\n",
       "    <tr>\n",
       "      <th>Private, Nonprofit</th>\n",
       "      <td>577</td>\n",
       "      <td>8.095</td>\n",
       "      <td>100.000</td>\n",
       "    </tr>\n",
       "  </tbody>\n",
       "</table>\n",
       "</div>"
      ],
      "text/plain": [
       "                      frequency  percent  cumulative_percent\n",
       "class                                                       \n",
       "Government - Federal        428    6.004               6.004\n",
       "Government - Local          238    3.339               9.343\n",
       "Government - State          401    5.626              14.969\n",
       "Private, For Profit        5484   76.936              91.905\n",
       "Private, Nonprofit          577    8.095             100.000"
      ]
     },
     "execution_count": 35,
     "metadata": {},
     "output_type": "execute_result"
    }
   ],
   "source": [
    "# check frequencies by 'class'\n",
    "freq = buss_fin_occ_data.groupby(\"class\").agg(frequency=(\"class\", \"size\"))\n",
    "freq[\"percent\"] = round(freq[\"frequency\"] / sum(freq[\"frequency\"]) * 100, 3)\n",
    "freq[\"cumulative_percent\"] = np.cumsum(freq[\"percent\"])\n",
    "freq"
   ]
  },
  {
   "cell_type": "markdown",
   "id": "232befc7",
   "metadata": {},
   "source": [
    "Although the majority of `class` of workers is labeled as 'Private, For Profit', we will keep it as it is. There might be differences across in hourly wages across classes."
   ]
  },
  {
   "cell_type": "markdown",
   "id": "cb56f644",
   "metadata": {},
   "source": [
    "##### Columns: unionmme, unioncov"
   ]
  },
  {
   "cell_type": "code",
   "execution_count": 36,
   "id": "ad1a5458",
   "metadata": {},
   "outputs": [
    {
     "data": {
      "text/html": [
       "<div>\n",
       "<style scoped>\n",
       "    .dataframe tbody tr th:only-of-type {\n",
       "        vertical-align: middle;\n",
       "    }\n",
       "\n",
       "    .dataframe tbody tr th {\n",
       "        vertical-align: top;\n",
       "    }\n",
       "\n",
       "    .dataframe thead th {\n",
       "        text-align: right;\n",
       "    }\n",
       "</style>\n",
       "<table border=\"1\" class=\"dataframe\">\n",
       "  <thead>\n",
       "    <tr style=\"text-align: right;\">\n",
       "      <th></th>\n",
       "      <th>frequency</th>\n",
       "      <th>percent</th>\n",
       "      <th>cumulative_percent</th>\n",
       "    </tr>\n",
       "    <tr>\n",
       "      <th>unionmme</th>\n",
       "      <th></th>\n",
       "      <th></th>\n",
       "      <th></th>\n",
       "    </tr>\n",
       "  </thead>\n",
       "  <tbody>\n",
       "    <tr>\n",
       "      <th>No</th>\n",
       "      <td>6755</td>\n",
       "      <td>94.767</td>\n",
       "      <td>94.767</td>\n",
       "    </tr>\n",
       "    <tr>\n",
       "      <th>Yes</th>\n",
       "      <td>373</td>\n",
       "      <td>5.233</td>\n",
       "      <td>100.000</td>\n",
       "    </tr>\n",
       "  </tbody>\n",
       "</table>\n",
       "</div>"
      ],
      "text/plain": [
       "          frequency  percent  cumulative_percent\n",
       "unionmme                                        \n",
       "No             6755   94.767              94.767\n",
       "Yes             373    5.233             100.000"
      ]
     },
     "execution_count": 36,
     "metadata": {},
     "output_type": "execute_result"
    }
   ],
   "source": [
    "# check frequencies by 'unionmme'\n",
    "freq = buss_fin_occ_data.groupby(\"unionmme\").agg(frequency=(\"unionmme\", \"size\"))\n",
    "freq[\"percent\"] = round(freq[\"frequency\"] / sum(freq[\"frequency\"]) * 100, 3)\n",
    "freq[\"cumulative_percent\"] = np.cumsum(freq[\"percent\"])\n",
    "freq"
   ]
  },
  {
   "cell_type": "code",
   "execution_count": 37,
   "id": "8e5a653b",
   "metadata": {},
   "outputs": [],
   "source": [
    "# Missing values in 'unioncov' column are labeled as 'Missing'\n",
    "buss_fin_occ_data[\"unioncov\"] = buss_fin_occ_data[\"unioncov\"].fillna(\"Missing\")"
   ]
  },
  {
   "cell_type": "code",
   "execution_count": 38,
   "id": "ed0ba906",
   "metadata": {},
   "outputs": [
    {
     "data": {
      "text/html": [
       "<div>\n",
       "<style scoped>\n",
       "    .dataframe tbody tr th:only-of-type {\n",
       "        vertical-align: middle;\n",
       "    }\n",
       "\n",
       "    .dataframe tbody tr th {\n",
       "        vertical-align: top;\n",
       "    }\n",
       "\n",
       "    .dataframe thead th {\n",
       "        text-align: right;\n",
       "    }\n",
       "</style>\n",
       "<table border=\"1\" class=\"dataframe\">\n",
       "  <thead>\n",
       "    <tr style=\"text-align: right;\">\n",
       "      <th></th>\n",
       "      <th>frequency</th>\n",
       "      <th>percent</th>\n",
       "      <th>cumulative_percent</th>\n",
       "    </tr>\n",
       "    <tr>\n",
       "      <th>unioncov</th>\n",
       "      <th></th>\n",
       "      <th></th>\n",
       "      <th></th>\n",
       "    </tr>\n",
       "  </thead>\n",
       "  <tbody>\n",
       "    <tr>\n",
       "      <th>Missing</th>\n",
       "      <td>373</td>\n",
       "      <td>5.233</td>\n",
       "      <td>5.233</td>\n",
       "    </tr>\n",
       "    <tr>\n",
       "      <th>No</th>\n",
       "      <td>6688</td>\n",
       "      <td>93.827</td>\n",
       "      <td>99.060</td>\n",
       "    </tr>\n",
       "    <tr>\n",
       "      <th>Yes</th>\n",
       "      <td>67</td>\n",
       "      <td>0.940</td>\n",
       "      <td>100.000</td>\n",
       "    </tr>\n",
       "  </tbody>\n",
       "</table>\n",
       "</div>"
      ],
      "text/plain": [
       "          frequency  percent  cumulative_percent\n",
       "unioncov                                        \n",
       "Missing         373    5.233               5.233\n",
       "No             6688   93.827              99.060\n",
       "Yes              67    0.940             100.000"
      ]
     },
     "execution_count": 38,
     "metadata": {},
     "output_type": "execute_result"
    }
   ],
   "source": [
    "# check frequencies by 'unioncov'\n",
    "freq = buss_fin_occ_data.groupby(\"unioncov\").agg(frequency=(\"unioncov\", \"size\"))\n",
    "freq[\"percent\"] = round(freq[\"frequency\"] / sum(freq[\"frequency\"]) * 100, 3)\n",
    "freq[\"cumulative_percent\"] = np.cumsum(freq[\"percent\"])\n",
    "freq\n"
   ]
  },
  {
   "cell_type": "markdown",
   "id": "ce4b4e00",
   "metadata": {},
   "source": [
    "Union membership (`unionmme`) and coverage by a union contract (`unioncov`) are very rare in the data. And since these two columns are related, keeping only on of them will be a choice. Since there are more observations of 'Yes' in `unionmme` column and there are no missing values in that column, we will keep this and drop `unioncov` column."
   ]
  },
  {
   "cell_type": "code",
   "execution_count": 39,
   "id": "e8831837",
   "metadata": {},
   "outputs": [],
   "source": [
    "# Drop 'unioncov' column \n",
    "buss_fin_occ_data = buss_fin_occ_data.drop([\"unioncov\"],axis=1)"
   ]
  },
  {
   "cell_type": "markdown",
   "id": "28eb15d3",
   "metadata": {},
   "source": [
    "##### Columns: lfsr94 "
   ]
  },
  {
   "cell_type": "code",
   "execution_count": 40,
   "id": "3527381d",
   "metadata": {},
   "outputs": [
    {
     "data": {
      "text/html": [
       "<div>\n",
       "<style scoped>\n",
       "    .dataframe tbody tr th:only-of-type {\n",
       "        vertical-align: middle;\n",
       "    }\n",
       "\n",
       "    .dataframe tbody tr th {\n",
       "        vertical-align: top;\n",
       "    }\n",
       "\n",
       "    .dataframe thead th {\n",
       "        text-align: right;\n",
       "    }\n",
       "</style>\n",
       "<table border=\"1\" class=\"dataframe\">\n",
       "  <thead>\n",
       "    <tr style=\"text-align: right;\">\n",
       "      <th></th>\n",
       "      <th>frequency</th>\n",
       "      <th>percent</th>\n",
       "      <th>cumulative_percent</th>\n",
       "    </tr>\n",
       "    <tr>\n",
       "      <th>lfsr94</th>\n",
       "      <th></th>\n",
       "      <th></th>\n",
       "      <th></th>\n",
       "    </tr>\n",
       "  </thead>\n",
       "  <tbody>\n",
       "    <tr>\n",
       "      <th>Employed-Absent</th>\n",
       "      <td>165</td>\n",
       "      <td>2.315</td>\n",
       "      <td>2.315</td>\n",
       "    </tr>\n",
       "    <tr>\n",
       "      <th>Employed-At Work</th>\n",
       "      <td>6963</td>\n",
       "      <td>97.685</td>\n",
       "      <td>100.000</td>\n",
       "    </tr>\n",
       "  </tbody>\n",
       "</table>\n",
       "</div>"
      ],
      "text/plain": [
       "                  frequency  percent  cumulative_percent\n",
       "lfsr94                                                  \n",
       "Employed-Absent         165    2.315               2.315\n",
       "Employed-At Work       6963   97.685             100.000"
      ]
     },
     "execution_count": 40,
     "metadata": {},
     "output_type": "execute_result"
    }
   ],
   "source": [
    "# check frequencies by 'lfsr94'\n",
    "freq = buss_fin_occ_data.groupby(\"lfsr94\").agg(frequency=(\"lfsr94\", \"size\"))\n",
    "freq[\"percent\"] = round(freq[\"frequency\"] / sum(freq[\"frequency\"]) * 100, 3)\n",
    "freq[\"cumulative_percent\"] = np.cumsum(freq[\"percent\"])\n",
    "freq"
   ]
  },
  {
   "cell_type": "markdown",
   "id": "985bf4b4",
   "metadata": {},
   "source": [
    "Althoug there are few observations labeled as \"Employed-Absent\", we will keep this column in the analysis. I interpret this workers as remote workers."
   ]
  },
  {
   "cell_type": "markdown",
   "id": "79e0fe35",
   "metadata": {},
   "source": [
    "### Feature Engineering"
   ]
  },
  {
   "cell_type": "code",
   "execution_count": null,
   "id": "2b297bd0",
   "metadata": {},
   "outputs": [],
   "source": []
  },
  {
   "cell_type": "code",
   "execution_count": null,
   "id": "036ebd50",
   "metadata": {},
   "outputs": [],
   "source": []
  },
  {
   "cell_type": "code",
   "execution_count": null,
   "id": "d1037604",
   "metadata": {},
   "outputs": [],
   "source": []
  },
  {
   "cell_type": "code",
   "execution_count": null,
   "id": "2bc34d13",
   "metadata": {},
   "outputs": [],
   "source": []
  },
  {
   "cell_type": "code",
   "execution_count": null,
   "id": "df67c5b1",
   "metadata": {},
   "outputs": [],
   "source": []
  },
  {
   "cell_type": "code",
   "execution_count": null,
   "id": "06f836bb",
   "metadata": {},
   "outputs": [],
   "source": []
  },
  {
   "cell_type": "code",
   "execution_count": 41,
   "id": "aa7d7537",
   "metadata": {},
   "outputs": [
    {
     "ename": "AttributeError",
     "evalue": "'DataFrame' object has no attribute 'weight'",
     "output_type": "error",
     "traceback": [
      "\u001b[1;31m---------------------------------------------------------------------------\u001b[0m",
      "\u001b[1;31mAttributeError\u001b[0m                            Traceback (most recent call last)",
      "\u001b[1;32m~\\AppData\\Local\\Temp\\ipykernel_7524\\4247850893.py\u001b[0m in \u001b[0;36m?\u001b[1;34m()\u001b[0m\n\u001b[1;32m----> 1\u001b[1;33m \u001b[0mbuss_fin_occ_data\u001b[0m\u001b[1;33m.\u001b[0m\u001b[0mweight\u001b[0m\u001b[1;33m.\u001b[0m\u001b[0mvalues\u001b[0m\u001b[1;33m\u001b[0m\u001b[1;33m\u001b[0m\u001b[0m\n\u001b[0m",
      "\u001b[1;32m~\\anaconda3\\Lib\\site-packages\\pandas\\core\\generic.py\u001b[0m in \u001b[0;36m?\u001b[1;34m(self, name)\u001b[0m\n\u001b[0;32m   5985\u001b[0m             \u001b[1;32mand\u001b[0m \u001b[0mname\u001b[0m \u001b[1;32mnot\u001b[0m \u001b[1;32min\u001b[0m \u001b[0mself\u001b[0m\u001b[1;33m.\u001b[0m\u001b[0m_accessors\u001b[0m\u001b[1;33m\u001b[0m\u001b[1;33m\u001b[0m\u001b[0m\n\u001b[0;32m   5986\u001b[0m             \u001b[1;32mand\u001b[0m \u001b[0mself\u001b[0m\u001b[1;33m.\u001b[0m\u001b[0m_info_axis\u001b[0m\u001b[1;33m.\u001b[0m\u001b[0m_can_hold_identifiers_and_holds_name\u001b[0m\u001b[1;33m(\u001b[0m\u001b[0mname\u001b[0m\u001b[1;33m)\u001b[0m\u001b[1;33m\u001b[0m\u001b[1;33m\u001b[0m\u001b[0m\n\u001b[0;32m   5987\u001b[0m         ):\n\u001b[0;32m   5988\u001b[0m             \u001b[1;32mreturn\u001b[0m \u001b[0mself\u001b[0m\u001b[1;33m[\u001b[0m\u001b[0mname\u001b[0m\u001b[1;33m]\u001b[0m\u001b[1;33m\u001b[0m\u001b[1;33m\u001b[0m\u001b[0m\n\u001b[1;32m-> 5989\u001b[1;33m         \u001b[1;32mreturn\u001b[0m \u001b[0mobject\u001b[0m\u001b[1;33m.\u001b[0m\u001b[0m__getattribute__\u001b[0m\u001b[1;33m(\u001b[0m\u001b[0mself\u001b[0m\u001b[1;33m,\u001b[0m \u001b[0mname\u001b[0m\u001b[1;33m)\u001b[0m\u001b[1;33m\u001b[0m\u001b[1;33m\u001b[0m\u001b[0m\n\u001b[0m",
      "\u001b[1;31mAttributeError\u001b[0m: 'DataFrame' object has no attribute 'weight'"
     ]
    }
   ],
   "source": [
    "buss_fin_occ_data.weight.values"
   ]
  },
  {
   "cell_type": "code",
   "execution_count": null,
   "id": "7d8e4222",
   "metadata": {},
   "outputs": [],
   "source": [
    "buss_fin_occ_data.stfips.unique()"
   ]
  },
  {
   "cell_type": "code",
   "execution_count": null,
   "id": "f2d62062",
   "metadata": {},
   "outputs": [],
   "source": [
    "buss_fin_occ_data.intmonth.values"
   ]
  },
  {
   "cell_type": "code",
   "execution_count": null,
   "id": "36df06da",
   "metadata": {},
   "outputs": [],
   "source": []
  },
  {
   "cell_type": "code",
   "execution_count": null,
   "id": "bbfa8dc8",
   "metadata": {},
   "outputs": [],
   "source": [
    "# DATA IMPORT - FROM GITHUB\n",
    "data = pd.read_csv('https://raw.githubusercontent.com/peterduronelly/DA3-Python-Codes/main/data/used-cars_2cities_prep.csv')"
   ]
  },
  {
   "cell_type": "code",
   "execution_count": null,
   "id": "528bf70c",
   "metadata": {},
   "outputs": [],
   "source": [
    "freq = data.groupby(\"fuel\").agg(frequency=(\"type\", \"size\"))\n",
    "freq[\"percent\"] = round(freq[\"frequency\"] / sum(freq[\"frequency\"]) * 100, 3)\n",
    "freq[\"cumulative_percent\"] = np.cumsum(freq[\"percent\"])\n",
    "freq"
   ]
  },
  {
   "cell_type": "code",
   "execution_count": null,
   "id": "f34a72be",
   "metadata": {},
   "outputs": [],
   "source": [
    "data.type.head()"
   ]
  },
  {
   "cell_type": "code",
   "execution_count": null,
   "id": "76335ce4",
   "metadata": {},
   "outputs": [],
   "source": [
    "number_of_females = len(buss_fin_occ_data[buss_fin_occ_data[\"sex\"] == 2])\n",
    "number_of_males = len(buss_fin_occ_data[buss_fin_occ_data[\"sex\"] == 1])"
   ]
  },
  {
   "cell_type": "code",
   "execution_count": null,
   "id": "cac4accf",
   "metadata": {},
   "outputs": [],
   "source": [
    "# There are 4079 females and 2836 males (total 6915) working in Business and Financial Operations Occupations \n",
    "print(number_of_females)\n",
    "print(number_of_males)"
   ]
  },
  {
   "cell_type": "markdown",
   "id": "5592fdc7",
   "metadata": {},
   "source": [
    "Create variables for the intended study/research\n",
    "\n",
    "- female\n",
    "- hourly wages\n",
    "- log of hourly wages (dependent variable)\n",
    "- higher education categories"
   ]
  },
  {
   "cell_type": "code",
   "execution_count": null,
   "id": "52ef4d5d",
   "metadata": {},
   "outputs": [],
   "source": [
    "buss_fin_occ_data[\"female\"] = (buss_fin_occ_data[\"sex\"] == 2)\n",
    "buss_fin_occ_data[\"w\"] = buss_fin_occ_data[\"earnwke\"] / buss_fin_occ_data[\"uhours\"]\n",
    "buss_fin_occ_data[\"lnw\"] = np.log(buss_fin_occ_data[\"w\"])"
   ]
  },
  {
   "cell_type": "code",
   "execution_count": null,
   "id": "4dc074e4",
   "metadata": {},
   "outputs": [],
   "source": [
    "buss_fin_occ_data['ed_BA'] = (~buss_fin_occ_data['grade92'].isin([44, 45, 46])).astype(int) #bachelor or less \n",
    "buss_fin_occ_data[\"ed_MA\"] = (buss_fin_occ_data[\"grade92\"] == 44).astype(int) #master\n",
    "buss_fin_occ_data[\"ed_Profess\"] = (buss_fin_occ_data[\"grade92\"] == 45).astype(int) #professional\n",
    "buss_fin_occ_data[\"ed_Phd\"] = (buss_fin_occ_data[\"grade92\"] == 46).astype(int) #PhD"
   ]
  },
  {
   "cell_type": "markdown",
   "id": "7560d84b",
   "metadata": {},
   "source": [
    "### Visualize Distribution of Wages "
   ]
  },
  {
   "cell_type": "code",
   "execution_count": null,
   "id": "c8e75429",
   "metadata": {},
   "outputs": [],
   "source": [
    "(\n",
    "    ggplot(buss_fin_occ_data, aes(x=\"lnw\", y=\"stat(count)/sum(stat(count))\"))\n",
    "    + geom_histogram(\n",
    "        binwidth=0.1,\n",
    "        boundary=0,\n",
    "        color=\"white\",\n",
    "        fill=\"#00abff\",\n",
    "        size=0.25,\n",
    "        alpha=0.8,\n",
    "        show_legend=False,\n",
    "        na_rm=True,\n",
    "    )\n",
    "    + labs(x=\"log hourly wages\", y=\"Percent\")\n",
    "    + expand_limits(x=0.01, y=0.01)\n",
    "    + scale_x_continuous(expand=(0.01, 0.01), limits=(1, 5), breaks=seq(1, 5, 0.5))\n",
    "    + scale_y_continuous(\n",
    "        expand=(0.0, 0.0),\n",
    "        limits=(0, 0.1),\n",
    "        breaks=seq(0, 0.1, 0.02),\n",
    "        labels=percent_format(), #mizani\n",
    "    )\n",
    "    + theme_bw()\n",
    ")"
   ]
  },
  {
   "cell_type": "markdown",
   "id": "d06f0bb6",
   "metadata": {},
   "source": [
    "Logaritmic transformation results in a better distribution"
   ]
  },
  {
   "cell_type": "markdown",
   "id": "f78d3865",
   "metadata": {},
   "source": [
    "### Visualize Wages by Gender and Education Level"
   ]
  },
  {
   "cell_type": "code",
   "execution_count": null,
   "id": "975a32d3",
   "metadata": {},
   "outputs": [],
   "source": [
    "# Select relevant data for the chart\n",
    "chart_data = buss_fin_occ_data[['female', 'ed_BA', 'ed_MA', 'ed_Profess', 'ed_Phd', 'w']]\n",
    "\n",
    "# Create a new variable representing \"College Degree or Less\"\n",
    "chart_data['education'] = pd.Categorical(np.argmax(chart_data[['ed_BA', 'ed_MA', 'ed_Profess', 'ed_Phd']].values, axis=1),\n",
    "                                          categories=[0, 1, 2, 3], ordered=True)\n",
    "\n",
    "# Map the values of the new variable to labels\n",
    "education_labels = {0: 'College Degree or Less', 1: 'MA', 2: 'Professional', 3: 'Ph.D.'}\n",
    "chart_data['education_label'] = chart_data['education'].map(education_labels)\n",
    "\n",
    "# Melt the data for easier plotting\n",
    "chart_data_melted = pd.melt(chart_data, id_vars=['female', 'education', 'education_label'], value_vars='w')\n",
    "\n",
    "# Create the grouped bar chart\n",
    "(\n",
    "    ggplot(chart_data_melted, aes(x='education_label', y='value', fill='factor(female)')) +\n",
    "    geom_bar(stat='identity', position='dodge', width=0.7, size=0.25) +  # Set color to 'white' and size to 0.25\n",
    "    scale_fill_manual(values=[\"#00abff\", \"#ff7f00\"], labels=[\"Male\", \"Female\"]) +\n",
    "    labs(x='Education Level', y='Average Hourly Wages') #, title='Wage Changes by Gender and Education') \n",
    "    + theme_minimal() +\n",
    "    theme(axis_text_x=element_text(angle=45, hjust=1),  # Rotate x-axis labels for better readability\n",
    "          legend_title=element_blank(),  # Remove legend title\n",
    "          panel_grid_major=element_blank(),  # Remove major gridlines\n",
    "          panel_grid_minor=element_blank())  # Remove minor gridlines\n",
    ")"
   ]
  },
  {
   "cell_type": "markdown",
   "id": "6e1fa4dc",
   "metadata": {},
   "source": [
    "From the grouped bar chart, it seems higher education reduces the gender earnings gap."
   ]
  },
  {
   "cell_type": "markdown",
   "id": "786279be",
   "metadata": {},
   "source": [
    "### Descriptive Table for Selected Variables"
   ]
  },
  {
   "cell_type": "code",
   "execution_count": null,
   "id": "6c1c3093",
   "metadata": {},
   "outputs": [],
   "source": [
    "buss_fin_occ_data = buss_fin_occ_data.query(\"grade92>=44\")\n",
    "print(buss_fin_occ_data.shape) # removed observations with less than MA degree\n",
    "buss_fin_occ_data.loc[:, [\"earnwke\", \"uhours\", \"w\", \"lnw\"]].describe()"
   ]
  },
  {
   "cell_type": "code",
   "execution_count": null,
   "id": "bf52c2a5",
   "metadata": {},
   "outputs": [],
   "source": [
    "buss_fin_occ_data[\"female\"] = buss_fin_occ_data[\"female\"].astype(int)  #from boolean to 0,1\n",
    "buss_fin_occ_data[\"female\"].value_counts()"
   ]
  },
  {
   "cell_type": "markdown",
   "id": "c1d957b6",
   "metadata": {},
   "source": [
    "### Earnings and female gender\n",
    "#### Linear regressions\n",
    "**Log-level**:\n",
    "\n",
    "$(\\ln{w})^E = \\alpha + \\beta \\times female$"
   ]
  },
  {
   "cell_type": "code",
   "execution_count": null,
   "id": "f83b3142",
   "metadata": {},
   "outputs": [],
   "source": [
    "reg1 = smf.ols(formula=\"lnw~female\", data=buss_fin_occ_data).fit()\n",
    "reg1.summary()"
   ]
  },
  {
   "cell_type": "code",
   "execution_count": null,
   "id": "5175708e",
   "metadata": {},
   "outputs": [],
   "source": [
    "reg2 = smf.ols(formula=\"w~female\", data=buss_fin_occ_data).fit(cov_type=\"HC1\") \n",
    "reg3 = smf.ols(formula=\"lnw~female\", data=buss_fin_occ_data).fit(cov_type=\"HC1\") \n",
    "#heteroskedastic-consistent standard errors\n",
    "reg3.summary()"
   ]
  },
  {
   "cell_type": "markdown",
   "id": "a4c883b3",
   "metadata": {},
   "source": [
    "Robust SE slope: 0.032, CI  [−0.29, -0.16] (wide range probably due to small number of observations)\n",
    "\n",
    "-> in 2014 in the USA we can be 95% confident that the ifference between hourly earnings of female market analysts versus male was -29% to -16% and on everage -22%\n",
    "\n",
    "-> the CI does not includes zero -> we can rule out with 95% confidence that their average earnings (female and male) are the same\n",
    "\n",
    "->  |𝑡|= 7 > 1.96\n",
    "    reject  𝐻0\n",
    " \n",
    "-> it can be seen also by p-value < 0.05\n",
    " \n",
    "-> the coefficient canconsidered statistically significant at 5% (even at 1%)"
   ]
  },
  {
   "cell_type": "markdown",
   "id": "60922b00",
   "metadata": {},
   "source": [
    "### Wage and gender gap baseline regression"
   ]
  },
  {
   "cell_type": "code",
   "execution_count": null,
   "id": "c6bfebfe",
   "metadata": {},
   "outputs": [],
   "source": [
    "stargazer = Stargazer([reg1, reg2, reg3])\n",
    "stargazer.covariate_order([\"female\", \"Intercept\"])\n",
    "stargazer.rename_covariates({\"Intercept\": \"Constant\"})\n",
    "stargazer"
   ]
  },
  {
   "cell_type": "markdown",
   "id": "81eda2bb",
   "metadata": {},
   "source": [
    "Slope: female in Business and Financial Operations Occupations earn 22\\% ($\\beta\\times 100\\%$) less, on average than male in the same occupations (in this data).\n",
    "Gender coefficient is statistically significant at 1% (p<0.01). <\n",
    "\n",
    "Using nominal hourly wages ('w') in 2nd regression gives also a negative coefficient but in this case it is more difficult to interpret."
   ]
  },
  {
   "cell_type": "markdown",
   "id": "78c45fec",
   "metadata": {},
   "source": [
    "### Gender differences in earnings – log earnings, gender and education"
   ]
  },
  {
   "cell_type": "markdown",
   "id": "0368dd89",
   "metadata": {},
   "source": [
    "-> the category not represented is the **reference category**\n",
    "\n",
    "-> coefficients on each $k-1$ dummy show average differences in $y$ compared to the reference category\n",
    "\n",
    "-> also include interactions term to see the chnage of gender gap as education level changes"
   ]
  },
  {
   "cell_type": "code",
   "execution_count": null,
   "id": "227348e1",
   "metadata": {},
   "outputs": [],
   "source": [
    "reg4 = smf.ols(formula=\"lnw~female + ed_Profess + ed_MA\", data=buss_fin_occ_data).fit(cov_type=\"HC1\")\n",
    "reg5 = smf.ols(formula=\"lnw~female + ed_Profess + ed_Phd\", data=buss_fin_occ_data).fit(cov_type=\"HC1\")\n",
    "reg6 = smf.ols(formula=\"lnw ~ female + ed_Profess + ed_Phd + female:ed_Profess + female:ed_Phd\", data=buss_fin_occ_data).fit(cov_type=\"HC1\")"
   ]
  },
  {
   "cell_type": "code",
   "execution_count": null,
   "id": "5d780a66",
   "metadata": {},
   "outputs": [],
   "source": [
    "stargazer = Stargazer([reg1, reg2, reg3, reg4, reg5, reg6])\n",
    "stargazer.covariate_order([\"female\", \"ed_MA\", \"ed_Profess\", \"ed_Phd\", \"female:ed_Profess\", \"female:ed_Phd\", \"Intercept\"])\n",
    "\n",
    "stargazer.rename_covariates({\"Intercept\": \"Constant\"})\n",
    "stargazer"
   ]
  },
  {
   "cell_type": "markdown",
   "id": "5dd84ae1",
   "metadata": {},
   "source": [
    "Controlling for level of education in the regression decreases the level of gender gap (coefficient of 'female' is smaller very little) in 4th and 5th regressions. However, 4th and 5th regressions does not give us how gap changes as education level changes. In 6th regression we introduced interaction terms of 'female' with different levels of gradute degrees. In this regression we see that interaction term betwwen 'female' and 'ed_Profess' is very small and statistically not significant. Interaction term betwwen 'female' and 'ed_Phd' is +29% and statistically significant. That means females with a PhD degree earn 29% percent higher than their male counterparts. We can roughly say that the gender gap decreases as education level increases."
   ]
  }
 ],
 "metadata": {
  "kernelspec": {
   "display_name": "Python 3 (ipykernel)",
   "language": "python",
   "name": "python3"
  },
  "language_info": {
   "codemirror_mode": {
    "name": "ipython",
    "version": 3
   },
   "file_extension": ".py",
   "mimetype": "text/x-python",
   "name": "python",
   "nbconvert_exporter": "python",
   "pygments_lexer": "ipython3",
   "version": "3.11.5"
  }
 },
 "nbformat": 4,
 "nbformat_minor": 5
}
