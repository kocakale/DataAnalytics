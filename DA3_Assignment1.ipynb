{
 "cells": [
  {
   "cell_type": "markdown",
   "id": "fc8cb647",
   "metadata": {},
   "source": [
    "## Data Analysis 3: Prediction and Introduction to Machine Learning - Assignment 1"
   ]
  },
  {
   "cell_type": "markdown",
   "id": "965bb0f5",
   "metadata": {},
   "source": [
    "In this study, our business question is what are the determinants of the hourly wages of workers. We are going to use a cross sectional data to answer this question. Our data source is the book \"Data Analysis for Business, Economics, and Policy\". This data is earnings data collected by U.S. Bureau of Labor Statistics. The dataset has various columns including weekly working hours and ernings. In the next chapters of this notebook, we will go through Sample Design, Explaratory Data Analysis, Feature Engineering and finally applying different Regression Models."
   ]
  },
  {
   "cell_type": "markdown",
   "id": "24fc4dd5",
   "metadata": {},
   "source": [
    "### Sample Design"
   ]
  },
  {
   "cell_type": "markdown",
   "id": "88873873",
   "metadata": {},
   "source": [
    "In this part, we get the data to be used for our analysis, apply necessary filters and prepare data for Exploratory Data Analysis."
   ]
  },
  {
   "cell_type": "code",
   "execution_count": 1,
   "id": "180c7e8a",
   "metadata": {},
   "outputs": [],
   "source": [
    "# Import necessary libraries/packages\n",
    "\n",
    "import warnings\n",
    "warnings.filterwarnings('ignore')\n",
    "\n",
    "import pandas as pd\n",
    "import seaborn as sns\n",
    "import matplotlib.pyplot as plt\n",
    "from mizani.formatters import percent_format\n",
    "import os\n",
    "from plotnine import *\n",
    "import numpy as np\n",
    "import sys\n",
    "import numpy as np\n",
    "import statsmodels.api as sm\n",
    "import statsmodels.formula.api as smf\n",
    "from stargazer import stargazer\n",
    "from statsmodels.tools.eval_measures import mse,rmse\n",
    "\n",
    "# Import the prewritten helper functions\n",
    "from py_helper_functions import *"
   ]
  },
  {
   "cell_type": "markdown",
   "id": "d6340ecb",
   "metadata": {},
   "source": [
    "##### Get Data"
   ]
  },
  {
   "cell_type": "code",
   "execution_count": 2,
   "id": "579c649a",
   "metadata": {},
   "outputs": [],
   "source": [
    "# Access the data directly from the book's website\n",
    "data_earnings = pd.read_csv(\"https://osf.io/4ay9x/download\")"
   ]
  },
  {
   "cell_type": "code",
   "execution_count": 3,
   "id": "ce3e0a86",
   "metadata": {},
   "outputs": [
    {
     "data": {
      "text/plain": [
       "(149316, 23)"
      ]
     },
     "execution_count": 3,
     "metadata": {},
     "output_type": "execute_result"
    }
   ],
   "source": [
    "data_earnings.shape"
   ]
  },
  {
   "cell_type": "code",
   "execution_count": 4,
   "id": "a18d35f7",
   "metadata": {},
   "outputs": [
    {
     "data": {
      "text/plain": [
       "Index(['Unnamed: 0', 'hhid', 'intmonth', 'stfips', 'weight', 'earnwke',\n",
       "       'uhours', 'grade92', 'race', 'ethnic', 'age', 'sex', 'marital',\n",
       "       'ownchild', 'chldpres', 'prcitshp', 'state', 'ind02', 'occ2012',\n",
       "       'class', 'unionmme', 'unioncov', 'lfsr94'],\n",
       "      dtype='object')"
      ]
     },
     "execution_count": 4,
     "metadata": {},
     "output_type": "execute_result"
    }
   ],
   "source": [
    "#Check columns\n",
    "data_earnings.columns"
   ]
  },
  {
   "cell_type": "code",
   "execution_count": 5,
   "id": "def2bad0",
   "metadata": {},
   "outputs": [],
   "source": [
    "#filter the data for selected job codes\n",
    "selected_job_codes = [500,510,520,530,540,565,600,630,640,650,700,710,725,726,735,740,\n",
    "                      800, 810, 820, 830, 840, 850, 860, 900, 910, 930, 940, 950]\n",
    "\n",
    "# Business and Financial Operations Occupations\n",
    "buss_fin_occ_data = data_earnings[data_earnings['occ2012'].isin(selected_job_codes)]"
   ]
  },
  {
   "cell_type": "code",
   "execution_count": 6,
   "id": "377f9e36",
   "metadata": {},
   "outputs": [
    {
     "data": {
      "text/plain": [
       "(7326, 23)"
      ]
     },
     "execution_count": 6,
     "metadata": {},
     "output_type": "execute_result"
    }
   ],
   "source": [
    "# There are 7326 observations under \"Business and Financial Operations Occupations\" title\n",
    "buss_fin_occ_data.shape"
   ]
  },
  {
   "cell_type": "code",
   "execution_count": 7,
   "id": "324614fd",
   "metadata": {},
   "outputs": [
    {
     "data": {
      "text/html": [
       "<div>\n",
       "<style scoped>\n",
       "    .dataframe tbody tr th:only-of-type {\n",
       "        vertical-align: middle;\n",
       "    }\n",
       "\n",
       "    .dataframe tbody tr th {\n",
       "        vertical-align: top;\n",
       "    }\n",
       "\n",
       "    .dataframe thead th {\n",
       "        text-align: right;\n",
       "    }\n",
       "</style>\n",
       "<table border=\"1\" class=\"dataframe\">\n",
       "  <thead>\n",
       "    <tr style=\"text-align: right;\">\n",
       "      <th></th>\n",
       "      <th>Unnamed: 0</th>\n",
       "      <th>hhid</th>\n",
       "      <th>intmonth</th>\n",
       "      <th>stfips</th>\n",
       "      <th>weight</th>\n",
       "      <th>earnwke</th>\n",
       "      <th>uhours</th>\n",
       "      <th>grade92</th>\n",
       "      <th>race</th>\n",
       "      <th>ethnic</th>\n",
       "      <th>...</th>\n",
       "      <th>ownchild</th>\n",
       "      <th>chldpres</th>\n",
       "      <th>prcitshp</th>\n",
       "      <th>state</th>\n",
       "      <th>ind02</th>\n",
       "      <th>occ2012</th>\n",
       "      <th>class</th>\n",
       "      <th>unionmme</th>\n",
       "      <th>unioncov</th>\n",
       "      <th>lfsr94</th>\n",
       "    </tr>\n",
       "  </thead>\n",
       "  <tbody>\n",
       "    <tr>\n",
       "      <th>0</th>\n",
       "      <td>3</td>\n",
       "      <td>2600310997690</td>\n",
       "      <td>January</td>\n",
       "      <td>AL</td>\n",
       "      <td>3151.6801</td>\n",
       "      <td>1692.0</td>\n",
       "      <td>40</td>\n",
       "      <td>43</td>\n",
       "      <td>1</td>\n",
       "      <td>NaN</td>\n",
       "      <td>...</td>\n",
       "      <td>0</td>\n",
       "      <td>0</td>\n",
       "      <td>Native, Born In US</td>\n",
       "      <td>63</td>\n",
       "      <td>Employment services (5613)</td>\n",
       "      <td>630</td>\n",
       "      <td>Private, For Profit</td>\n",
       "      <td>No</td>\n",
       "      <td>No</td>\n",
       "      <td>Employed-At Work</td>\n",
       "    </tr>\n",
       "    <tr>\n",
       "      <th>22</th>\n",
       "      <td>44</td>\n",
       "      <td>954001919079770</td>\n",
       "      <td>January</td>\n",
       "      <td>AL</td>\n",
       "      <td>3677.7816</td>\n",
       "      <td>680.0</td>\n",
       "      <td>40</td>\n",
       "      <td>43</td>\n",
       "      <td>1</td>\n",
       "      <td>NaN</td>\n",
       "      <td>...</td>\n",
       "      <td>0</td>\n",
       "      <td>0</td>\n",
       "      <td>Native, Born In US</td>\n",
       "      <td>63</td>\n",
       "      <td>Non-depository credit and related activities (...</td>\n",
       "      <td>800</td>\n",
       "      <td>Private, For Profit</td>\n",
       "      <td>No</td>\n",
       "      <td>No</td>\n",
       "      <td>Employed-At Work</td>\n",
       "    </tr>\n",
       "    <tr>\n",
       "      <th>53</th>\n",
       "      <td>125</td>\n",
       "      <td>507001320102921</td>\n",
       "      <td>January</td>\n",
       "      <td>AL</td>\n",
       "      <td>3296.7986</td>\n",
       "      <td>2000.0</td>\n",
       "      <td>50</td>\n",
       "      <td>44</td>\n",
       "      <td>1</td>\n",
       "      <td>NaN</td>\n",
       "      <td>...</td>\n",
       "      <td>1</td>\n",
       "      <td>1</td>\n",
       "      <td>Native, Born In US</td>\n",
       "      <td>63</td>\n",
       "      <td>Real estate (531)</td>\n",
       "      <td>800</td>\n",
       "      <td>Private, For Profit</td>\n",
       "      <td>No</td>\n",
       "      <td>No</td>\n",
       "      <td>Employed-At Work</td>\n",
       "    </tr>\n",
       "    <tr>\n",
       "      <th>56</th>\n",
       "      <td>131</td>\n",
       "      <td>510915094903939</td>\n",
       "      <td>January</td>\n",
       "      <td>AL</td>\n",
       "      <td>3419.5125</td>\n",
       "      <td>1923.0</td>\n",
       "      <td>40</td>\n",
       "      <td>43</td>\n",
       "      <td>1</td>\n",
       "      <td>NaN</td>\n",
       "      <td>...</td>\n",
       "      <td>2</td>\n",
       "      <td>10</td>\n",
       "      <td>Native, Born In US</td>\n",
       "      <td>63</td>\n",
       "      <td>Banking and related activities (521, 52211,52219)</td>\n",
       "      <td>910</td>\n",
       "      <td>Private, For Profit</td>\n",
       "      <td>No</td>\n",
       "      <td>No</td>\n",
       "      <td>Employed-At Work</td>\n",
       "    </tr>\n",
       "    <tr>\n",
       "      <th>80</th>\n",
       "      <td>187</td>\n",
       "      <td>210033043908195</td>\n",
       "      <td>January</td>\n",
       "      <td>AL</td>\n",
       "      <td>4563.6243</td>\n",
       "      <td>280.0</td>\n",
       "      <td>32</td>\n",
       "      <td>42</td>\n",
       "      <td>1</td>\n",
       "      <td>NaN</td>\n",
       "      <td>...</td>\n",
       "      <td>0</td>\n",
       "      <td>0</td>\n",
       "      <td>Native, Born In US</td>\n",
       "      <td>63</td>\n",
       "      <td>Recreational vehicle parks and camps, and room...</td>\n",
       "      <td>800</td>\n",
       "      <td>Private, For Profit</td>\n",
       "      <td>No</td>\n",
       "      <td>No</td>\n",
       "      <td>Employed-At Work</td>\n",
       "    </tr>\n",
       "  </tbody>\n",
       "</table>\n",
       "<p>5 rows × 23 columns</p>\n",
       "</div>"
      ],
      "text/plain": [
       "    Unnamed: 0             hhid intmonth stfips     weight  earnwke  uhours  \\\n",
       "0            3    2600310997690  January     AL  3151.6801   1692.0      40   \n",
       "22          44  954001919079770  January     AL  3677.7816    680.0      40   \n",
       "53         125  507001320102921  January     AL  3296.7986   2000.0      50   \n",
       "56         131  510915094903939  January     AL  3419.5125   1923.0      40   \n",
       "80         187  210033043908195  January     AL  4563.6243    280.0      32   \n",
       "\n",
       "    grade92  race  ethnic  ...  ownchild  chldpres            prcitshp  state  \\\n",
       "0        43     1     NaN  ...         0         0  Native, Born In US     63   \n",
       "22       43     1     NaN  ...         0         0  Native, Born In US     63   \n",
       "53       44     1     NaN  ...         1         1  Native, Born In US     63   \n",
       "56       43     1     NaN  ...         2        10  Native, Born In US     63   \n",
       "80       42     1     NaN  ...         0         0  Native, Born In US     63   \n",
       "\n",
       "                                                ind02 occ2012  \\\n",
       "0                          Employment services (5613)     630   \n",
       "22  Non-depository credit and related activities (...     800   \n",
       "53                                  Real estate (531)     800   \n",
       "56  Banking and related activities (521, 52211,52219)     910   \n",
       "80  Recreational vehicle parks and camps, and room...     800   \n",
       "\n",
       "                  class unionmme  unioncov            lfsr94  \n",
       "0   Private, For Profit       No        No  Employed-At Work  \n",
       "22  Private, For Profit       No        No  Employed-At Work  \n",
       "53  Private, For Profit       No        No  Employed-At Work  \n",
       "56  Private, For Profit       No        No  Employed-At Work  \n",
       "80  Private, For Profit       No        No  Employed-At Work  \n",
       "\n",
       "[5 rows x 23 columns]"
      ]
     },
     "execution_count": 7,
     "metadata": {},
     "output_type": "execute_result"
    }
   ],
   "source": [
    "buss_fin_occ_data.head()\n",
    "# With a quick look, we see there are NaN values in the data. We need to handle these in next steps"
   ]
  },
  {
   "cell_type": "code",
   "execution_count": 8,
   "id": "a1d76f52",
   "metadata": {},
   "outputs": [
    {
     "name": "stdout",
     "output_type": "stream",
     "text": [
      "<class 'pandas.core.frame.DataFrame'>\n",
      "Index: 7326 entries, 0 to 149296\n",
      "Data columns (total 23 columns):\n",
      " #   Column      Non-Null Count  Dtype  \n",
      "---  ------      --------------  -----  \n",
      " 0   Unnamed: 0  7326 non-null   int64  \n",
      " 1   hhid        7326 non-null   int64  \n",
      " 2   intmonth    7326 non-null   object \n",
      " 3   stfips      7326 non-null   object \n",
      " 4   weight      7326 non-null   float64\n",
      " 5   earnwke     7326 non-null   float64\n",
      " 6   uhours      7326 non-null   int64  \n",
      " 7   grade92     7326 non-null   int64  \n",
      " 8   race        7326 non-null   int64  \n",
      " 9   ethnic      509 non-null    float64\n",
      " 10  age         7326 non-null   int64  \n",
      " 11  sex         7326 non-null   int64  \n",
      " 12  marital     7326 non-null   int64  \n",
      " 13  ownchild    7326 non-null   int64  \n",
      " 14  chldpres    7326 non-null   int64  \n",
      " 15  prcitshp    7326 non-null   object \n",
      " 16  state       7326 non-null   object \n",
      " 17  ind02       7326 non-null   object \n",
      " 18  occ2012     7326 non-null   int64  \n",
      " 19  class       7326 non-null   object \n",
      " 20  unionmme    7326 non-null   object \n",
      " 21  unioncov    6940 non-null   object \n",
      " 22  lfsr94      7326 non-null   object \n",
      "dtypes: float64(3), int64(11), object(9)\n",
      "memory usage: 1.3+ MB\n"
     ]
    }
   ],
   "source": [
    "buss_fin_occ_data.info()\n",
    "\n",
    "# There are float64(3), int64(11) and object(9) type columns in the data"
   ]
  },
  {
   "cell_type": "markdown",
   "id": "42a213c1",
   "metadata": {},
   "source": [
    "### Exploratory Data Analysis (EDA)"
   ]
  },
  {
   "cell_type": "markdown",
   "id": "a9d8152c",
   "metadata": {},
   "source": [
    "In this part we deal with missing values, check extreme values. First of all, we would like to know what does each column represent. In other words, we will shortly introduce the data in each column (i.e. variable labels).\n",
    "\n",
    "* `Unnamed`: An already existing index column in raw data. We will drop it in the next step.\n",
    "* `hhid`: Household ID\n",
    "* `intmonth`: Interview calendar month\n",
    "* `stfips`: State FIPS codes\n",
    "* `weight`: This is the Final Weight. The sum of the Final Weights in each monthly survey is the US non-institutional population.\n",
    "* `earnwke`: Weakly earnings\n",
    "* `uhours`: Usual work hours per week\n",
    "* `grade92`: Highest grade attended\n",
    "* `race`: Race\n",
    "* `ethnic`: Ethnicity\n",
    "* `age`: Age\n",
    "* `sex`: Gender\n",
    "* `marital`: Marital status\n",
    "* `ownchild`: Number of own children less than 18 in primary family\n",
    "* `chldpres`: Presence of own children less than 18 in primary family\n",
    "* `prcitshp`: Citizenship status\n",
    "* `state`: State\n",
    "* `ind02`: 3-digit NAICS-based industry code \n",
    "* `occ2012`: Occupational code (census 2010 classification)\n",
    "* `class`: Class of worker\n",
    "* `unionmme`: Union member\n",
    "* `unioncov`: Covered by a union contract\n",
    "* `lfsr94`: Employment status recode\n"
   ]
  },
  {
   "cell_type": "code",
   "execution_count": 9,
   "id": "8aa7c4c6",
   "metadata": {},
   "outputs": [
    {
     "data": {
      "text/plain": [
       "Index(['ethnic', 'unioncov'], dtype='object')"
      ]
     },
     "execution_count": 9,
     "metadata": {},
     "output_type": "execute_result"
    }
   ],
   "source": [
    "# Check missing variables\n",
    "to_filter = buss_fin_occ_data.isna().sum()\n",
    "to_filter[to_filter>0].index\n",
    "# We have missing values in two columns"
   ]
  },
  {
   "cell_type": "code",
   "execution_count": 10,
   "id": "e6c676f6",
   "metadata": {},
   "outputs": [
    {
     "data": {
      "text/plain": [
       "Unnamed: 0       0\n",
       "hhid             0\n",
       "intmonth         0\n",
       "stfips           0\n",
       "weight           0\n",
       "earnwke          0\n",
       "uhours           0\n",
       "grade92          0\n",
       "race             0\n",
       "ethnic        6817\n",
       "age              0\n",
       "sex              0\n",
       "marital          0\n",
       "ownchild         0\n",
       "chldpres         0\n",
       "prcitshp         0\n",
       "state            0\n",
       "ind02            0\n",
       "occ2012          0\n",
       "class            0\n",
       "unionmme         0\n",
       "unioncov       386\n",
       "lfsr94           0\n",
       "dtype: int64"
      ]
     },
     "execution_count": 10,
     "metadata": {},
     "output_type": "execute_result"
    }
   ],
   "source": [
    "to_filter"
   ]
  },
  {
   "cell_type": "markdown",
   "id": "33c6eb34",
   "metadata": {},
   "source": [
    "Since we have 7,326 entries in selected job title and 6,817 missing values in `ethnic` column (approximately 93% missing values), it would be wise to drop this column."
   ]
  },
  {
   "cell_type": "markdown",
   "id": "47ca5f4b",
   "metadata": {},
   "source": [
    "##### Columns: Unnamed,  hhid, intmonth, ethnic"
   ]
  },
  {
   "cell_type": "code",
   "execution_count": 11,
   "id": "144a6e8d",
   "metadata": {},
   "outputs": [],
   "source": [
    "# Drop 'ethnic' column due to high rate of missing values\n",
    "buss_fin_occ_data = buss_fin_occ_data.drop([\"ethnic\"],axis=1)\n",
    "\n",
    "# Drop 'unnamed' column (it was an index column in original data)\n",
    "buss_fin_occ_data = buss_fin_occ_data.drop([\"Unnamed: 0\"],axis=1)\n",
    "\n",
    "# Drop 'hhid' column (id column will not help us in the analysis)\n",
    "buss_fin_occ_data = buss_fin_occ_data.drop([\"hhid\"],axis=1)\n",
    "\n",
    "# Drop 'intmonth' column (interview month does not make sense to use since data is not time series but cross-sectional)\n",
    "buss_fin_occ_data = buss_fin_occ_data.drop([\"intmonth\"],axis=1)"
   ]
  },
  {
   "cell_type": "markdown",
   "id": "e49cb1d2",
   "metadata": {},
   "source": [
    "##### Columns: stfips, state"
   ]
  },
  {
   "cell_type": "code",
   "execution_count": 12,
   "id": "0345512c",
   "metadata": {},
   "outputs": [
    {
     "data": {
      "text/plain": [
       "array(['63', '94', '86', '71', '93', '84', 'CT', '51', '53', '59', '58',\n",
       "       '95', '82', 'IL', 'IN', 'IA', '47', '61', '72', 'ME', '52', 'MA',\n",
       "       'MI', 'MN', '64', 'MO', '81', '46', '88', 'NH', 'NJ', '85', 'NY',\n",
       "       '56', 'ND', 'OH', '73', '92', 'PA', 'RI', '57', 'SD', '62', '74',\n",
       "       '87', 'VT', '54', '91', 'WI', '83', '55', '6', '9', '8', '7', '1',\n",
       "       '5', '3', '4', '2', 4, 6, 7, 1, 5, 3, 8, 2, 9], dtype=object)"
      ]
     },
     "execution_count": 12,
     "metadata": {},
     "output_type": "execute_result"
    }
   ],
   "source": [
    "# Values in 'state' column are irregularly labeled. Insted of this column we may use 'stfips', which has state codes.\n",
    "buss_fin_occ_data.state.unique()"
   ]
  },
  {
   "cell_type": "code",
   "execution_count": 13,
   "id": "8a7920f5",
   "metadata": {},
   "outputs": [],
   "source": [
    "# Drop 'state' column due to irregularity mentioned above\n",
    "buss_fin_occ_data = buss_fin_occ_data.drop([\"state\"],axis=1)"
   ]
  },
  {
   "cell_type": "markdown",
   "id": "c1c51be7",
   "metadata": {},
   "source": [
    "##### Columns: weight"
   ]
  },
  {
   "cell_type": "code",
   "execution_count": 14,
   "id": "1d222d00",
   "metadata": {},
   "outputs": [],
   "source": [
    "# Drop 'weight' column (it is thuoughy to be unrelated for estimating hourly wages)\n",
    "buss_fin_occ_data = buss_fin_occ_data.drop([\"weight\"],axis=1)"
   ]
  },
  {
   "cell_type": "markdown",
   "id": "0fba0685",
   "metadata": {},
   "source": [
    "##### Columns: earnwke, uhours"
   ]
  },
  {
   "cell_type": "code",
   "execution_count": 15,
   "id": "dfd65a8c",
   "metadata": {},
   "outputs": [],
   "source": [
    "# Now create 'earnings per hour' variable\n",
    "buss_fin_occ_data[\"earnings_per_hour\"] = buss_fin_occ_data[\"earnwke\"] / buss_fin_occ_data[\"uhours\"]"
   ]
  },
  {
   "cell_type": "code",
   "execution_count": 16,
   "id": "5cd2b808",
   "metadata": {},
   "outputs": [
    {
     "data": {
      "text/plain": [
       "count    7326.000000\n",
       "mean       29.535976\n",
       "std        17.345381\n",
       "min         0.000500\n",
       "25%        18.269000\n",
       "50%        25.640889\n",
       "75%        37.019000\n",
       "max       500.000000\n",
       "Name: earnings_per_hour, dtype: float64"
      ]
     },
     "execution_count": 16,
     "metadata": {},
     "output_type": "execute_result"
    }
   ],
   "source": [
    "# Now check summary statistics of the 'earnings per hour' variable\n",
    "buss_fin_occ_data[\"earnings_per_hour\"].describe()"
   ]
  },
  {
   "cell_type": "markdown",
   "id": "6179d17a",
   "metadata": {},
   "source": [
    "Although mean and median values are around 25-30 USD, there seem to be extreme values on both sides (the min and max values are extreme). We will keep them since we don't know whether they are wrong measurement/observations."
   ]
  },
  {
   "cell_type": "code",
   "execution_count": 17,
   "id": "ba21543d",
   "metadata": {},
   "outputs": [
    {
     "data": {
      "image/png": "[encoded data removed]",
      "text/plain": [
       "<Figure size 640x480 with 1 Axes>"
      ]
     },
     "metadata": {
      "image/png": {
       "height": 480,
       "width": 640
      }
     },
     "output_type": "display_data"
    },
    {
     "data": {
      "text/plain": [
       "<Figure Size: (640 x 480)>"
      ]
     },
     "execution_count": 17,
     "metadata": {},
     "output_type": "execute_result"
    }
   ],
   "source": [
    "# Now visually check distribution of hourly earnings\n",
    "(\n",
    "    ggplot(buss_fin_occ_data, aes(x=\"earnings_per_hour\", y=\"stat(count)/sum(stat(count))\"))\n",
    "    + geom_histogram(\n",
    "        binwidth=3,\n",
    "        boundary=0,\n",
    "        color=\"white\",\n",
    "        fill= \"#00abff\",\n",
    "        size=0.25,\n",
    "        alpha=0.8,\n",
    "        show_legend=False,\n",
    "        na_rm=True,\n",
    "    )\n",
    "    + labs(x=\"Hourly earnings\", y=\"Percent\")\n",
    "    + expand_limits(x=0.01, y=0.01)\n",
    "    + scale_x_continuous(expand=(0.01, 0.01), limits=(0, 100), breaks=seq(0, 100, 5))\n",
    "    + scale_y_continuous(\n",
    "        labels=percent_format(), #mizani\n",
    "        breaks=seq(0, 0.12, 0.02),\n",
    "        limits=(0, 0.12),\n",
    "        expand=(0.0, 0.0),\n",
    "    )\n",
    "    + theme_bw()\n",
    ")"
   ]
  },
  {
   "cell_type": "markdown",
   "id": "6bb63345",
   "metadata": {},
   "source": [
    "Hourly earnings are a little bit left-skewed. We can also check $ln(hourlywages)$. "
   ]
  },
  {
   "cell_type": "code",
   "execution_count": 18,
   "id": "ccb0fa4e",
   "metadata": {},
   "outputs": [],
   "source": [
    "# First create ln of 'earnings per hour' variable\n",
    "buss_fin_occ_data[\"ln_earnings_per_hour\"] = np.log(buss_fin_occ_data[\"earnings_per_hour\"])"
   ]
  },
  {
   "cell_type": "code",
   "execution_count": 19,
   "id": "f360c411",
   "metadata": {},
   "outputs": [
    {
     "data": {
      "image/png": "[encoded data removed]",
      "text/plain": [
       "<Figure size 640x480 with 1 Axes>"
      ]
     },
     "metadata": {
      "image/png": {
       "height": 480,
       "width": 640
      }
     },
     "output_type": "display_data"
    },
    {
     "data": {
      "text/plain": [
       "<Figure Size: (640 x 480)>"
      ]
     },
     "execution_count": 19,
     "metadata": {},
     "output_type": "execute_result"
    }
   ],
   "source": [
    "# Now visualize the distribution of ln of hourly earnings\n",
    "(\n",
    "    ggplot(buss_fin_occ_data, aes(x=\"ln_earnings_per_hour\", y=\"stat(count)/sum(stat(count))\"))\n",
    "    + geom_histogram(\n",
    "        binwidth=0.1,\n",
    "        boundary=0,\n",
    "        color=\"white\",\n",
    "        fill=\"#00abff\",\n",
    "        size=0.25,\n",
    "        alpha=0.8,\n",
    "        show_legend=False,\n",
    "        na_rm=True,\n",
    "    )\n",
    "    + labs(x=\"log hourly wages\", y=\"Percent\")\n",
    "    + expand_limits(x=0.01, y=0.01)\n",
    "    + scale_x_continuous(expand=(0.01, 0.01), limits=(1, 5), breaks=seq(1, 5, 0.5))\n",
    "    + scale_y_continuous(\n",
    "        expand=(0.0, 0.0),\n",
    "        limits=(0, 0.1),\n",
    "        breaks=seq(0, 0.1, 0.02),\n",
    "        labels=percent_format(), #mizani\n",
    "    )\n",
    "    + theme_bw()\n",
    ")"
   ]
  },
  {
   "cell_type": "markdown",
   "id": "1e57fc13",
   "metadata": {},
   "source": [
    "Although not perfect, log of hourly wages are more close to normal distribution than the level wages."
   ]
  },
  {
   "cell_type": "markdown",
   "id": "82868fd3",
   "metadata": {},
   "source": [
    "##### Columns: grade92"
   ]
  },
  {
   "cell_type": "code",
   "execution_count": 20,
   "id": "ca5a5a17",
   "metadata": {},
   "outputs": [
    {
     "data": {
      "text/html": [
       "<div>\n",
       "<style scoped>\n",
       "    .dataframe tbody tr th:only-of-type {\n",
       "        vertical-align: middle;\n",
       "    }\n",
       "\n",
       "    .dataframe tbody tr th {\n",
       "        vertical-align: top;\n",
       "    }\n",
       "\n",
       "    .dataframe thead th {\n",
       "        text-align: right;\n",
       "    }\n",
       "</style>\n",
       "<table border=\"1\" class=\"dataframe\">\n",
       "  <thead>\n",
       "    <tr style=\"text-align: right;\">\n",
       "      <th></th>\n",
       "      <th>frequency</th>\n",
       "      <th>percent</th>\n",
       "      <th>cumulative_percent</th>\n",
       "    </tr>\n",
       "    <tr>\n",
       "      <th>grade92</th>\n",
       "      <th></th>\n",
       "      <th></th>\n",
       "      <th></th>\n",
       "    </tr>\n",
       "  </thead>\n",
       "  <tbody>\n",
       "    <tr>\n",
       "      <th>31</th>\n",
       "      <td>1</td>\n",
       "      <td>0.014</td>\n",
       "      <td>0.014</td>\n",
       "    </tr>\n",
       "    <tr>\n",
       "      <th>32</th>\n",
       "      <td>4</td>\n",
       "      <td>0.055</td>\n",
       "      <td>0.069</td>\n",
       "    </tr>\n",
       "    <tr>\n",
       "      <th>33</th>\n",
       "      <td>1</td>\n",
       "      <td>0.014</td>\n",
       "      <td>0.083</td>\n",
       "    </tr>\n",
       "    <tr>\n",
       "      <th>34</th>\n",
       "      <td>3</td>\n",
       "      <td>0.041</td>\n",
       "      <td>0.124</td>\n",
       "    </tr>\n",
       "    <tr>\n",
       "      <th>35</th>\n",
       "      <td>3</td>\n",
       "      <td>0.041</td>\n",
       "      <td>0.165</td>\n",
       "    </tr>\n",
       "    <tr>\n",
       "      <th>36</th>\n",
       "      <td>9</td>\n",
       "      <td>0.123</td>\n",
       "      <td>0.288</td>\n",
       "    </tr>\n",
       "    <tr>\n",
       "      <th>37</th>\n",
       "      <td>15</td>\n",
       "      <td>0.205</td>\n",
       "      <td>0.493</td>\n",
       "    </tr>\n",
       "    <tr>\n",
       "      <th>38</th>\n",
       "      <td>19</td>\n",
       "      <td>0.259</td>\n",
       "      <td>0.752</td>\n",
       "    </tr>\n",
       "    <tr>\n",
       "      <th>39</th>\n",
       "      <td>751</td>\n",
       "      <td>10.251</td>\n",
       "      <td>11.003</td>\n",
       "    </tr>\n",
       "    <tr>\n",
       "      <th>40</th>\n",
       "      <td>955</td>\n",
       "      <td>13.036</td>\n",
       "      <td>24.039</td>\n",
       "    </tr>\n",
       "    <tr>\n",
       "      <th>41</th>\n",
       "      <td>232</td>\n",
       "      <td>3.167</td>\n",
       "      <td>27.206</td>\n",
       "    </tr>\n",
       "    <tr>\n",
       "      <th>42</th>\n",
       "      <td>482</td>\n",
       "      <td>6.579</td>\n",
       "      <td>33.785</td>\n",
       "    </tr>\n",
       "    <tr>\n",
       "      <th>43</th>\n",
       "      <td>3522</td>\n",
       "      <td>48.075</td>\n",
       "      <td>81.860</td>\n",
       "    </tr>\n",
       "    <tr>\n",
       "      <th>44</th>\n",
       "      <td>1186</td>\n",
       "      <td>16.189</td>\n",
       "      <td>98.049</td>\n",
       "    </tr>\n",
       "    <tr>\n",
       "      <th>45</th>\n",
       "      <td>75</td>\n",
       "      <td>1.024</td>\n",
       "      <td>99.073</td>\n",
       "    </tr>\n",
       "    <tr>\n",
       "      <th>46</th>\n",
       "      <td>68</td>\n",
       "      <td>0.928</td>\n",
       "      <td>100.001</td>\n",
       "    </tr>\n",
       "  </tbody>\n",
       "</table>\n",
       "</div>"
      ],
      "text/plain": [
       "         frequency  percent  cumulative_percent\n",
       "grade92                                        \n",
       "31               1    0.014               0.014\n",
       "32               4    0.055               0.069\n",
       "33               1    0.014               0.083\n",
       "34               3    0.041               0.124\n",
       "35               3    0.041               0.165\n",
       "36               9    0.123               0.288\n",
       "37              15    0.205               0.493\n",
       "38              19    0.259               0.752\n",
       "39             751   10.251              11.003\n",
       "40             955   13.036              24.039\n",
       "41             232    3.167              27.206\n",
       "42             482    6.579              33.785\n",
       "43            3522   48.075              81.860\n",
       "44            1186   16.189              98.049\n",
       "45              75    1.024              99.073\n",
       "46              68    0.928             100.001"
      ]
     },
     "execution_count": 20,
     "metadata": {},
     "output_type": "execute_result"
    }
   ],
   "source": [
    "# check frequencies by 'grade92'\n",
    "freq = buss_fin_occ_data.groupby(\"grade92\").agg(frequency=(\"grade92\", \"size\"))\n",
    "freq[\"percent\"] = round(freq[\"frequency\"] / sum(freq[\"frequency\"]) * 100, 3)\n",
    "freq[\"cumulative_percent\"] = np.cumsum(freq[\"percent\"])\n",
    "freq"
   ]
  },
  {
   "cell_type": "markdown",
   "id": "ec434a6d",
   "metadata": {},
   "source": [
    "Since the majority of the data has education labels between \"39-High school graduate\" and \"44-Master's degree\", we will exclude the remaining rows and keep rows that has values in range 39-44."
   ]
  },
  {
   "cell_type": "code",
   "execution_count": 21,
   "id": "90ccca3f",
   "metadata": {},
   "outputs": [],
   "source": [
    "# Filter the data based on 'grade92' column\n",
    "buss_fin_occ_data = buss_fin_occ_data.query(\"grade92>=39 & grade92<=44\")"
   ]
  },
  {
   "cell_type": "code",
   "execution_count": 22,
   "id": "f089a374",
   "metadata": {},
   "outputs": [
    {
     "data": {
      "text/plain": [
       "(7128, 19)"
      ]
     },
     "execution_count": 22,
     "metadata": {},
     "output_type": "execute_result"
    }
   ],
   "source": [
    "buss_fin_occ_data.shape"
   ]
  },
  {
   "cell_type": "markdown",
   "id": "b2f892b4",
   "metadata": {},
   "source": [
    "We only removed 198 observations by education level filter (7,326 - 7,128 = 198)."
   ]
  },
  {
   "cell_type": "markdown",
   "id": "ce374190",
   "metadata": {},
   "source": [
    "##### Columns: race"
   ]
  },
  {
   "cell_type": "code",
   "execution_count": 23,
   "id": "19817d65",
   "metadata": {},
   "outputs": [
    {
     "data": {
      "text/html": [
       "<div>\n",
       "<style scoped>\n",
       "    .dataframe tbody tr th:only-of-type {\n",
       "        vertical-align: middle;\n",
       "    }\n",
       "\n",
       "    .dataframe tbody tr th {\n",
       "        vertical-align: top;\n",
       "    }\n",
       "\n",
       "    .dataframe thead th {\n",
       "        text-align: right;\n",
       "    }\n",
       "</style>\n",
       "<table border=\"1\" class=\"dataframe\">\n",
       "  <thead>\n",
       "    <tr style=\"text-align: right;\">\n",
       "      <th></th>\n",
       "      <th>frequency</th>\n",
       "      <th>percent</th>\n",
       "      <th>cumulative_percent</th>\n",
       "    </tr>\n",
       "    <tr>\n",
       "      <th>race</th>\n",
       "      <th></th>\n",
       "      <th></th>\n",
       "      <th></th>\n",
       "    </tr>\n",
       "  </thead>\n",
       "  <tbody>\n",
       "    <tr>\n",
       "      <th>1</th>\n",
       "      <td>5902</td>\n",
       "      <td>82.800</td>\n",
       "      <td>82.800</td>\n",
       "    </tr>\n",
       "    <tr>\n",
       "      <th>2</th>\n",
       "      <td>578</td>\n",
       "      <td>8.109</td>\n",
       "      <td>90.909</td>\n",
       "    </tr>\n",
       "    <tr>\n",
       "      <th>3</th>\n",
       "      <td>40</td>\n",
       "      <td>0.561</td>\n",
       "      <td>91.470</td>\n",
       "    </tr>\n",
       "    <tr>\n",
       "      <th>4</th>\n",
       "      <td>486</td>\n",
       "      <td>6.818</td>\n",
       "      <td>98.288</td>\n",
       "    </tr>\n",
       "    <tr>\n",
       "      <th>5</th>\n",
       "      <td>19</td>\n",
       "      <td>0.267</td>\n",
       "      <td>98.555</td>\n",
       "    </tr>\n",
       "    <tr>\n",
       "      <th>6</th>\n",
       "      <td>26</td>\n",
       "      <td>0.365</td>\n",
       "      <td>98.920</td>\n",
       "    </tr>\n",
       "    <tr>\n",
       "      <th>7</th>\n",
       "      <td>27</td>\n",
       "      <td>0.379</td>\n",
       "      <td>99.299</td>\n",
       "    </tr>\n",
       "    <tr>\n",
       "      <th>8</th>\n",
       "      <td>25</td>\n",
       "      <td>0.351</td>\n",
       "      <td>99.650</td>\n",
       "    </tr>\n",
       "    <tr>\n",
       "      <th>9</th>\n",
       "      <td>4</td>\n",
       "      <td>0.056</td>\n",
       "      <td>99.706</td>\n",
       "    </tr>\n",
       "    <tr>\n",
       "      <th>10</th>\n",
       "      <td>7</td>\n",
       "      <td>0.098</td>\n",
       "      <td>99.804</td>\n",
       "    </tr>\n",
       "    <tr>\n",
       "      <th>11</th>\n",
       "      <td>1</td>\n",
       "      <td>0.014</td>\n",
       "      <td>99.818</td>\n",
       "    </tr>\n",
       "    <tr>\n",
       "      <th>15</th>\n",
       "      <td>4</td>\n",
       "      <td>0.056</td>\n",
       "      <td>99.874</td>\n",
       "    </tr>\n",
       "    <tr>\n",
       "      <th>16</th>\n",
       "      <td>4</td>\n",
       "      <td>0.056</td>\n",
       "      <td>99.930</td>\n",
       "    </tr>\n",
       "    <tr>\n",
       "      <th>19</th>\n",
       "      <td>1</td>\n",
       "      <td>0.014</td>\n",
       "      <td>99.944</td>\n",
       "    </tr>\n",
       "    <tr>\n",
       "      <th>21</th>\n",
       "      <td>3</td>\n",
       "      <td>0.042</td>\n",
       "      <td>99.986</td>\n",
       "    </tr>\n",
       "    <tr>\n",
       "      <th>23</th>\n",
       "      <td>1</td>\n",
       "      <td>0.014</td>\n",
       "      <td>100.000</td>\n",
       "    </tr>\n",
       "  </tbody>\n",
       "</table>\n",
       "</div>"
      ],
      "text/plain": [
       "      frequency  percent  cumulative_percent\n",
       "race                                        \n",
       "1          5902   82.800              82.800\n",
       "2           578    8.109              90.909\n",
       "3            40    0.561              91.470\n",
       "4           486    6.818              98.288\n",
       "5            19    0.267              98.555\n",
       "6            26    0.365              98.920\n",
       "7            27    0.379              99.299\n",
       "8            25    0.351              99.650\n",
       "9             4    0.056              99.706\n",
       "10            7    0.098              99.804\n",
       "11            1    0.014              99.818\n",
       "15            4    0.056              99.874\n",
       "16            4    0.056              99.930\n",
       "19            1    0.014              99.944\n",
       "21            3    0.042              99.986\n",
       "23            1    0.014             100.000"
      ]
     },
     "execution_count": 23,
     "metadata": {},
     "output_type": "execute_result"
    }
   ],
   "source": [
    "# check frequencies by 'race'\n",
    "freq = buss_fin_occ_data.groupby(\"race\").agg(frequency=(\"race\", \"size\"))\n",
    "freq[\"percent\"] = round(freq[\"frequency\"] / sum(freq[\"frequency\"]) * 100, 3)\n",
    "freq[\"cumulative_percent\"] = np.cumsum(freq[\"percent\"])\n",
    "freq"
   ]
  },
  {
   "cell_type": "markdown",
   "id": "de98388f",
   "metadata": {},
   "source": [
    "Since the majority of variable `race` is falls under lable 'White', we will not use this variable in our analysis."
   ]
  },
  {
   "cell_type": "code",
   "execution_count": 24,
   "id": "b190629a",
   "metadata": {},
   "outputs": [],
   "source": [
    "# Drop 'race' column \n",
    "buss_fin_occ_data = buss_fin_occ_data.drop([\"race\"],axis=1)"
   ]
  },
  {
   "cell_type": "markdown",
   "id": "0d95afe3",
   "metadata": {},
   "source": [
    "##### Columns: sex"
   ]
  },
  {
   "cell_type": "code",
   "execution_count": 25,
   "id": "b4be859b",
   "metadata": {},
   "outputs": [
    {
     "data": {
      "text/html": [
       "<div>\n",
       "<style scoped>\n",
       "    .dataframe tbody tr th:only-of-type {\n",
       "        vertical-align: middle;\n",
       "    }\n",
       "\n",
       "    .dataframe tbody tr th {\n",
       "        vertical-align: top;\n",
       "    }\n",
       "\n",
       "    .dataframe thead th {\n",
       "        text-align: right;\n",
       "    }\n",
       "</style>\n",
       "<table border=\"1\" class=\"dataframe\">\n",
       "  <thead>\n",
       "    <tr style=\"text-align: right;\">\n",
       "      <th></th>\n",
       "      <th>frequency</th>\n",
       "      <th>percent</th>\n",
       "      <th>cumulative_percent</th>\n",
       "    </tr>\n",
       "    <tr>\n",
       "      <th>sex</th>\n",
       "      <th></th>\n",
       "      <th></th>\n",
       "      <th></th>\n",
       "    </tr>\n",
       "  </thead>\n",
       "  <tbody>\n",
       "    <tr>\n",
       "      <th>1</th>\n",
       "      <td>2894</td>\n",
       "      <td>40.6</td>\n",
       "      <td>40.6</td>\n",
       "    </tr>\n",
       "    <tr>\n",
       "      <th>2</th>\n",
       "      <td>4234</td>\n",
       "      <td>59.4</td>\n",
       "      <td>100.0</td>\n",
       "    </tr>\n",
       "  </tbody>\n",
       "</table>\n",
       "</div>"
      ],
      "text/plain": [
       "     frequency  percent  cumulative_percent\n",
       "sex                                        \n",
       "1         2894     40.6                40.6\n",
       "2         4234     59.4               100.0"
      ]
     },
     "execution_count": 25,
     "metadata": {},
     "output_type": "execute_result"
    }
   ],
   "source": [
    "# check frequencies by 'sex'\n",
    "freq = buss_fin_occ_data.groupby(\"sex\").agg(frequency=(\"sex\", \"size\"))\n",
    "freq[\"percent\"] = round(freq[\"frequency\"] / sum(freq[\"frequency\"]) * 100, 3)\n",
    "freq[\"cumulative_percent\"] = np.cumsum(freq[\"percent\"])\n",
    "freq"
   ]
  },
  {
   "cell_type": "markdown",
   "id": "c71b8266",
   "metadata": {},
   "source": [
    "`1` represents `male` and `2` represents `female`. It is interesting to that see number of female workers is higher than male workers."
   ]
  },
  {
   "cell_type": "markdown",
   "id": "9d750bc3",
   "metadata": {},
   "source": [
    "##### Columns: age"
   ]
  },
  {
   "cell_type": "code",
   "execution_count": 26,
   "id": "29b8f8e8",
   "metadata": {},
   "outputs": [
    {
     "data": {
      "text/plain": [
       "count    7128.000000\n",
       "mean       41.734708\n",
       "std        11.760014\n",
       "min        18.000000\n",
       "25%        32.000000\n",
       "50%        42.000000\n",
       "75%        51.000000\n",
       "max        64.000000\n",
       "Name: age, dtype: float64"
      ]
     },
     "execution_count": 26,
     "metadata": {},
     "output_type": "execute_result"
    }
   ],
   "source": [
    "buss_fin_occ_data.age.describe()"
   ]
  },
  {
   "cell_type": "markdown",
   "id": "8ca8b929",
   "metadata": {},
   "source": [
    "Summary of age column shows that the ages of the employees in the dataset are between 16 and 64. There is no need to take any action for this variable for now."
   ]
  },
  {
   "cell_type": "code",
   "execution_count": 27,
   "id": "4fd36cb6",
   "metadata": {},
   "outputs": [
    {
     "data": {
      "image/png": "[encoded data removed]",
      "text/plain": [
       "<Figure size 640x480 with 1 Axes>"
      ]
     },
     "metadata": {
      "image/png": {
       "height": 480,
       "width": 640
      }
     },
     "output_type": "display_data"
    },
    {
     "data": {
      "text/plain": [
       "<Figure Size: (640 x 480)>"
      ]
     },
     "execution_count": 27,
     "metadata": {},
     "output_type": "execute_result"
    }
   ],
   "source": [
    "# Define age groups\n",
    "age_ranges = [(16, 24), (25, 34), (35, 44), (45, 54), (55, 64)]\n",
    "\n",
    "# Categorize individuals into age ranges\n",
    "buss_fin_occ_data2 = buss_fin_occ_data.iloc[:,:]\n",
    "buss_fin_occ_data2['age_range'] = pd.cut(buss_fin_occ_data2['age'], bins=[start - 1 for start, end in age_ranges] + \n",
    "                                        [age_ranges[-1][1]], labels=[f\"{start}-{end}\" for start, end in age_ranges])\n",
    "\n",
    "\n",
    "## Boxplot of price by age groups\n",
    "(\n",
    "    ggplot(buss_fin_occ_data2, aes(x=\"age_range\", y=\"earnings_per_hour\"))\n",
    "    + stat_boxplot(\n",
    "        aes(group=\"age_range\"),\n",
    "        geom=\"errorbar\",\n",
    "        width=0.3,\n",
    "        color=color,\n",
    "        size=0.5,\n",
    "        na_rm=True,\n",
    "    )\n",
    "    + geom_boxplot(\n",
    "        aes(group=\"age_range\"),\n",
    "        color=color,\n",
    "        size=0.5,\n",
    "        width=0.6,\n",
    "        alpha=0.3,\n",
    "        na_rm=True,\n",
    "        outlier_shape=\"\",\n",
    "    )\n",
    "    + scale_y_continuous(expand=(0.01, 0.01), limits=(0, 100), breaks=seq(0, 100, 10))\n",
    "    + labs(x=\"Age\", y=\"Hourly wages\")\n",
    "    + theme_bw()\n",
    ")"
   ]
  },
  {
   "cell_type": "markdown",
   "id": "e4ec4a02",
   "metadata": {},
   "source": [
    "There is an upward trend in hourly wages until 35-44 age group, but after this range, it seems age does not have an effect on wages. This can be interpreted that in younger ages, workers do not have experience and they work more in junior roles and after some years they get higher wages as they get experience. However, after a certain time there is no more room for experience and probably very few workers get promoted to managerial roles."
   ]
  },
  {
   "cell_type": "markdown",
   "id": "dcf88d66",
   "metadata": {},
   "source": [
    "##### Columns: marital"
   ]
  },
  {
   "cell_type": "code",
   "execution_count": 28,
   "id": "cb648d9b",
   "metadata": {},
   "outputs": [
    {
     "data": {
      "text/html": [
       "<div>\n",
       "<style scoped>\n",
       "    .dataframe tbody tr th:only-of-type {\n",
       "        vertical-align: middle;\n",
       "    }\n",
       "\n",
       "    .dataframe tbody tr th {\n",
       "        vertical-align: top;\n",
       "    }\n",
       "\n",
       "    .dataframe thead th {\n",
       "        text-align: right;\n",
       "    }\n",
       "</style>\n",
       "<table border=\"1\" class=\"dataframe\">\n",
       "  <thead>\n",
       "    <tr style=\"text-align: right;\">\n",
       "      <th></th>\n",
       "      <th>frequency</th>\n",
       "      <th>percent</th>\n",
       "      <th>cumulative_percent</th>\n",
       "    </tr>\n",
       "    <tr>\n",
       "      <th>marital</th>\n",
       "      <th></th>\n",
       "      <th></th>\n",
       "      <th></th>\n",
       "    </tr>\n",
       "  </thead>\n",
       "  <tbody>\n",
       "    <tr>\n",
       "      <th>1</th>\n",
       "      <td>4208</td>\n",
       "      <td>59.035</td>\n",
       "      <td>59.035</td>\n",
       "    </tr>\n",
       "    <tr>\n",
       "      <th>2</th>\n",
       "      <td>25</td>\n",
       "      <td>0.351</td>\n",
       "      <td>59.386</td>\n",
       "    </tr>\n",
       "    <tr>\n",
       "      <th>3</th>\n",
       "      <td>60</td>\n",
       "      <td>0.842</td>\n",
       "      <td>60.228</td>\n",
       "    </tr>\n",
       "    <tr>\n",
       "      <th>4</th>\n",
       "      <td>78</td>\n",
       "      <td>1.094</td>\n",
       "      <td>61.322</td>\n",
       "    </tr>\n",
       "    <tr>\n",
       "      <th>5</th>\n",
       "      <td>744</td>\n",
       "      <td>10.438</td>\n",
       "      <td>71.760</td>\n",
       "    </tr>\n",
       "    <tr>\n",
       "      <th>6</th>\n",
       "      <td>103</td>\n",
       "      <td>1.445</td>\n",
       "      <td>73.205</td>\n",
       "    </tr>\n",
       "    <tr>\n",
       "      <th>7</th>\n",
       "      <td>1910</td>\n",
       "      <td>26.796</td>\n",
       "      <td>100.001</td>\n",
       "    </tr>\n",
       "  </tbody>\n",
       "</table>\n",
       "</div>"
      ],
      "text/plain": [
       "         frequency  percent  cumulative_percent\n",
       "marital                                        \n",
       "1             4208   59.035              59.035\n",
       "2               25    0.351              59.386\n",
       "3               60    0.842              60.228\n",
       "4               78    1.094              61.322\n",
       "5              744   10.438              71.760\n",
       "6              103    1.445              73.205\n",
       "7             1910   26.796             100.001"
      ]
     },
     "execution_count": 28,
     "metadata": {},
     "output_type": "execute_result"
    }
   ],
   "source": [
    "# check frequencies by 'marital status'\n",
    "freq = buss_fin_occ_data.groupby(\"marital\").agg(frequency=(\"marital\", \"size\"))\n",
    "freq[\"percent\"] = round(freq[\"frequency\"] / sum(freq[\"frequency\"]) * 100, 3)\n",
    "freq[\"cumulative_percent\"] = np.cumsum(freq[\"percent\"])\n",
    "freq"
   ]
  },
  {
   "cell_type": "markdown",
   "id": "110736d0",
   "metadata": {},
   "source": [
    "* 1: Married civilian spouse present\n",
    "* 2: Married AF spouse present \n",
    "* 3: Married spouse absent or separated \n",
    "* 4: Widowed or divorced(Through 1988)\n",
    "* 4: Widowed (After 88)\n",
    "* 5: Divorced (After 88)\n",
    "* 6: Separated (After 88)\n",
    "* 7: Never Married\n",
    "\n",
    "In all years, < 4 is married, otherwise single. Therefore we can re-label these category to 2 categories, namely 'Maried' and 'Single'."
   ]
  },
  {
   "cell_type": "code",
   "execution_count": 29,
   "id": "05cdc4d5",
   "metadata": {},
   "outputs": [],
   "source": [
    "# Decrease marital status values to 2 values. 1 for married and 2 for single\n",
    "buss_fin_occ_data['marital'] = buss_fin_occ_data['marital'].apply(lambda x: 1 if x < 4 else 2)"
   ]
  },
  {
   "cell_type": "code",
   "execution_count": 30,
   "id": "cd9ad3ca",
   "metadata": {},
   "outputs": [
    {
     "data": {
      "text/html": [
       "<div>\n",
       "<style scoped>\n",
       "    .dataframe tbody tr th:only-of-type {\n",
       "        vertical-align: middle;\n",
       "    }\n",
       "\n",
       "    .dataframe tbody tr th {\n",
       "        vertical-align: top;\n",
       "    }\n",
       "\n",
       "    .dataframe thead th {\n",
       "        text-align: right;\n",
       "    }\n",
       "</style>\n",
       "<table border=\"1\" class=\"dataframe\">\n",
       "  <thead>\n",
       "    <tr style=\"text-align: right;\">\n",
       "      <th></th>\n",
       "      <th>frequency</th>\n",
       "      <th>percent</th>\n",
       "      <th>cumulative_percent</th>\n",
       "    </tr>\n",
       "    <tr>\n",
       "      <th>marital</th>\n",
       "      <th></th>\n",
       "      <th></th>\n",
       "      <th></th>\n",
       "    </tr>\n",
       "  </thead>\n",
       "  <tbody>\n",
       "    <tr>\n",
       "      <th>1</th>\n",
       "      <td>4293</td>\n",
       "      <td>60.227</td>\n",
       "      <td>60.227</td>\n",
       "    </tr>\n",
       "    <tr>\n",
       "      <th>2</th>\n",
       "      <td>2835</td>\n",
       "      <td>39.773</td>\n",
       "      <td>100.000</td>\n",
       "    </tr>\n",
       "  </tbody>\n",
       "</table>\n",
       "</div>"
      ],
      "text/plain": [
       "         frequency  percent  cumulative_percent\n",
       "marital                                        \n",
       "1             4293   60.227              60.227\n",
       "2             2835   39.773             100.000"
      ]
     },
     "execution_count": 30,
     "metadata": {},
     "output_type": "execute_result"
    }
   ],
   "source": [
    "# check again frequencies by 'marital status'\n",
    "freq = buss_fin_occ_data.groupby(\"marital\").agg(frequency=(\"marital\", \"size\"))\n",
    "freq[\"percent\"] = round(freq[\"frequency\"] / sum(freq[\"frequency\"]) * 100, 3)\n",
    "freq[\"cumulative_percent\"] = np.cumsum(freq[\"percent\"])\n",
    "freq"
   ]
  },
  {
   "cell_type": "markdown",
   "id": "3f06425f",
   "metadata": {},
   "source": [
    "I believe that too many categories in this column are not necessary for our analysis. Therefore, we will use in our analysisi whether being married or single has any effect on hourly wages."
   ]
  },
  {
   "cell_type": "markdown",
   "id": "dfde758e",
   "metadata": {},
   "source": [
    "##### Columns: prcitshp"
   ]
  },
  {
   "cell_type": "code",
   "execution_count": 31,
   "id": "20294273",
   "metadata": {},
   "outputs": [
    {
     "data": {
      "text/html": [
       "<div>\n",
       "<style scoped>\n",
       "    .dataframe tbody tr th:only-of-type {\n",
       "        vertical-align: middle;\n",
       "    }\n",
       "\n",
       "    .dataframe tbody tr th {\n",
       "        vertical-align: top;\n",
       "    }\n",
       "\n",
       "    .dataframe thead th {\n",
       "        text-align: right;\n",
       "    }\n",
       "</style>\n",
       "<table border=\"1\" class=\"dataframe\">\n",
       "  <thead>\n",
       "    <tr style=\"text-align: right;\">\n",
       "      <th></th>\n",
       "      <th>frequency</th>\n",
       "      <th>percent</th>\n",
       "      <th>cumulative_percent</th>\n",
       "    </tr>\n",
       "    <tr>\n",
       "      <th>prcitshp</th>\n",
       "      <th></th>\n",
       "      <th></th>\n",
       "      <th></th>\n",
       "    </tr>\n",
       "  </thead>\n",
       "  <tbody>\n",
       "    <tr>\n",
       "      <th>Foreign Born, Not a US Citizen</th>\n",
       "      <td>227</td>\n",
       "      <td>3.185</td>\n",
       "      <td>3.185</td>\n",
       "    </tr>\n",
       "    <tr>\n",
       "      <th>Foreign Born, US Cit By Naturalization</th>\n",
       "      <td>499</td>\n",
       "      <td>7.001</td>\n",
       "      <td>10.186</td>\n",
       "    </tr>\n",
       "    <tr>\n",
       "      <th>Native, Born Abroad Of US Parent(s)</th>\n",
       "      <td>90</td>\n",
       "      <td>1.263</td>\n",
       "      <td>11.449</td>\n",
       "    </tr>\n",
       "    <tr>\n",
       "      <th>Native, Born In US</th>\n",
       "      <td>6287</td>\n",
       "      <td>88.201</td>\n",
       "      <td>99.650</td>\n",
       "    </tr>\n",
       "    <tr>\n",
       "      <th>Native, Born in PR or US Outlying Area</th>\n",
       "      <td>25</td>\n",
       "      <td>0.351</td>\n",
       "      <td>100.001</td>\n",
       "    </tr>\n",
       "  </tbody>\n",
       "</table>\n",
       "</div>"
      ],
      "text/plain": [
       "                                        frequency  percent  cumulative_percent\n",
       "prcitshp                                                                      \n",
       "Foreign Born, Not a US Citizen                227    3.185               3.185\n",
       "Foreign Born, US Cit By Naturalization        499    7.001              10.186\n",
       "Native, Born Abroad Of US Parent(s)            90    1.263              11.449\n",
       "Native, Born In US                           6287   88.201              99.650\n",
       "Native, Born in PR or US Outlying Area         25    0.351             100.001"
      ]
     },
     "execution_count": 31,
     "metadata": {},
     "output_type": "execute_result"
    }
   ],
   "source": [
    "# check frequencies by 'citizenship status'\n",
    "freq = buss_fin_occ_data.groupby(\"prcitshp\").agg(frequency=(\"prcitshp\", \"size\"))\n",
    "freq[\"percent\"] = round(freq[\"frequency\"] / sum(freq[\"frequency\"]) * 100, 3)\n",
    "freq[\"cumulative_percent\"] = np.cumsum(freq[\"percent\"])\n",
    "freq"
   ]
  },
  {
   "cell_type": "markdown",
   "id": "89ee3404",
   "metadata": {},
   "source": [
    "Since the majority of `prcitshp` variable is labeled as 'natives born in US', we will not use this variable in our analysis."
   ]
  },
  {
   "cell_type": "code",
   "execution_count": 32,
   "id": "85b8abcc",
   "metadata": {},
   "outputs": [],
   "source": [
    "# Drop 'prcitshp' column \n",
    "buss_fin_occ_data = buss_fin_occ_data.drop([\"prcitshp\"],axis=1)"
   ]
  },
  {
   "cell_type": "markdown",
   "id": "44ad81c5",
   "metadata": {},
   "source": [
    "##### Columns: ownchild, chldpres"
   ]
  },
  {
   "cell_type": "code",
   "execution_count": 33,
   "id": "f0efa816",
   "metadata": {},
   "outputs": [
    {
     "data": {
      "text/html": [
       "<div>\n",
       "<style scoped>\n",
       "    .dataframe tbody tr th:only-of-type {\n",
       "        vertical-align: middle;\n",
       "    }\n",
       "\n",
       "    .dataframe tbody tr th {\n",
       "        vertical-align: top;\n",
       "    }\n",
       "\n",
       "    .dataframe thead th {\n",
       "        text-align: right;\n",
       "    }\n",
       "</style>\n",
       "<table border=\"1\" class=\"dataframe\">\n",
       "  <thead>\n",
       "    <tr style=\"text-align: right;\">\n",
       "      <th></th>\n",
       "      <th>frequency</th>\n",
       "      <th>percent</th>\n",
       "      <th>cumulative_percent</th>\n",
       "    </tr>\n",
       "    <tr>\n",
       "      <th>ownchild</th>\n",
       "      <th></th>\n",
       "      <th></th>\n",
       "      <th></th>\n",
       "    </tr>\n",
       "  </thead>\n",
       "  <tbody>\n",
       "    <tr>\n",
       "      <th>0</th>\n",
       "      <td>4460</td>\n",
       "      <td>62.570</td>\n",
       "      <td>62.570</td>\n",
       "    </tr>\n",
       "    <tr>\n",
       "      <th>1</th>\n",
       "      <td>1163</td>\n",
       "      <td>16.316</td>\n",
       "      <td>78.886</td>\n",
       "    </tr>\n",
       "    <tr>\n",
       "      <th>2</th>\n",
       "      <td>1104</td>\n",
       "      <td>15.488</td>\n",
       "      <td>94.374</td>\n",
       "    </tr>\n",
       "    <tr>\n",
       "      <th>3</th>\n",
       "      <td>323</td>\n",
       "      <td>4.531</td>\n",
       "      <td>98.905</td>\n",
       "    </tr>\n",
       "    <tr>\n",
       "      <th>4</th>\n",
       "      <td>62</td>\n",
       "      <td>0.870</td>\n",
       "      <td>99.775</td>\n",
       "    </tr>\n",
       "    <tr>\n",
       "      <th>5</th>\n",
       "      <td>14</td>\n",
       "      <td>0.196</td>\n",
       "      <td>99.971</td>\n",
       "    </tr>\n",
       "    <tr>\n",
       "      <th>6</th>\n",
       "      <td>2</td>\n",
       "      <td>0.028</td>\n",
       "      <td>99.999</td>\n",
       "    </tr>\n",
       "  </tbody>\n",
       "</table>\n",
       "</div>"
      ],
      "text/plain": [
       "          frequency  percent  cumulative_percent\n",
       "ownchild                                        \n",
       "0              4460   62.570              62.570\n",
       "1              1163   16.316              78.886\n",
       "2              1104   15.488              94.374\n",
       "3               323    4.531              98.905\n",
       "4                62    0.870              99.775\n",
       "5                14    0.196              99.971\n",
       "6                 2    0.028              99.999"
      ]
     },
     "execution_count": 33,
     "metadata": {},
     "output_type": "execute_result"
    }
   ],
   "source": [
    "# check frequencies by 'ownchild'\n",
    "freq = buss_fin_occ_data.groupby(\"ownchild\").agg(frequency=(\"ownchild\", \"size\"))\n",
    "freq[\"percent\"] = round(freq[\"frequency\"] / sum(freq[\"frequency\"]) * 100, 3)\n",
    "freq[\"cumulative_percent\"] = np.cumsum(freq[\"percent\"])\n",
    "freq"
   ]
  },
  {
   "cell_type": "code",
   "execution_count": 34,
   "id": "ac99300e",
   "metadata": {},
   "outputs": [
    {
     "data": {
      "text/html": [
       "<div>\n",
       "<style scoped>\n",
       "    .dataframe tbody tr th:only-of-type {\n",
       "        vertical-align: middle;\n",
       "    }\n",
       "\n",
       "    .dataframe tbody tr th {\n",
       "        vertical-align: top;\n",
       "    }\n",
       "\n",
       "    .dataframe thead th {\n",
       "        text-align: right;\n",
       "    }\n",
       "</style>\n",
       "<table border=\"1\" class=\"dataframe\">\n",
       "  <thead>\n",
       "    <tr style=\"text-align: right;\">\n",
       "      <th></th>\n",
       "      <th>frequency</th>\n",
       "      <th>percent</th>\n",
       "      <th>cumulative_percent</th>\n",
       "    </tr>\n",
       "    <tr>\n",
       "      <th>chldpres</th>\n",
       "      <th></th>\n",
       "      <th></th>\n",
       "      <th></th>\n",
       "    </tr>\n",
       "  </thead>\n",
       "  <tbody>\n",
       "    <tr>\n",
       "      <th>0</th>\n",
       "      <td>4460</td>\n",
       "      <td>62.570</td>\n",
       "      <td>62.570</td>\n",
       "    </tr>\n",
       "    <tr>\n",
       "      <th>1</th>\n",
       "      <td>336</td>\n",
       "      <td>4.714</td>\n",
       "      <td>67.284</td>\n",
       "    </tr>\n",
       "    <tr>\n",
       "      <th>2</th>\n",
       "      <td>178</td>\n",
       "      <td>2.497</td>\n",
       "      <td>69.781</td>\n",
       "    </tr>\n",
       "    <tr>\n",
       "      <th>3</th>\n",
       "      <td>730</td>\n",
       "      <td>10.241</td>\n",
       "      <td>80.022</td>\n",
       "    </tr>\n",
       "    <tr>\n",
       "      <th>4</th>\n",
       "      <td>508</td>\n",
       "      <td>7.127</td>\n",
       "      <td>87.149</td>\n",
       "    </tr>\n",
       "    <tr>\n",
       "      <th>5</th>\n",
       "      <td>150</td>\n",
       "      <td>2.104</td>\n",
       "      <td>89.253</td>\n",
       "    </tr>\n",
       "    <tr>\n",
       "      <th>6</th>\n",
       "      <td>92</td>\n",
       "      <td>1.291</td>\n",
       "      <td>90.544</td>\n",
       "    </tr>\n",
       "    <tr>\n",
       "      <th>7</th>\n",
       "      <td>9</td>\n",
       "      <td>0.126</td>\n",
       "      <td>90.670</td>\n",
       "    </tr>\n",
       "    <tr>\n",
       "      <th>8</th>\n",
       "      <td>257</td>\n",
       "      <td>3.605</td>\n",
       "      <td>94.275</td>\n",
       "    </tr>\n",
       "    <tr>\n",
       "      <th>9</th>\n",
       "      <td>11</td>\n",
       "      <td>0.154</td>\n",
       "      <td>94.429</td>\n",
       "    </tr>\n",
       "    <tr>\n",
       "      <th>10</th>\n",
       "      <td>320</td>\n",
       "      <td>4.489</td>\n",
       "      <td>98.918</td>\n",
       "    </tr>\n",
       "    <tr>\n",
       "      <th>11</th>\n",
       "      <td>35</td>\n",
       "      <td>0.491</td>\n",
       "      <td>99.409</td>\n",
       "    </tr>\n",
       "    <tr>\n",
       "      <th>12</th>\n",
       "      <td>2</td>\n",
       "      <td>0.028</td>\n",
       "      <td>99.437</td>\n",
       "    </tr>\n",
       "    <tr>\n",
       "      <th>13</th>\n",
       "      <td>11</td>\n",
       "      <td>0.154</td>\n",
       "      <td>99.591</td>\n",
       "    </tr>\n",
       "    <tr>\n",
       "      <th>14</th>\n",
       "      <td>28</td>\n",
       "      <td>0.393</td>\n",
       "      <td>99.984</td>\n",
       "    </tr>\n",
       "    <tr>\n",
       "      <th>15</th>\n",
       "      <td>1</td>\n",
       "      <td>0.014</td>\n",
       "      <td>99.998</td>\n",
       "    </tr>\n",
       "  </tbody>\n",
       "</table>\n",
       "</div>"
      ],
      "text/plain": [
       "          frequency  percent  cumulative_percent\n",
       "chldpres                                        \n",
       "0              4460   62.570              62.570\n",
       "1               336    4.714              67.284\n",
       "2               178    2.497              69.781\n",
       "3               730   10.241              80.022\n",
       "4               508    7.127              87.149\n",
       "5               150    2.104              89.253\n",
       "6                92    1.291              90.544\n",
       "7                 9    0.126              90.670\n",
       "8               257    3.605              94.275\n",
       "9                11    0.154              94.429\n",
       "10              320    4.489              98.918\n",
       "11               35    0.491              99.409\n",
       "12                2    0.028              99.437\n",
       "13               11    0.154              99.591\n",
       "14               28    0.393              99.984\n",
       "15                1    0.014              99.998"
      ]
     },
     "execution_count": 34,
     "metadata": {},
     "output_type": "execute_result"
    }
   ],
   "source": [
    "# check frequencies by 'chldpres'\n",
    "freq = buss_fin_occ_data.groupby(\"chldpres\").agg(frequency=(\"chldpres\", \"size\"))\n",
    "freq[\"percent\"] = round(freq[\"frequency\"] / sum(freq[\"frequency\"]) * 100, 3)\n",
    "freq[\"cumulative_percent\"] = np.cumsum(freq[\"percent\"])\n",
    "freq"
   ]
  },
  {
   "cell_type": "markdown",
   "id": "d455cbe4",
   "metadata": {},
   "source": [
    "`ownchild` (Number of own children less than 18 in primary family) and `chldpres` (Presence of own children less than 18 in primary family) variables are related to each other and using both can cause collinearity. For these reasons, we may not use the more detailed `chldpres` variable."
   ]
  },
  {
   "cell_type": "code",
   "execution_count": 35,
   "id": "e286cdab",
   "metadata": {},
   "outputs": [],
   "source": [
    "# Drop 'chldpres' column \n",
    "buss_fin_occ_data = buss_fin_occ_data.drop([\"chldpres\"],axis=1)"
   ]
  },
  {
   "cell_type": "markdown",
   "id": "556130ea",
   "metadata": {},
   "source": [
    "##### Columns: ind02"
   ]
  },
  {
   "cell_type": "code",
   "execution_count": 36,
   "id": "41757161",
   "metadata": {},
   "outputs": [
    {
     "data": {
      "text/html": [
       "<div>\n",
       "<style scoped>\n",
       "    .dataframe tbody tr th:only-of-type {\n",
       "        vertical-align: middle;\n",
       "    }\n",
       "\n",
       "    .dataframe tbody tr th {\n",
       "        vertical-align: top;\n",
       "    }\n",
       "\n",
       "    .dataframe thead th {\n",
       "        text-align: right;\n",
       "    }\n",
       "</style>\n",
       "<table border=\"1\" class=\"dataframe\">\n",
       "  <thead>\n",
       "    <tr style=\"text-align: right;\">\n",
       "      <th></th>\n",
       "      <th>frequency</th>\n",
       "      <th>percent</th>\n",
       "      <th>cumulative_percent</th>\n",
       "    </tr>\n",
       "    <tr>\n",
       "      <th>ind02</th>\n",
       "      <th></th>\n",
       "      <th></th>\n",
       "      <th></th>\n",
       "    </tr>\n",
       "  </thead>\n",
       "  <tbody>\n",
       "    <tr>\n",
       "      <th>** Alcoholic beverages, merchant wholesalers (*4248)</th>\n",
       "      <td>4</td>\n",
       "      <td>0.056</td>\n",
       "      <td>0.056</td>\n",
       "    </tr>\n",
       "    <tr>\n",
       "      <th>** Apparel, fabrics, and notions, merchant wholesalers (*4243)</th>\n",
       "      <td>2</td>\n",
       "      <td>0.028</td>\n",
       "      <td>0.084</td>\n",
       "    </tr>\n",
       "    <tr>\n",
       "      <th>** Construction (23)</th>\n",
       "      <td>164</td>\n",
       "      <td>2.301</td>\n",
       "      <td>2.385</td>\n",
       "    </tr>\n",
       "    <tr>\n",
       "      <th>** Drugs, sundries, and chemical and allied products, merchant (wholesalerss*4242, 4246)</th>\n",
       "      <td>15</td>\n",
       "      <td>0.210</td>\n",
       "      <td>2.595</td>\n",
       "    </tr>\n",
       "    <tr>\n",
       "      <th>** Farm product raw materials, merchant wholesalers (*4245)</th>\n",
       "      <td>10</td>\n",
       "      <td>0.140</td>\n",
       "      <td>2.735</td>\n",
       "    </tr>\n",
       "    <tr>\n",
       "      <th>...</th>\n",
       "      <td>...</td>\n",
       "      <td>...</td>\n",
       "      <td>...</td>\n",
       "    </tr>\n",
       "    <tr>\n",
       "      <th>Warehousing and storage (493)</th>\n",
       "      <td>3</td>\n",
       "      <td>0.042</td>\n",
       "      <td>99.402</td>\n",
       "    </tr>\n",
       "    <tr>\n",
       "      <th>Waste management and remediation services (562)</th>\n",
       "      <td>12</td>\n",
       "      <td>0.168</td>\n",
       "      <td>99.570</td>\n",
       "    </tr>\n",
       "    <tr>\n",
       "      <th>Water transportation (483)</th>\n",
       "      <td>1</td>\n",
       "      <td>0.014</td>\n",
       "      <td>99.584</td>\n",
       "    </tr>\n",
       "    <tr>\n",
       "      <th>Water, steam, air-conditioning, and irrigation systems (22131, 22133)</th>\n",
       "      <td>4</td>\n",
       "      <td>0.056</td>\n",
       "      <td>99.640</td>\n",
       "    </tr>\n",
       "    <tr>\n",
       "      <th>Wired telecommunications carriers (*5171)</th>\n",
       "      <td>24</td>\n",
       "      <td>0.337</td>\n",
       "      <td>99.977</td>\n",
       "    </tr>\n",
       "  </tbody>\n",
       "</table>\n",
       "<p>236 rows × 3 columns</p>\n",
       "</div>"
      ],
      "text/plain": [
       "                                                    frequency  percent  \\\n",
       "ind02                                                                    \n",
       "** Alcoholic beverages, merchant wholesalers (*...          4    0.056   \n",
       "** Apparel, fabrics, and notions, merchant whol...          2    0.028   \n",
       "** Construction (23)                                      164    2.301   \n",
       "** Drugs, sundries, and chemical and allied pro...         15    0.210   \n",
       "** Farm product raw materials, merchant wholesa...         10    0.140   \n",
       "...                                                       ...      ...   \n",
       "Warehousing and storage (493)                               3    0.042   \n",
       "Waste management and remediation services (562)            12    0.168   \n",
       "Water transportation (483)                                  1    0.014   \n",
       "Water, steam, air-conditioning, and irrigation ...          4    0.056   \n",
       "Wired telecommunications carriers (*5171)                  24    0.337   \n",
       "\n",
       "                                                    cumulative_percent  \n",
       "ind02                                                                   \n",
       "** Alcoholic beverages, merchant wholesalers (*...               0.056  \n",
       "** Apparel, fabrics, and notions, merchant whol...               0.084  \n",
       "** Construction (23)                                             2.385  \n",
       "** Drugs, sundries, and chemical and allied pro...               2.595  \n",
       "** Farm product raw materials, merchant wholesa...               2.735  \n",
       "...                                                                ...  \n",
       "Warehousing and storage (493)                                   99.402  \n",
       "Waste management and remediation services (562)                 99.570  \n",
       "Water transportation (483)                                      99.584  \n",
       "Water, steam, air-conditioning, and irrigation ...              99.640  \n",
       "Wired telecommunications carriers (*5171)                       99.977  \n",
       "\n",
       "[236 rows x 3 columns]"
      ]
     },
     "execution_count": 36,
     "metadata": {},
     "output_type": "execute_result"
    }
   ],
   "source": [
    "# check frequencies by 'ind02'\n",
    "freq = buss_fin_occ_data.groupby(\"ind02\").agg(frequency=(\"ind02\", \"size\"))\n",
    "freq[\"percent\"] = round(freq[\"frequency\"] / sum(freq[\"frequency\"]) * 100, 3)\n",
    "freq[\"cumulative_percent\"] = np.cumsum(freq[\"percent\"])\n",
    "freq"
   ]
  },
  {
   "cell_type": "markdown",
   "id": "7fcf5e2b",
   "metadata": {},
   "source": [
    "There are two many labels in this industry column and will be hard to interpret the results. Therefore, we drop this column."
   ]
  },
  {
   "cell_type": "code",
   "execution_count": 37,
   "id": "1d6545ad",
   "metadata": {},
   "outputs": [],
   "source": [
    "# Drop 'ind02' column \n",
    "buss_fin_occ_data = buss_fin_occ_data.drop([\"ind02\"],axis=1)"
   ]
  },
  {
   "cell_type": "markdown",
   "id": "cbcf0c76",
   "metadata": {},
   "source": [
    "##### Columns: occ2012"
   ]
  },
  {
   "cell_type": "markdown",
   "id": "810d8025",
   "metadata": {},
   "source": [
    "Since we have filtered the occupations using `occ2012` and created \"Business and Financial Operations Occupations\" title and considered this as single broader occupation, putting this variable into regression will not make sense. Therefore, we drop this column, too."
   ]
  },
  {
   "cell_type": "code",
   "execution_count": 38,
   "id": "275c5d54",
   "metadata": {},
   "outputs": [],
   "source": [
    "# Drop 'occ2012' column \n",
    "buss_fin_occ_data = buss_fin_occ_data.drop([\"occ2012\"],axis=1)"
   ]
  },
  {
   "cell_type": "markdown",
   "id": "e594bdab",
   "metadata": {},
   "source": [
    "##### Columns: class"
   ]
  },
  {
   "cell_type": "code",
   "execution_count": 39,
   "id": "82a3d7ea",
   "metadata": {},
   "outputs": [
    {
     "data": {
      "text/html": [
       "<div>\n",
       "<style scoped>\n",
       "    .dataframe tbody tr th:only-of-type {\n",
       "        vertical-align: middle;\n",
       "    }\n",
       "\n",
       "    .dataframe tbody tr th {\n",
       "        vertical-align: top;\n",
       "    }\n",
       "\n",
       "    .dataframe thead th {\n",
       "        text-align: right;\n",
       "    }\n",
       "</style>\n",
       "<table border=\"1\" class=\"dataframe\">\n",
       "  <thead>\n",
       "    <tr style=\"text-align: right;\">\n",
       "      <th></th>\n",
       "      <th>frequency</th>\n",
       "      <th>percent</th>\n",
       "      <th>cumulative_percent</th>\n",
       "    </tr>\n",
       "    <tr>\n",
       "      <th>class</th>\n",
       "      <th></th>\n",
       "      <th></th>\n",
       "      <th></th>\n",
       "    </tr>\n",
       "  </thead>\n",
       "  <tbody>\n",
       "    <tr>\n",
       "      <th>Government - Federal</th>\n",
       "      <td>428</td>\n",
       "      <td>6.004</td>\n",
       "      <td>6.004</td>\n",
       "    </tr>\n",
       "    <tr>\n",
       "      <th>Government - Local</th>\n",
       "      <td>238</td>\n",
       "      <td>3.339</td>\n",
       "      <td>9.343</td>\n",
       "    </tr>\n",
       "    <tr>\n",
       "      <th>Government - State</th>\n",
       "      <td>401</td>\n",
       "      <td>5.626</td>\n",
       "      <td>14.969</td>\n",
       "    </tr>\n",
       "    <tr>\n",
       "      <th>Private, For Profit</th>\n",
       "      <td>5484</td>\n",
       "      <td>76.936</td>\n",
       "      <td>91.905</td>\n",
       "    </tr>\n",
       "    <tr>\n",
       "      <th>Private, Nonprofit</th>\n",
       "      <td>577</td>\n",
       "      <td>8.095</td>\n",
       "      <td>100.000</td>\n",
       "    </tr>\n",
       "  </tbody>\n",
       "</table>\n",
       "</div>"
      ],
      "text/plain": [
       "                      frequency  percent  cumulative_percent\n",
       "class                                                       \n",
       "Government - Federal        428    6.004               6.004\n",
       "Government - Local          238    3.339               9.343\n",
       "Government - State          401    5.626              14.969\n",
       "Private, For Profit        5484   76.936              91.905\n",
       "Private, Nonprofit          577    8.095             100.000"
      ]
     },
     "execution_count": 39,
     "metadata": {},
     "output_type": "execute_result"
    }
   ],
   "source": [
    "# check frequencies by 'class'\n",
    "freq = buss_fin_occ_data.groupby(\"class\").agg(frequency=(\"class\", \"size\"))\n",
    "freq[\"percent\"] = round(freq[\"frequency\"] / sum(freq[\"frequency\"]) * 100, 3)\n",
    "freq[\"cumulative_percent\"] = np.cumsum(freq[\"percent\"])\n",
    "freq"
   ]
  },
  {
   "cell_type": "markdown",
   "id": "232befc7",
   "metadata": {},
   "source": [
    "Although the majority of `class` of workers is labeled as 'Private, For Profit', we will keep it as it is. There might be differences in hourly wages across classes."
   ]
  },
  {
   "cell_type": "code",
   "execution_count": 40,
   "id": "256feef1",
   "metadata": {},
   "outputs": [],
   "source": [
    "# Rename 'class' column to avoid any issues, since 'class' is a reserved word in Pyhton\n",
    "buss_fin_occ_data = buss_fin_occ_data.rename(columns={'class': 'class_of_workers'})"
   ]
  },
  {
   "cell_type": "markdown",
   "id": "cb56f644",
   "metadata": {},
   "source": [
    "##### Columns: unionmme, unioncov"
   ]
  },
  {
   "cell_type": "code",
   "execution_count": 41,
   "id": "ad1a5458",
   "metadata": {},
   "outputs": [
    {
     "data": {
      "text/html": [
       "<div>\n",
       "<style scoped>\n",
       "    .dataframe tbody tr th:only-of-type {\n",
       "        vertical-align: middle;\n",
       "    }\n",
       "\n",
       "    .dataframe tbody tr th {\n",
       "        vertical-align: top;\n",
       "    }\n",
       "\n",
       "    .dataframe thead th {\n",
       "        text-align: right;\n",
       "    }\n",
       "</style>\n",
       "<table border=\"1\" class=\"dataframe\">\n",
       "  <thead>\n",
       "    <tr style=\"text-align: right;\">\n",
       "      <th></th>\n",
       "      <th>frequency</th>\n",
       "      <th>percent</th>\n",
       "      <th>cumulative_percent</th>\n",
       "    </tr>\n",
       "    <tr>\n",
       "      <th>unionmme</th>\n",
       "      <th></th>\n",
       "      <th></th>\n",
       "      <th></th>\n",
       "    </tr>\n",
       "  </thead>\n",
       "  <tbody>\n",
       "    <tr>\n",
       "      <th>No</th>\n",
       "      <td>6755</td>\n",
       "      <td>94.767</td>\n",
       "      <td>94.767</td>\n",
       "    </tr>\n",
       "    <tr>\n",
       "      <th>Yes</th>\n",
       "      <td>373</td>\n",
       "      <td>5.233</td>\n",
       "      <td>100.000</td>\n",
       "    </tr>\n",
       "  </tbody>\n",
       "</table>\n",
       "</div>"
      ],
      "text/plain": [
       "          frequency  percent  cumulative_percent\n",
       "unionmme                                        \n",
       "No             6755   94.767              94.767\n",
       "Yes             373    5.233             100.000"
      ]
     },
     "execution_count": 41,
     "metadata": {},
     "output_type": "execute_result"
    }
   ],
   "source": [
    "# check frequencies by 'unionmme'\n",
    "freq = buss_fin_occ_data.groupby(\"unionmme\").agg(frequency=(\"unionmme\", \"size\"))\n",
    "freq[\"percent\"] = round(freq[\"frequency\"] / sum(freq[\"frequency\"]) * 100, 3)\n",
    "freq[\"cumulative_percent\"] = np.cumsum(freq[\"percent\"])\n",
    "freq"
   ]
  },
  {
   "cell_type": "code",
   "execution_count": 42,
   "id": "8e5a653b",
   "metadata": {},
   "outputs": [],
   "source": [
    "# Missing values in 'unioncov' column are labeled as 'Missing'\n",
    "buss_fin_occ_data[\"unioncov\"] = buss_fin_occ_data[\"unioncov\"].fillna(\"Missing\")"
   ]
  },
  {
   "cell_type": "code",
   "execution_count": 43,
   "id": "ed0ba906",
   "metadata": {},
   "outputs": [
    {
     "data": {
      "text/html": [
       "<div>\n",
       "<style scoped>\n",
       "    .dataframe tbody tr th:only-of-type {\n",
       "        vertical-align: middle;\n",
       "    }\n",
       "\n",
       "    .dataframe tbody tr th {\n",
       "        vertical-align: top;\n",
       "    }\n",
       "\n",
       "    .dataframe thead th {\n",
       "        text-align: right;\n",
       "    }\n",
       "</style>\n",
       "<table border=\"1\" class=\"dataframe\">\n",
       "  <thead>\n",
       "    <tr style=\"text-align: right;\">\n",
       "      <th></th>\n",
       "      <th>frequency</th>\n",
       "      <th>percent</th>\n",
       "      <th>cumulative_percent</th>\n",
       "    </tr>\n",
       "    <tr>\n",
       "      <th>unioncov</th>\n",
       "      <th></th>\n",
       "      <th></th>\n",
       "      <th></th>\n",
       "    </tr>\n",
       "  </thead>\n",
       "  <tbody>\n",
       "    <tr>\n",
       "      <th>Missing</th>\n",
       "      <td>373</td>\n",
       "      <td>5.233</td>\n",
       "      <td>5.233</td>\n",
       "    </tr>\n",
       "    <tr>\n",
       "      <th>No</th>\n",
       "      <td>6688</td>\n",
       "      <td>93.827</td>\n",
       "      <td>99.060</td>\n",
       "    </tr>\n",
       "    <tr>\n",
       "      <th>Yes</th>\n",
       "      <td>67</td>\n",
       "      <td>0.940</td>\n",
       "      <td>100.000</td>\n",
       "    </tr>\n",
       "  </tbody>\n",
       "</table>\n",
       "</div>"
      ],
      "text/plain": [
       "          frequency  percent  cumulative_percent\n",
       "unioncov                                        \n",
       "Missing         373    5.233               5.233\n",
       "No             6688   93.827              99.060\n",
       "Yes              67    0.940             100.000"
      ]
     },
     "execution_count": 43,
     "metadata": {},
     "output_type": "execute_result"
    }
   ],
   "source": [
    "# check frequencies by 'unioncov'\n",
    "freq = buss_fin_occ_data.groupby(\"unioncov\").agg(frequency=(\"unioncov\", \"size\"))\n",
    "freq[\"percent\"] = round(freq[\"frequency\"] / sum(freq[\"frequency\"]) * 100, 3)\n",
    "freq[\"cumulative_percent\"] = np.cumsum(freq[\"percent\"])\n",
    "freq\n"
   ]
  },
  {
   "cell_type": "markdown",
   "id": "ce4b4e00",
   "metadata": {},
   "source": [
    "Union membership (`unionmme`) and coverage by a union contract (`unioncov`) are very rare in the data. And since these two columns are related, keeping only on of them will be a choice. Since there are more observations of 'Yes' in `unionmme` column and there are no missing values in that column, we will keep this and drop `unioncov` column."
   ]
  },
  {
   "cell_type": "code",
   "execution_count": 44,
   "id": "e8831837",
   "metadata": {},
   "outputs": [],
   "source": [
    "# Drop 'unioncov' column \n",
    "buss_fin_occ_data = buss_fin_occ_data.drop([\"unioncov\"],axis=1)"
   ]
  },
  {
   "cell_type": "markdown",
   "id": "28eb15d3",
   "metadata": {},
   "source": [
    "##### Columns: lfsr94 "
   ]
  },
  {
   "cell_type": "code",
   "execution_count": 45,
   "id": "3527381d",
   "metadata": {},
   "outputs": [
    {
     "data": {
      "text/html": [
       "<div>\n",
       "<style scoped>\n",
       "    .dataframe tbody tr th:only-of-type {\n",
       "        vertical-align: middle;\n",
       "    }\n",
       "\n",
       "    .dataframe tbody tr th {\n",
       "        vertical-align: top;\n",
       "    }\n",
       "\n",
       "    .dataframe thead th {\n",
       "        text-align: right;\n",
       "    }\n",
       "</style>\n",
       "<table border=\"1\" class=\"dataframe\">\n",
       "  <thead>\n",
       "    <tr style=\"text-align: right;\">\n",
       "      <th></th>\n",
       "      <th>frequency</th>\n",
       "      <th>percent</th>\n",
       "      <th>cumulative_percent</th>\n",
       "    </tr>\n",
       "    <tr>\n",
       "      <th>lfsr94</th>\n",
       "      <th></th>\n",
       "      <th></th>\n",
       "      <th></th>\n",
       "    </tr>\n",
       "  </thead>\n",
       "  <tbody>\n",
       "    <tr>\n",
       "      <th>Employed-Absent</th>\n",
       "      <td>165</td>\n",
       "      <td>2.315</td>\n",
       "      <td>2.315</td>\n",
       "    </tr>\n",
       "    <tr>\n",
       "      <th>Employed-At Work</th>\n",
       "      <td>6963</td>\n",
       "      <td>97.685</td>\n",
       "      <td>100.000</td>\n",
       "    </tr>\n",
       "  </tbody>\n",
       "</table>\n",
       "</div>"
      ],
      "text/plain": [
       "                  frequency  percent  cumulative_percent\n",
       "lfsr94                                                  \n",
       "Employed-Absent         165    2.315               2.315\n",
       "Employed-At Work       6963   97.685             100.000"
      ]
     },
     "execution_count": 45,
     "metadata": {},
     "output_type": "execute_result"
    }
   ],
   "source": [
    "# check frequencies by 'lfsr94'\n",
    "freq = buss_fin_occ_data.groupby(\"lfsr94\").agg(frequency=(\"lfsr94\", \"size\"))\n",
    "freq[\"percent\"] = round(freq[\"frequency\"] / sum(freq[\"frequency\"]) * 100, 3)\n",
    "freq[\"cumulative_percent\"] = np.cumsum(freq[\"percent\"])\n",
    "freq"
   ]
  },
  {
   "cell_type": "markdown",
   "id": "985bf4b4",
   "metadata": {},
   "source": [
    "Althoug there are few observations labeled as \"Employed-Absent\", we will keep this column and may use in the analysis. I interpret this workers as remote workers."
   ]
  },
  {
   "cell_type": "markdown",
   "id": "79e0fe35",
   "metadata": {},
   "source": [
    "### Feature Engineering"
   ]
  },
  {
   "cell_type": "markdown",
   "id": "43e1d14d",
   "metadata": {},
   "source": [
    "The most importan task in this part is `variable selection`: what variables to have in the model\n",
    "and in what functional forms, including potential interactions."
   ]
  },
  {
   "cell_type": "code",
   "execution_count": 46,
   "id": "036ebd50",
   "metadata": {},
   "outputs": [
    {
     "name": "stdout",
     "output_type": "stream",
     "text": [
      "<class 'pandas.core.frame.DataFrame'>\n",
      "Index: 7128 entries, 0 to 149296\n",
      "Data columns (total 13 columns):\n",
      " #   Column                Non-Null Count  Dtype  \n",
      "---  ------                --------------  -----  \n",
      " 0   stfips                7128 non-null   object \n",
      " 1   earnwke               7128 non-null   float64\n",
      " 2   uhours                7128 non-null   int64  \n",
      " 3   grade92               7128 non-null   int64  \n",
      " 4   age                   7128 non-null   int64  \n",
      " 5   sex                   7128 non-null   int64  \n",
      " 6   marital               7128 non-null   int64  \n",
      " 7   ownchild              7128 non-null   int64  \n",
      " 8   class_of_workers      7128 non-null   object \n",
      " 9   unionmme              7128 non-null   object \n",
      " 10  lfsr94                7128 non-null   object \n",
      " 11  earnings_per_hour     7128 non-null   float64\n",
      " 12  ln_earnings_per_hour  7128 non-null   float64\n",
      "dtypes: float64(3), int64(6), object(4)\n",
      "memory usage: 779.6+ KB\n"
     ]
    }
   ],
   "source": [
    "# The final dataframe after EDA\n",
    "buss_fin_occ_data.info()"
   ]
  },
  {
   "cell_type": "markdown",
   "id": "ad6a9fd6",
   "metadata": {},
   "source": [
    "Since we have created `earnings_per_hour` and `ln` of this column using `earnwke` and `uhours`, we can drop these columns and assign the remaining columns to newly named dataframe."
   ]
  },
  {
   "cell_type": "code",
   "execution_count": 47,
   "id": "2bc34d13",
   "metadata": {},
   "outputs": [],
   "source": [
    "# Create a new dataframe and drop 'earnwke' and 'uhours'\n",
    "final_df = buss_fin_occ_data.drop(columns=['earnwke', 'uhours'])\n",
    "final_df = final_df.reset_index(drop=True)"
   ]
  },
  {
   "cell_type": "markdown",
   "id": "95dc4530",
   "metadata": {},
   "source": [
    "Our $y$ variable (or dependent variable) is going to be either `earnings_per_hour` or `ln(earnings_per_hour)`. The remaining columns or variables are candidates for being $x$ variables (explanatory variables). All potential explanatory variables except the `age` and `ownchild` (number of children in family) variables are categorical variables. Moreover, we have removed in EDA part some irrelevant variables for our analysis."
   ]
  },
  {
   "cell_type": "markdown",
   "id": "f03a3afd",
   "metadata": {},
   "source": [
    "Furthermore, we can create some interactions and nonlinear/polynomial forms of existing variables to enrich our models."
   ]
  },
  {
   "cell_type": "code",
   "execution_count": 48,
   "id": "677375ef",
   "metadata": {},
   "outputs": [],
   "source": [
    "# Create quadratic and cubic forms of age\n",
    "final_df[\"agesq\"] = final_df[\"age\"] ** 2\n",
    "final_df[\"agecu\"] = final_df[\"age\"] ** 3"
   ]
  },
  {
   "cell_type": "markdown",
   "id": "29628be2",
   "metadata": {},
   "source": [
    "Age and Education level (grade), Age and Marital Status, Education level and Gender are some potential interactions. We do not have to create new variables for interactions. It is enough to introduce interactions in models. `statsmodels` also internally handles the creation of dummy variables for categorical variables specified in the formula."
   ]
  },
  {
   "cell_type": "markdown",
   "id": "ffbc09a2",
   "metadata": {},
   "source": [
    "### Modelling"
   ]
  },
  {
   "cell_type": "markdown",
   "id": "abb8c91b",
   "metadata": {},
   "source": [
    "We start modelling with basic models. Then we add more variables to compare various models."
   ]
  },
  {
   "cell_type": "markdown",
   "id": "3f2b8581",
   "metadata": {},
   "source": [
    "We will start with regressing hourly wages on education levels (grade92). I would expect that education level plays a huge role in white collar jobs."
   ]
  },
  {
   "cell_type": "markdown",
   "id": "357420eb",
   "metadata": {},
   "source": [
    " Linear regressions\n",
    " \n",
    "**Log-level**:\n",
    "\n",
    "$(\\ln{w})^E = \\alpha + \\beta \\times grade92$"
   ]
  },
  {
   "cell_type": "markdown",
   "id": "1e97dfa1",
   "metadata": {},
   "source": [
    "##### Model1"
   ]
  },
  {
   "cell_type": "markdown",
   "id": "9c5dbda6",
   "metadata": {},
   "source": [
    "The category not represented is the **reference category**. Coefficients on each $k-1$ dummy show average differences in $y$ compared to the reference category."
   ]
  },
  {
   "cell_type": "code",
   "execution_count": 49,
   "id": "967c3df2",
   "metadata": {},
   "outputs": [],
   "source": [
    "model1 = smf.ols(\"ln_earnings_per_hour ~ C(grade92)\", data=final_df).fit(cov_type=\"HC0\")"
   ]
  },
  {
   "cell_type": "code",
   "execution_count": 50,
   "id": "6e812240",
   "metadata": {},
   "outputs": [
    {
     "name": "stdout",
     "output_type": "stream",
     "text": [
      "                             OLS Regression Results                             \n",
      "================================================================================\n",
      "Dep. Variable:     ln_earnings_per_hour   R-squared:                       0.081\n",
      "Model:                              OLS   Adj. R-squared:                  0.080\n",
      "Method:                   Least Squares   F-statistic:                     125.4\n",
      "Date:                  Sun, 21 Jan 2024   Prob (F-statistic):          1.27e-127\n",
      "Time:                          18:31:35   Log-Likelihood:                -6219.9\n",
      "No. Observations:                  7128   AIC:                         1.245e+04\n",
      "Df Residuals:                      7122   BIC:                         1.249e+04\n",
      "Df Model:                             5                                         \n",
      "Covariance Type:                    HC1                                         \n",
      "====================================================================================\n",
      "                       coef    std err          z      P>|z|      [0.025      0.975]\n",
      "------------------------------------------------------------------------------------\n",
      "Intercept            3.0108      0.019    158.942      0.000       2.974       3.048\n",
      "C(grade92)[T.40]    -0.0166      0.027     -0.605      0.545      -0.070       0.037\n",
      "C(grade92)[T.41]     0.0314      0.034      0.934      0.350      -0.035       0.097\n",
      "C(grade92)[T.42]     0.0105      0.039      0.266      0.790      -0.067       0.088\n",
      "C(grade92)[T.43]     0.3081      0.021     14.585      0.000       0.267       0.350\n",
      "C(grade92)[T.44]     0.4530      0.026     17.606      0.000       0.403       0.503\n",
      "==============================================================================\n",
      "Omnibus:                     6672.073   Durbin-Watson:                   1.916\n",
      "Prob(Omnibus):                  0.000   Jarque-Bera (JB):           868864.862\n",
      "Skew:                          -4.080   Prob(JB):                         0.00\n",
      "Kurtosis:                      56.469   Cond. No.                         9.62\n",
      "==============================================================================\n",
      "\n",
      "Notes:\n",
      "[1] Standard Errors are heteroscedasticity robust (HC1)\n"
     ]
    }
   ],
   "source": [
    "print(model1.get_robustcov_results(cov_type='HC1').summary())"
   ]
  },
  {
   "cell_type": "markdown",
   "id": "90a8c78e",
   "metadata": {},
   "source": [
    "We have used only education in Model1 and base (lowest education level) category is 39-High school graduate. For education levels 40, 41 and 42, coefficients are small and statistically not significant. However, for level 43-Bachelor's degree and 44-Master's degree coefficients are considerably high and statistically significant. With a Bachelor's degree, hourly wages increase by $e^{30.8} = 36$% and with a Master's degree increase by $e^{45.3} = 57$%."
   ]
  },
  {
   "cell_type": "markdown",
   "id": "1652d412",
   "metadata": {},
   "source": [
    "##### Model2"
   ]
  },
  {
   "cell_type": "markdown",
   "id": "307964f3",
   "metadata": {},
   "source": [
    "In the second model we add age variable to the existing education level variable."
   ]
  },
  {
   "cell_type": "code",
   "execution_count": 51,
   "id": "18e9e3fb",
   "metadata": {},
   "outputs": [],
   "source": [
    "model2 = smf.ols(\"ln_earnings_per_hour ~ C(grade92) + age + agesq + agecu\", data=final_df).fit(cov_type=\"HC0\")"
   ]
  },
  {
   "cell_type": "code",
   "execution_count": 52,
   "id": "f862242a",
   "metadata": {},
   "outputs": [
    {
     "name": "stdout",
     "output_type": "stream",
     "text": [
      "                             OLS Regression Results                             \n",
      "================================================================================\n",
      "Dep. Variable:     ln_earnings_per_hour   R-squared:                       0.153\n",
      "Model:                              OLS   Adj. R-squared:                  0.152\n",
      "Method:                   Least Squares   F-statistic:                     181.3\n",
      "Date:                  Sun, 21 Jan 2024   Prob (F-statistic):          9.30e-280\n",
      "Time:                          18:31:35   Log-Likelihood:                -5927.4\n",
      "No. Observations:                  7128   AIC:                         1.187e+04\n",
      "Df Residuals:                      7119   BIC:                         1.193e+04\n",
      "Df Model:                             8                                         \n",
      "Covariance Type:                    HC1                                         \n",
      "====================================================================================\n",
      "                       coef    std err          z      P>|z|      [0.025      0.975]\n",
      "------------------------------------------------------------------------------------\n",
      "Intercept           -0.0761      0.298     -0.256      0.798      -0.659       0.507\n",
      "C(grade92)[T.40]     0.0335      0.026      1.272      0.203      -0.018       0.085\n",
      "C(grade92)[T.41]     0.0177      0.032      0.559      0.576      -0.044       0.080\n",
      "C(grade92)[T.42]     0.0138      0.039      0.355      0.722      -0.062       0.090\n",
      "C(grade92)[T.43]     0.3577      0.021     17.390      0.000       0.317       0.398\n",
      "C(grade92)[T.44]     0.4702      0.026     18.272      0.000       0.420       0.521\n",
      "age                  0.1865      0.023      8.084      0.000       0.141       0.232\n",
      "agesq               -0.0037      0.001     -6.462      0.000      -0.005      -0.003\n",
      "agecu             2.402e-05   4.45e-06      5.392      0.000    1.53e-05    3.27e-05\n",
      "==============================================================================\n",
      "Omnibus:                     7346.924   Durbin-Watson:                   1.895\n",
      "Prob(Omnibus):                  0.000   Jarque-Bera (JB):          1281217.552\n",
      "Skew:                          -4.729   Prob(JB):                         0.00\n",
      "Kurtosis:                      67.995   Cond. No.                     5.17e+06\n",
      "==============================================================================\n",
      "\n",
      "Notes:\n",
      "[1] Standard Errors are heteroscedasticity robust (HC1)\n",
      "[2] The condition number is large, 5.17e+06. This might indicate that there are\n",
      "strong multicollinearity or other numerical problems.\n"
     ]
    }
   ],
   "source": [
    "print(model2.get_robustcov_results(cov_type='HC1').summary())"
   ]
  },
  {
   "cell_type": "markdown",
   "id": "e4877a6c",
   "metadata": {},
   "source": [
    "Both coefficients of $age$, $age^2$ and $age^3$ are statistically significant. `age` variable increases the wage by about 6%. $age^2$ and $age^3$ have a very negligble effect. Education level coeffs slightly changes but does not change the previous comments. We will continue with other models and compare them at the end."
   ]
  },
  {
   "cell_type": "markdown",
   "id": "c556d757",
   "metadata": {},
   "source": [
    "##### Model3"
   ]
  },
  {
   "cell_type": "code",
   "execution_count": 53,
   "id": "a2ec6c63",
   "metadata": {},
   "outputs": [],
   "source": [
    "model3 = smf.ols(\"ln_earnings_per_hour ~ C(grade92) + age + agesq + C(sex) + C(marital) + age*C(grade92) + C(grade92)*C(sex)\",\n",
    "                 data=final_df).fit(cov_type=\"HC0\")"
   ]
  },
  {
   "cell_type": "code",
   "execution_count": 54,
   "id": "178b9630",
   "metadata": {},
   "outputs": [
    {
     "name": "stdout",
     "output_type": "stream",
     "text": [
      "                             OLS Regression Results                             \n",
      "================================================================================\n",
      "Dep. Variable:     ln_earnings_per_hour   R-squared:                       0.172\n",
      "Model:                              OLS   Adj. R-squared:                  0.170\n",
      "Method:                   Least Squares   F-statistic:                     104.0\n",
      "Date:                  Sun, 21 Jan 2024   Prob (F-statistic):               0.00\n",
      "Time:                          18:31:35   Log-Likelihood:                -5847.1\n",
      "No. Observations:                  7128   AIC:                         1.173e+04\n",
      "Df Residuals:                      7108   BIC:                         1.187e+04\n",
      "Df Model:                            19                                         \n",
      "Covariance Type:                    HC1                                         \n",
      "================================================================================================\n",
      "                                   coef    std err          z      P>|z|      [0.025      0.975]\n",
      "------------------------------------------------------------------------------------------------\n",
      "Intercept                        1.6898      0.111     15.195      0.000       1.472       1.908\n",
      "C(grade92)[T.40]                -0.1074      0.095     -1.125      0.260      -0.295       0.080\n",
      "C(grade92)[T.41]                -0.2503      0.132     -1.902      0.057      -0.508       0.008\n",
      "C(grade92)[T.42]                 0.1785      0.159      1.120      0.263      -0.134       0.491\n",
      "C(grade92)[T.43]                 0.2985      0.078      3.833      0.000       0.146       0.451\n",
      "C(grade92)[T.44]                 0.5746      0.097      5.910      0.000       0.384       0.765\n",
      "C(sex)[T.2]                     -0.1309      0.044     -2.998      0.003      -0.216      -0.045\n",
      "C(marital)[T.2]                 -0.0358      0.014     -2.591      0.010      -0.063      -0.009\n",
      "C(grade92)[T.40]:C(sex)[T.2]    -0.0092      0.055     -0.167      0.867      -0.117       0.099\n",
      "C(grade92)[T.41]:C(sex)[T.2]    -0.0625      0.069     -0.911      0.362      -0.197       0.072\n",
      "C(grade92)[T.42]:C(sex)[T.2]    -0.0794      0.072     -1.103      0.270      -0.221       0.062\n",
      "C(grade92)[T.43]:C(sex)[T.2]    -0.0392      0.047     -0.830      0.407      -0.132       0.053\n",
      "C(grade92)[T.44]:C(sex)[T.2]    -0.0816      0.056     -1.470      0.142      -0.190       0.027\n",
      "age                              0.0598      0.005     13.163      0.000       0.051       0.069\n",
      "age:C(grade92)[T.40]             0.0031      0.002      1.430      0.153      -0.001       0.007\n",
      "age:C(grade92)[T.41]             0.0070      0.003      2.610      0.009       0.002       0.012\n",
      "age:C(grade92)[T.42]            -0.0022      0.004     -0.629      0.529      -0.009       0.005\n",
      "age:C(grade92)[T.43]             0.0016      0.002      0.930      0.352      -0.002       0.005\n",
      "age:C(grade92)[T.44]            -0.0020      0.002     -0.900      0.368      -0.006       0.002\n",
      "agesq                           -0.0006      5e-05    -11.762      0.000      -0.001      -0.000\n",
      "==============================================================================\n",
      "Omnibus:                     7463.522   Durbin-Watson:                   1.900\n",
      "Prob(Omnibus):                  0.000   Jarque-Bera (JB):          1364933.647\n",
      "Skew:                          -4.849   Prob(JB):                         0.00\n",
      "Kurtosis:                      70.095   Cond. No.                     7.73e+04\n",
      "==============================================================================\n",
      "\n",
      "Notes:\n",
      "[1] Standard Errors are heteroscedasticity robust (HC1)\n",
      "[2] The condition number is large, 7.73e+04. This might indicate that there are\n",
      "strong multicollinearity or other numerical problems.\n"
     ]
    }
   ],
   "source": [
    "print(model3.get_robustcov_results(cov_type='HC1').summary())"
   ]
  },
  {
   "cell_type": "markdown",
   "id": "1946acf0",
   "metadata": {},
   "source": [
    "In the third model we add gender, marital status and some interactions. It seems being woman decreases wages considerably. Moreover, being single also decreases wages slightly. "
   ]
  },
  {
   "cell_type": "markdown",
   "id": "2b78e11e",
   "metadata": {},
   "source": [
    "##### Model4"
   ]
  },
  {
   "cell_type": "markdown",
   "id": "5ecbed05",
   "metadata": {},
   "source": [
    "In the fourth and final model we add all remaining explanatory variables. In EDA part, we discussed and only kept possible explanatory variables."
   ]
  },
  {
   "cell_type": "code",
   "execution_count": 55,
   "id": "b60ede91",
   "metadata": {},
   "outputs": [],
   "source": [
    "model4 = smf.ols(\"ln_earnings_per_hour ~ C(grade92) + age + agesq + C(sex) + C(marital) + age*C(grade92) + C(grade92)*C(sex)\\\n",
    "                   + ownchild + C(class_of_workers) + C(unionmme) + C(lfsr94)\",\n",
    "                 data=final_df).fit(cov_type=\"HC0\")"
   ]
  },
  {
   "cell_type": "code",
   "execution_count": 56,
   "id": "99b9256b",
   "metadata": {},
   "outputs": [
    {
     "name": "stdout",
     "output_type": "stream",
     "text": [
      "                             OLS Regression Results                             \n",
      "================================================================================\n",
      "Dep. Variable:     ln_earnings_per_hour   R-squared:                       0.179\n",
      "Model:                              OLS   Adj. R-squared:                  0.176\n",
      "Method:                   Least Squares   F-statistic:                     79.23\n",
      "Date:                  Sun, 21 Jan 2024   Prob (F-statistic):               0.00\n",
      "Time:                          18:31:36   Log-Likelihood:                -5819.1\n",
      "No. Observations:                  7128   AIC:                         1.169e+04\n",
      "Df Residuals:                      7101   BIC:                         1.188e+04\n",
      "Df Model:                            26                                         \n",
      "Covariance Type:                    HC1                                         \n",
      "==============================================================================================================\n",
      "                                                 coef    std err          z      P>|z|      [0.025      0.975]\n",
      "--------------------------------------------------------------------------------------------------------------\n",
      "Intercept                                      1.8558      0.120     15.445      0.000       1.620       2.091\n",
      "C(grade92)[T.40]                              -0.1084      0.096     -1.130      0.258      -0.296       0.080\n",
      "C(grade92)[T.41]                              -0.2588      0.129     -2.008      0.045      -0.511      -0.006\n",
      "C(grade92)[T.42]                               0.1652      0.160      1.035      0.301      -0.148       0.478\n",
      "C(grade92)[T.43]                               0.2995      0.078      3.840      0.000       0.147       0.452\n",
      "C(grade92)[T.44]                               0.5765      0.097      5.926      0.000       0.386       0.767\n",
      "C(sex)[T.2]                                   -0.1310      0.044     -3.006      0.003      -0.216      -0.046\n",
      "C(marital)[T.2]                               -0.0290      0.015     -1.944      0.052      -0.058       0.000\n",
      "C(class_of_workers)[T.Government - Local]     -0.1739      0.036     -4.776      0.000      -0.245      -0.103\n",
      "C(class_of_workers)[T.Government - State]     -0.2559      0.036     -7.164      0.000      -0.326      -0.186\n",
      "C(class_of_workers)[T.Private, For Profit]    -0.1250      0.030     -4.210      0.000      -0.183      -0.067\n",
      "C(class_of_workers)[T.Private, Nonprofit]     -0.1860      0.034     -5.407      0.000      -0.253      -0.119\n",
      "C(unionmme)[T.Yes]                             0.0535      0.034      1.551      0.121      -0.014       0.121\n",
      "C(lfsr94)[T.Employed-At Work]                  0.0012      0.039      0.031      0.975      -0.075       0.077\n",
      "C(grade92)[T.40]:C(sex)[T.2]                  -0.0042      0.055     -0.076      0.939      -0.112       0.104\n",
      "C(grade92)[T.41]:C(sex)[T.2]                  -0.0619      0.068     -0.911      0.362      -0.195       0.071\n",
      "C(grade92)[T.42]:C(sex)[T.2]                  -0.0746      0.072     -1.040      0.298      -0.215       0.066\n",
      "C(grade92)[T.43]:C(sex)[T.2]                  -0.0319      0.047     -0.678      0.498      -0.124       0.060\n",
      "C(grade92)[T.44]:C(sex)[T.2]                  -0.0745      0.055     -1.343      0.179      -0.183       0.034\n",
      "age                                            0.0571      0.005     12.170      0.000       0.048       0.066\n",
      "age:C(grade92)[T.40]                           0.0030      0.002      1.376      0.169      -0.001       0.007\n",
      "age:C(grade92)[T.41]                           0.0071      0.003      2.663      0.008       0.002       0.012\n",
      "age:C(grade92)[T.42]                          -0.0020      0.004     -0.570      0.568      -0.009       0.005\n",
      "age:C(grade92)[T.43]                           0.0014      0.002      0.816      0.415      -0.002       0.005\n",
      "age:C(grade92)[T.44]                          -0.0023      0.002     -1.044      0.296      -0.007       0.002\n",
      "agesq                                         -0.0006   5.26e-05    -10.522      0.000      -0.001      -0.000\n",
      "ownchild                                       0.0132      0.007      1.876      0.061      -0.001       0.027\n",
      "==============================================================================\n",
      "Omnibus:                     7545.808   Durbin-Watson:                   1.905\n",
      "Prob(Omnibus):                  0.000   Jarque-Bera (JB):          1432018.701\n",
      "Skew:                          -4.934   Prob(JB):                         0.00\n",
      "Kurtosis:                      71.733   Cond. No.                     7.75e+04\n",
      "==============================================================================\n",
      "\n",
      "Notes:\n",
      "[1] Standard Errors are heteroscedasticity robust (HC1)\n",
      "[2] The condition number is large, 7.75e+04. This might indicate that there are\n",
      "strong multicollinearity or other numerical problems.\n"
     ]
    }
   ],
   "source": [
    "print(model4.get_robustcov_results(cov_type='HC1').summary())"
   ]
  },
  {
   "cell_type": "markdown",
   "id": "aa293969",
   "metadata": {},
   "source": [
    "Model4 results suggest that classes of workers other than Federal Government workers earn less than Federal Government. Although statistically not significant, being a union member increases the wages. Higher number of child in family also increases the wages slightly."
   ]
  },
  {
   "cell_type": "markdown",
   "id": "35491091",
   "metadata": {},
   "source": [
    "##### Comparison of models"
   ]
  },
  {
   "cell_type": "code",
   "execution_count": 57,
   "id": "ad8507c3",
   "metadata": {},
   "outputs": [
    {
     "data": {
      "text/html": [
       "<table style=\"text-align:center\"><tr><td colspan=\"5\" style=\"border-bottom: 1px solid black\"></td></tr>\n",
       "<tr><td style=\"text-align:left\"></td><td colspan=\"4\"><em>Dependent variable: ln_earnings_per_hour</em></td></tr><tr><td style=\"text-align:left\"></td><tr><td style=\"text-align:left\"></td><td>(1)</td><td>(2)</td><td>(3)</td><td>(4)</td></tr>\n",
       "<tr><td colspan=\"5\" style=\"border-bottom: 1px solid black\"></td></tr>\n",
       "\n",
       "<tr><td style=\"text-align:left\">C(class_of_workers)[T.Government - Local]</td><td></td><td></td><td></td><td>-0.174<sup>***</sup></td></tr>\n",
       "<tr><td style=\"text-align:left\"></td><td></td><td></td><td></td><td>(0.036)</td></tr>\n",
       "<tr><td style=\"text-align:left\">C(class_of_workers)[T.Government - State]</td><td></td><td></td><td></td><td>-0.256<sup>***</sup></td></tr>\n",
       "<tr><td style=\"text-align:left\"></td><td></td><td></td><td></td><td>(0.036)</td></tr>\n",
       "<tr><td style=\"text-align:left\">C(class_of_workers)[T.Private, For Profit]</td><td></td><td></td><td></td><td>-0.125<sup>***</sup></td></tr>\n",
       "<tr><td style=\"text-align:left\"></td><td></td><td></td><td></td><td>(0.030)</td></tr>\n",
       "<tr><td style=\"text-align:left\">C(class_of_workers)[T.Private, Nonprofit]</td><td></td><td></td><td></td><td>-0.186<sup>***</sup></td></tr>\n",
       "<tr><td style=\"text-align:left\"></td><td></td><td></td><td></td><td>(0.034)</td></tr>\n",
       "<tr><td style=\"text-align:left\">C(grade92)[T.40]</td><td>-0.017<sup></sup></td><td>0.033<sup></sup></td><td>-0.107<sup></sup></td><td>-0.108<sup></sup></td></tr>\n",
       "<tr><td style=\"text-align:left\"></td><td>(0.027)</td><td>(0.026)</td><td>(0.095)</td><td>(0.096)</td></tr>\n",
       "<tr><td style=\"text-align:left\">C(grade92)[T.40]:C(sex)[T.2]</td><td></td><td></td><td>-0.009<sup></sup></td><td>-0.004<sup></sup></td></tr>\n",
       "<tr><td style=\"text-align:left\"></td><td></td><td></td><td>(0.055)</td><td>(0.055)</td></tr>\n",
       "<tr><td style=\"text-align:left\">C(grade92)[T.41]</td><td>0.031<sup></sup></td><td>0.018<sup></sup></td><td>-0.250<sup>*</sup></td><td>-0.259<sup>**</sup></td></tr>\n",
       "<tr><td style=\"text-align:left\"></td><td>(0.034)</td><td>(0.032)</td><td>(0.131)</td><td>(0.129)</td></tr>\n",
       "<tr><td style=\"text-align:left\">C(grade92)[T.41]:C(sex)[T.2]</td><td></td><td></td><td>-0.062<sup></sup></td><td>-0.062<sup></sup></td></tr>\n",
       "<tr><td style=\"text-align:left\"></td><td></td><td></td><td>(0.068)</td><td>(0.068)</td></tr>\n",
       "<tr><td style=\"text-align:left\">C(grade92)[T.42]</td><td>0.010<sup></sup></td><td>0.014<sup></sup></td><td>0.179<sup></sup></td><td>0.165<sup></sup></td></tr>\n",
       "<tr><td style=\"text-align:left\"></td><td>(0.039)</td><td>(0.039)</td><td>(0.159)</td><td>(0.159)</td></tr>\n",
       "<tr><td style=\"text-align:left\">C(grade92)[T.42]:C(sex)[T.2]</td><td></td><td></td><td>-0.079<sup></sup></td><td>-0.075<sup></sup></td></tr>\n",
       "<tr><td style=\"text-align:left\"></td><td></td><td></td><td>(0.072)</td><td>(0.072)</td></tr>\n",
       "<tr><td style=\"text-align:left\">C(grade92)[T.43]</td><td>0.308<sup>***</sup></td><td>0.358<sup>***</sup></td><td>0.298<sup>***</sup></td><td>0.300<sup>***</sup></td></tr>\n",
       "<tr><td style=\"text-align:left\"></td><td>(0.021)</td><td>(0.021)</td><td>(0.078)</td><td>(0.078)</td></tr>\n",
       "<tr><td style=\"text-align:left\">C(grade92)[T.43]:C(sex)[T.2]</td><td></td><td></td><td>-0.039<sup></sup></td><td>-0.032<sup></sup></td></tr>\n",
       "<tr><td style=\"text-align:left\"></td><td></td><td></td><td>(0.047)</td><td>(0.047)</td></tr>\n",
       "<tr><td style=\"text-align:left\">C(grade92)[T.44]</td><td>0.453<sup>***</sup></td><td>0.470<sup>***</sup></td><td>0.575<sup>***</sup></td><td>0.576<sup>***</sup></td></tr>\n",
       "<tr><td style=\"text-align:left\"></td><td>(0.026)</td><td>(0.026)</td><td>(0.097)</td><td>(0.097)</td></tr>\n",
       "<tr><td style=\"text-align:left\">C(grade92)[T.44]:C(sex)[T.2]</td><td></td><td></td><td>-0.082<sup></sup></td><td>-0.074<sup></sup></td></tr>\n",
       "<tr><td style=\"text-align:left\"></td><td></td><td></td><td>(0.055)</td><td>(0.055)</td></tr>\n",
       "<tr><td style=\"text-align:left\">C(lfsr94)[T.Employed-At Work]</td><td></td><td></td><td></td><td>0.001<sup></sup></td></tr>\n",
       "<tr><td style=\"text-align:left\"></td><td></td><td></td><td></td><td>(0.039)</td></tr>\n",
       "<tr><td style=\"text-align:left\">C(marital)[T.2]</td><td></td><td></td><td>-0.036<sup>***</sup></td><td>-0.029<sup>*</sup></td></tr>\n",
       "<tr><td style=\"text-align:left\"></td><td></td><td></td><td>(0.014)</td><td>(0.015)</td></tr>\n",
       "<tr><td style=\"text-align:left\">C(sex)[T.2]</td><td></td><td></td><td>-0.131<sup>***</sup></td><td>-0.131<sup>***</sup></td></tr>\n",
       "<tr><td style=\"text-align:left\"></td><td></td><td></td><td>(0.044)</td><td>(0.044)</td></tr>\n",
       "<tr><td style=\"text-align:left\">C(unionmme)[T.Yes]</td><td></td><td></td><td></td><td>0.053<sup></sup></td></tr>\n",
       "<tr><td style=\"text-align:left\"></td><td></td><td></td><td></td><td>(0.034)</td></tr>\n",
       "<tr><td style=\"text-align:left\">Intercept</td><td>3.011<sup>***</sup></td><td>-0.076<sup></sup></td><td>1.690<sup>***</sup></td><td>1.856<sup>***</sup></td></tr>\n",
       "<tr><td style=\"text-align:left\"></td><td>(0.019)</td><td>(0.297)</td><td>(0.111)</td><td>(0.120)</td></tr>\n",
       "<tr><td style=\"text-align:left\">age</td><td></td><td>0.186<sup>***</sup></td><td>0.060<sup>***</sup></td><td>0.057<sup>***</sup></td></tr>\n",
       "<tr><td style=\"text-align:left\"></td><td></td><td>(0.023)</td><td>(0.005)</td><td>(0.005)</td></tr>\n",
       "<tr><td style=\"text-align:left\">age:C(grade92)[T.40]</td><td></td><td></td><td>0.003<sup></sup></td><td>0.003<sup></sup></td></tr>\n",
       "<tr><td style=\"text-align:left\"></td><td></td><td></td><td>(0.002)</td><td>(0.002)</td></tr>\n",
       "<tr><td style=\"text-align:left\">age:C(grade92)[T.41]</td><td></td><td></td><td>0.007<sup>***</sup></td><td>0.007<sup>***</sup></td></tr>\n",
       "<tr><td style=\"text-align:left\"></td><td></td><td></td><td>(0.003)</td><td>(0.003)</td></tr>\n",
       "<tr><td style=\"text-align:left\">age:C(grade92)[T.42]</td><td></td><td></td><td>-0.002<sup></sup></td><td>-0.002<sup></sup></td></tr>\n",
       "<tr><td style=\"text-align:left\"></td><td></td><td></td><td>(0.004)</td><td>(0.004)</td></tr>\n",
       "<tr><td style=\"text-align:left\">age:C(grade92)[T.43]</td><td></td><td></td><td>0.002<sup></sup></td><td>0.001<sup></sup></td></tr>\n",
       "<tr><td style=\"text-align:left\"></td><td></td><td></td><td>(0.002)</td><td>(0.002)</td></tr>\n",
       "<tr><td style=\"text-align:left\">age:C(grade92)[T.44]</td><td></td><td></td><td>-0.002<sup></sup></td><td>-0.002<sup></sup></td></tr>\n",
       "<tr><td style=\"text-align:left\"></td><td></td><td></td><td>(0.002)</td><td>(0.002)</td></tr>\n",
       "<tr><td style=\"text-align:left\">agecu</td><td></td><td>0.000<sup>***</sup></td><td></td><td></td></tr>\n",
       "<tr><td style=\"text-align:left\"></td><td></td><td>(0.000)</td><td></td><td></td></tr>\n",
       "<tr><td style=\"text-align:left\">agesq</td><td></td><td>-0.004<sup>***</sup></td><td>-0.001<sup>***</sup></td><td>-0.001<sup>***</sup></td></tr>\n",
       "<tr><td style=\"text-align:left\"></td><td></td><td>(0.001)</td><td>(0.000)</td><td>(0.000)</td></tr>\n",
       "<tr><td style=\"text-align:left\">ownchild</td><td></td><td></td><td></td><td>0.013<sup>*</sup></td></tr>\n",
       "<tr><td style=\"text-align:left\"></td><td></td><td></td><td></td><td>(0.007)</td></tr>\n",
       "\n",
       "<td colspan=\"5\" style=\"border-bottom: 1px solid black\"></td></tr>\n",
       "<tr><td style=\"text-align: left\">Observations</td><td>7128</td><td>7128</td><td>7128</td><td>7128</td></tr><tr><td style=\"text-align: left\">R<sup>2</sup></td><td>0.081</td><td>0.153</td><td>0.172</td><td>0.179</td></tr><tr><td style=\"text-align: left\">Adjusted R<sup>2</sup></td><td>0.080</td><td>0.152</td><td>0.170</td><td>0.176</td></tr><tr><td style=\"text-align: left\">Residual Std. Error</td><td>0.579 (df=7122)</td><td>0.556 (df=7119)</td><td>0.550 (df=7108)</td><td>0.548 (df=7101)</td></tr><tr><td style=\"text-align: left\">F Statistic</td><td>125.483<sup>***</sup> (df=5; 7122)</td><td>181.490<sup>***</sup> (df=8; 7119)</td><td>104.244<sup>***</sup> (df=19; 7108)</td><td>79.526<sup>***</sup> (df=26; 7101)</td></tr>\n",
       "<tr><td style=\"text-align: left\">BIC</td><td>12493.03</td><td>11934.69</td><td>11871.64</td><td>11877.81</td></tr><tr><td colspan=\"5\" style=\"border-bottom: 1px solid black\"></td></tr><tr><td style=\"text-align: left\">Note:</td><td colspan=\"4\" style=\"text-align: right\"><sup>*</sup>p&lt;0.1; <sup>**</sup>p&lt;0.05; <sup>***</sup>p&lt;0.01</td></tr></table>"
      ],
      "text/plain": [
       "<stargazer.stargazer.Stargazer at 0x246c66cd290>"
      ]
     },
     "execution_count": 57,
     "metadata": {},
     "output_type": "execute_result"
    }
   ],
   "source": [
    "bic = [round(x.bic, 2) for x in [model1,model2,model3,model4]]\n",
    "sg = stargazer.Stargazer([model1,model2,model3,model4])\n",
    "sg.add_line('BIC', bic, location=stargazer.LineLocation.FOOTER_BOTTOM)\n",
    "sg"
   ]
  },
  {
   "cell_type": "markdown",
   "id": "a8d7a712",
   "metadata": {},
   "source": [
    "Model 3 has the lowest value, and Model4 also has slightly higher yet very close BIC value. The less complex model should be chosen in case of close or similar BIC values.In our case, less complex model is Model3. As complexity of model increases, the model becomes overfitted and it is likely to have higher RMSE in live/test data. Model2 is also a potential candidate for selection. BIC value and adjusted $R^2$ of Model2 are not to far from Model3 and Model4. Further analysis may reveal Model2 to be a better candidate. For now, Model3 seems as a better choice."
   ]
  },
  {
   "cell_type": "markdown",
   "id": "adcc5980",
   "metadata": {},
   "source": [
    "##### Calculate RMSE in full sample for all models"
   ]
  },
  {
   "cell_type": "code",
   "execution_count": 58,
   "id": "7d47f799",
   "metadata": {},
   "outputs": [
    {
     "data": {
      "text/plain": [
       "0.5495594540380019"
      ]
     },
     "execution_count": 58,
     "metadata": {},
     "output_type": "execute_result"
    }
   ],
   "source": [
    "rmse(model3.fittedvalues,final_df.ln_earnings_per_hour)"
   ]
  },
  {
   "cell_type": "code",
   "execution_count": 59,
   "id": "eaa36fad",
   "metadata": {},
   "outputs": [],
   "source": [
    "# Calculate RMSE for each model\n",
    "rmse_model1 = rmse(model1.fittedvalues,final_df.ln_earnings_per_hour)\n",
    "rmse_model2 = rmse(model2.fittedvalues,final_df.ln_earnings_per_hour)\n",
    "rmse_model3 = rmse(model3.fittedvalues,final_df.ln_earnings_per_hour)\n",
    "rmse_model4 = rmse(model4.fittedvalues,final_df.ln_earnings_per_hour)\n",
    "\n",
    "# Create a DataFrame for the results\n",
    "results_df = pd.DataFrame({\n",
    "    'Model': ['Model 1', 'Model 2', 'Model 3', 'Model 4'],\n",
    "    'RMSE': [rmse_model1, rmse_model2, rmse_model3, rmse_model4]\n",
    "})"
   ]
  },
  {
   "cell_type": "code",
   "execution_count": 60,
   "id": "39fd7995",
   "metadata": {},
   "outputs": [
    {
     "name": "stdout",
     "output_type": "stream",
     "text": [
      "+---------+--------------------+\n",
      "|  Model  |        RMSE        |\n",
      "+---------+--------------------+\n",
      "| Model 1 | 0.5790669228324277 |\n",
      "| Model 2 | 0.5557871554935848 |\n",
      "| Model 3 | 0.5495594540380019 |\n",
      "| Model 4 | 0.5474075336349078 |\n",
      "+---------+--------------------+\n"
     ]
    }
   ],
   "source": [
    "from prettytable import PrettyTable\n",
    "\n",
    "table = PrettyTable()\n",
    "table.field_names = results_df.columns\n",
    "\n",
    "for row in results_df.values:\n",
    "    table.add_row(row)\n",
    "\n",
    "print(table)"
   ]
  },
  {
   "cell_type": "markdown",
   "id": "cf5d8054",
   "metadata": {},
   "source": [
    "RMSE in full sample (train data) decreases (lowest in Model4) as we add more variables. Although it is a desired pattern, we should worry about potential overfitting. Although RMSE in Model4 is slightly lower than Model3, the difference is not big. We can still go for Model3."
   ]
  },
  {
   "cell_type": "markdown",
   "id": "29ffb9d1",
   "metadata": {},
   "source": [
    "##### Cross-validated RMSEs"
   ]
  },
  {
   "cell_type": "code",
   "execution_count": 61,
   "id": "e4242b70",
   "metadata": {},
   "outputs": [],
   "source": [
    "from sklearn.model_selection import KFold\n",
    "k = KFold(n_splits=4, shuffle=False, random_state=None)"
   ]
  },
  {
   "cell_type": "code",
   "execution_count": 62,
   "id": "094323f5",
   "metadata": {},
   "outputs": [],
   "source": [
    "### Cross validate OLS with combining sklearn k-fold cross validation and statsmodels ols formula\n",
    "\n",
    "def cv_reg(formula, data, kfold, robustse=None):\n",
    "    regression_list = []\n",
    "    predicts_on_test = []\n",
    "    rsquared = []\n",
    "    rmse_list = []\n",
    "\n",
    "    # Calculating OLS for each fold\n",
    "\n",
    "    for train_index, test_index in k.split(data):\n",
    "        # print(\"TRAIN:\", train_index, \"TEST:\", test_index)\n",
    "        data_train, data_test = data.iloc[train_index, :], data.iloc[test_index, :]\n",
    "        if robustse is None:\n",
    "            model = smf.ols(formula, data=data_train).fit()\n",
    "        else:\n",
    "            model = smf.ols(formula, data=data_train).fit(cov_type=robustse)\n",
    "        regression_list += [model]\n",
    "        predicts_on_test += [model.predict(data_test)]\n",
    "        rsquared += [model.rsquared]\n",
    "        rmse_list += [rmse(data_train[formula.split(\"~\")[0]], model.predict())]\n",
    "\n",
    "    return {\n",
    "        \"regressions\": regression_list,\n",
    "        \"test_predict\": predicts_on_test,\n",
    "        \"r2\": rsquared,\n",
    "        \"rmse\": rmse_list,\n",
    "    }\n",
    "\n",
    "\n",
    "def summarize_cv(cvlist, stat=\"rmse\"):\n",
    "    result = pd.DataFrame(\n",
    "        {\"Model\" + str(x + 1): cvlist[x][stat] for x in range(len(cv_list))}\n",
    "    )\n",
    "    result[\"Resample\"] = [\"Fold\" + str(x + 1) for x in range(len(cvlist[0][\"rmse\"]))]\n",
    "    result = result.set_index(\"Resample\")\n",
    "    result = pd.concat([result, pd.DataFrame(result.mean(), columns=[\"Average\"]).T])\n",
    "    return result"
   ]
  },
  {
   "cell_type": "code",
   "execution_count": 63,
   "id": "ccefb4da",
   "metadata": {},
   "outputs": [],
   "source": [
    "cv1 = cv_reg(\"ln_earnings_per_hour~C(grade92)\", final_df, k, \"HC0\")\n",
    "cv2 = cv_reg(\"ln_earnings_per_hour~C(grade92) + age + agesq\", final_df, k, \"HC0\")\n",
    "cv3 = cv_reg(\"ln_earnings_per_hour~C(grade92) + age + agesq + C(sex) + C(marital) + age*C(grade92) + C(grade92)*C(sex)\", \n",
    "             final_df, k, \"HC0\",)\n",
    "cv4 = cv_reg(\n",
    "    \"ln_earnings_per_hour~C(grade92) + age + agesq + C(sex) + C(marital) + age*C(grade92) + C(grade92)*C(sex)\\\n",
    "                            + ownchild + C(class_of_workers) + C(unionmme) + C(lfsr94)\",\n",
    "    final_df,\n",
    "    k,\n",
    "    \"HC0\",\n",
    ")\n",
    "\n",
    "cv_list = [cv1, cv2, cv3, cv4]"
   ]
  },
  {
   "cell_type": "code",
   "execution_count": 64,
   "id": "4109c8c1",
   "metadata": {},
   "outputs": [
    {
     "data": {
      "text/html": [
       "<div>\n",
       "<style scoped>\n",
       "    .dataframe tbody tr th:only-of-type {\n",
       "        vertical-align: middle;\n",
       "    }\n",
       "\n",
       "    .dataframe tbody tr th {\n",
       "        vertical-align: top;\n",
       "    }\n",
       "\n",
       "    .dataframe thead th {\n",
       "        text-align: right;\n",
       "    }\n",
       "</style>\n",
       "<table border=\"1\" class=\"dataframe\">\n",
       "  <thead>\n",
       "    <tr style=\"text-align: right;\">\n",
       "      <th></th>\n",
       "      <th>Model1</th>\n",
       "      <th>Model2</th>\n",
       "      <th>Model3</th>\n",
       "      <th>Model4</th>\n",
       "    </tr>\n",
       "  </thead>\n",
       "  <tbody>\n",
       "    <tr>\n",
       "      <th>Fold1</th>\n",
       "      <td>0.583009</td>\n",
       "      <td>0.562409</td>\n",
       "      <td>0.554767</td>\n",
       "      <td>0.553274</td>\n",
       "    </tr>\n",
       "    <tr>\n",
       "      <th>Fold2</th>\n",
       "      <td>0.562889</td>\n",
       "      <td>0.540126</td>\n",
       "      <td>0.532534</td>\n",
       "      <td>0.529771</td>\n",
       "    </tr>\n",
       "    <tr>\n",
       "      <th>Fold3</th>\n",
       "      <td>0.582322</td>\n",
       "      <td>0.560039</td>\n",
       "      <td>0.553407</td>\n",
       "      <td>0.550609</td>\n",
       "    </tr>\n",
       "    <tr>\n",
       "      <th>Fold4</th>\n",
       "      <td>0.587461</td>\n",
       "      <td>0.564192</td>\n",
       "      <td>0.555693</td>\n",
       "      <td>0.553780</td>\n",
       "    </tr>\n",
       "    <tr>\n",
       "      <th>Average</th>\n",
       "      <td>0.578920</td>\n",
       "      <td>0.556691</td>\n",
       "      <td>0.549100</td>\n",
       "      <td>0.546858</td>\n",
       "    </tr>\n",
       "  </tbody>\n",
       "</table>\n",
       "</div>"
      ],
      "text/plain": [
       "           Model1    Model2    Model3    Model4\n",
       "Fold1    0.583009  0.562409  0.554767  0.553274\n",
       "Fold2    0.562889  0.540126  0.532534  0.529771\n",
       "Fold3    0.582322  0.560039  0.553407  0.550609\n",
       "Fold4    0.587461  0.564192  0.555693  0.553780\n",
       "Average  0.578920  0.556691  0.549100  0.546858"
      ]
     },
     "execution_count": 64,
     "metadata": {},
     "output_type": "execute_result"
    }
   ],
   "source": [
    "# Print summary of cross-validated RMSEs of all 4 models\n",
    "summarize_cv(cv_list)"
   ]
  },
  {
   "cell_type": "code",
   "execution_count": 65,
   "id": "d6672995",
   "metadata": {},
   "outputs": [
    {
     "data": {
      "image/png": "[encoded data removed]",
      "text/plain": [
       "<Figure size 800x600 with 1 Axes>"
      ]
     },
     "metadata": {
      "image/png": {
       "height": 600,
       "width": 800
      }
     },
     "output_type": "display_data"
    }
   ],
   "source": [
    "# Plott cross-validated RMSEs\n",
    "plt.figure(figsize=(8, 6))\n",
    "plt.plot(['Model 1','Model 2','Model 3','Model 4'], [0.578920, 0.556691, 0.549100, 0.546858] , color='skyblue') # used average RMSEs of CV\n",
    "plt.xlabel('Models')\n",
    "plt.ylabel('RMSE')\n",
    "plt.title('Model Complexity vs RMSE')\n",
    "plt.show()"
   ]
  },
  {
   "cell_type": "markdown",
   "id": "5a20d4ea",
   "metadata": {},
   "source": [
    "Results are not very different from the full-sample RMSE. Although Model4 gives lowest RMSE, since the difference is too small, we can select Model3 as best performing model."
   ]
  },
  {
   "cell_type": "markdown",
   "id": "bc033adb",
   "metadata": {},
   "source": [
    "Although full-sample and cross-validated RMSEs are signalling more complex models, we should check prediction intervals to see which one gives narrower intervals."
   ]
  },
  {
   "cell_type": "code",
   "execution_count": 80,
   "id": "baf68851",
   "metadata": {},
   "outputs": [],
   "source": [
    "new = pd.DataFrame(pd.Series({\n",
    "    \"stfips\":'WY',\n",
    "    \"grade92\":43,\n",
    "    \"age\":30,\n",
    "    \"sex\":2,\n",
    "    \"marital\":1,\n",
    "    \"ownchild\":3,\n",
    "    \"class_of_workers\":'Private, Nonprofit',\n",
    "    \"unionmme\":'No',\n",
    "    \"lfsr94\":'Employed-At Work',\n",
    "    \"earnings_per_hour\":np.nan,\n",
    "    \"ln_earnings_per_hour\":np.nan,\n",
    "    \"agesq\":30**2,\n",
    "    \"agecu\":30**3,\n",
    "    \n",
    "})).T"
   ]
  },
  {
   "cell_type": "code",
   "execution_count": 82,
   "id": "03ea5928",
   "metadata": {},
   "outputs": [
    {
     "data": {
      "text/html": [
       "<div>\n",
       "<style scoped>\n",
       "    .dataframe tbody tr th:only-of-type {\n",
       "        vertical-align: middle;\n",
       "    }\n",
       "\n",
       "    .dataframe tbody tr th {\n",
       "        vertical-align: top;\n",
       "    }\n",
       "\n",
       "    .dataframe thead th {\n",
       "        text-align: right;\n",
       "    }\n",
       "</style>\n",
       "<table border=\"1\" class=\"dataframe\">\n",
       "  <thead>\n",
       "    <tr style=\"text-align: right;\">\n",
       "      <th></th>\n",
       "      <th>stfips</th>\n",
       "      <th>grade92</th>\n",
       "      <th>age</th>\n",
       "      <th>sex</th>\n",
       "      <th>marital</th>\n",
       "      <th>ownchild</th>\n",
       "      <th>class_of_workers</th>\n",
       "      <th>unionmme</th>\n",
       "      <th>lfsr94</th>\n",
       "      <th>earnings_per_hour</th>\n",
       "      <th>ln_earnings_per_hour</th>\n",
       "      <th>agesq</th>\n",
       "      <th>agecu</th>\n",
       "    </tr>\n",
       "  </thead>\n",
       "  <tbody>\n",
       "    <tr>\n",
       "      <th>0</th>\n",
       "      <td>WY</td>\n",
       "      <td>43</td>\n",
       "      <td>30</td>\n",
       "      <td>2</td>\n",
       "      <td>1</td>\n",
       "      <td>3</td>\n",
       "      <td>Private, Nonprofit</td>\n",
       "      <td>No</td>\n",
       "      <td>Employed-At Work</td>\n",
       "      <td>NaN</td>\n",
       "      <td>NaN</td>\n",
       "      <td>900</td>\n",
       "      <td>27000</td>\n",
       "    </tr>\n",
       "  </tbody>\n",
       "</table>\n",
       "</div>"
      ],
      "text/plain": [
       "  stfips  grade92  age  sex  marital  ownchild    class_of_workers unionmme  \\\n",
       "0     WY       43   30    2        1         3  Private, Nonprofit       No   \n",
       "\n",
       "             lfsr94 earnings_per_hour ln_earnings_per_hour  agesq  agecu  \n",
       "0  Employed-At Work               NaN                  NaN    900  27000  "
      ]
     },
     "execution_count": 82,
     "metadata": {},
     "output_type": "execute_result"
    }
   ],
   "source": [
    "# Specify the desired data types for each column\n",
    "desired_types = {\n",
    "    'stfips': str,     # Change to str\n",
    "    'grade92': int,   # Change to int\n",
    "    'age': int,\n",
    "    'sex': int,\n",
    "    'marital': int,\n",
    "    'ownchild': int,\n",
    "    \"class_of_workers\": str,\n",
    "    \"unionmme\": str,\n",
    "    \"lfsr94\": str,\n",
    "    \"agesq\": int,\n",
    "    \"agecu\": int\n",
    "    \n",
    "}\n",
    "\n",
    "# Convert each column to the desired data type\n",
    "new = new.astype(desired_types)\n",
    "new"
   ]
  },
  {
   "cell_type": "code",
   "execution_count": 84,
   "id": "5e3832b3",
   "metadata": {},
   "outputs": [],
   "source": [
    "p1=model1.get_prediction(new).summary_frame()\n",
    "p2=model2.get_prediction(new).summary_frame()\n",
    "p3=model3.get_prediction(new).summary_frame()\n",
    "p4=model4.get_prediction(new).summary_frame()"
   ]
  },
  {
   "cell_type": "code",
   "execution_count": 85,
   "id": "b075dd99",
   "metadata": {},
   "outputs": [
    {
     "data": {
      "text/html": [
       "<div>\n",
       "<style scoped>\n",
       "    .dataframe tbody tr th:only-of-type {\n",
       "        vertical-align: middle;\n",
       "    }\n",
       "\n",
       "    .dataframe tbody tr th {\n",
       "        vertical-align: top;\n",
       "    }\n",
       "\n",
       "    .dataframe thead th {\n",
       "        text-align: right;\n",
       "    }\n",
       "</style>\n",
       "<table border=\"1\" class=\"dataframe\">\n",
       "  <thead>\n",
       "    <tr style=\"text-align: right;\">\n",
       "      <th></th>\n",
       "      <th>Model1</th>\n",
       "      <th>Model2</th>\n",
       "      <th>Model3</th>\n",
       "      <th>Model4</th>\n",
       "    </tr>\n",
       "    <tr>\n",
       "      <th></th>\n",
       "      <th></th>\n",
       "      <th></th>\n",
       "      <th></th>\n",
       "      <th></th>\n",
       "    </tr>\n",
       "  </thead>\n",
       "  <tbody>\n",
       "    <tr>\n",
       "      <th>Predicted</th>\n",
       "      <td>3.318954</td>\n",
       "      <td>3.224374</td>\n",
       "      <td>3.224374</td>\n",
       "      <td>3.224374</td>\n",
       "    </tr>\n",
       "    <tr>\n",
       "      <th>PI_low(95%)</th>\n",
       "      <td>2.183378</td>\n",
       "      <td>2.134112</td>\n",
       "      <td>2.134112</td>\n",
       "      <td>2.134112</td>\n",
       "    </tr>\n",
       "    <tr>\n",
       "      <th>PI_high(95%)</th>\n",
       "      <td>4.454530</td>\n",
       "      <td>4.314636</td>\n",
       "      <td>4.314636</td>\n",
       "      <td>4.314636</td>\n",
       "    </tr>\n",
       "  </tbody>\n",
       "</table>\n",
       "</div>"
      ],
      "text/plain": [
       "                Model1    Model2    Model3    Model4\n",
       "                                                    \n",
       "Predicted     3.318954  3.224374  3.224374  3.224374\n",
       "PI_low(95%)   2.183378  2.134112  2.134112  2.134112\n",
       "PI_high(95%)  4.454530  4.314636  4.314636  4.314636"
      ]
     },
     "execution_count": 85,
     "metadata": {},
     "output_type": "execute_result"
    }
   ],
   "source": [
    "pd.DataFrame(\n",
    "    {\n",
    "        \" \": [\"Predicted\", \"PI_low(95%)\", \"PI_high(95%)\"],\n",
    "        \"Model1\": p1[[\"mean\", \"obs_ci_lower\", \"obs_ci_upper\"]].values.tolist()[0],\n",
    "        \"Model2\": p2[[\"mean\", \"obs_ci_lower\", \"obs_ci_upper\"]].values.tolist()[0],\n",
    "        \"Model3\": p2[[\"mean\", \"obs_ci_lower\", \"obs_ci_upper\"]].values.tolist()[0],\n",
    "        \"Model4\": p2[[\"mean\", \"obs_ci_lower\", \"obs_ci_upper\"]].values.tolist()[0],\n",
    "    }\n",
    ").set_index(\" \")"
   ]
  },
  {
   "cell_type": "markdown",
   "id": "1eaa2650",
   "metadata": {},
   "source": [
    "The simplest model (Model 1) has the highest 95 % prediction interval. THe other three models has same and slightly narrower prediction intervals."
   ]
  },
  {
   "cell_type": "markdown",
   "id": "52aa464a",
   "metadata": {},
   "source": [
    "### Conclusion"
   ]
  },
  {
   "cell_type": "markdown",
   "id": "ca7137b5",
   "metadata": {},
   "source": [
    "We started our analyis with an earnings data which has many qualitative variables and a few quantitative variables. We applied EDA and Feature Engineering and used our domain knowledge to prepate estimation model. In modelling part, we started with a simpler model and compared with more complex regression models. It turned out that, increasing explanatory variables included in the model improves the model performance but this is not unlimited. There is an optimal complexity level for regression models. A one step further of this analysis would be to compare RMSEs from test/live data."
   ]
  }
 ],
 "metadata": {
  "kernelspec": {
   "display_name": "Python 3 (ipykernel)",
   "language": "python",
   "name": "python3"
  },
  "language_info": {
   "codemirror_mode": {
    "name": "ipython",
    "version": 3
   },
   "file_extension": ".py",
   "mimetype": "text/x-python",
   "name": "python",
   "nbconvert_exporter": "python",
   "pygments_lexer": "ipython3",
   "version": "3.11.5"
  }
 },
 "nbformat": 4,
 "nbformat_minor": 5
}
